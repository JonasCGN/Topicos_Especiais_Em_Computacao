{
 "cells": [
  {
   "cell_type": "code",
   "execution_count": 89,
   "id": "7c0b3b7d",
   "metadata": {},
   "outputs": [
    {
     "name": "stdout",
     "output_type": "stream",
     "text": [
      "Note: you may need to restart the kernel to use updated packages.\n"
     ]
    },
    {
     "name": "stderr",
     "output_type": "stream",
     "text": [
      "\n",
      "[notice] A new release of pip is available: 25.1.1 -> 25.2\n",
      "[notice] To update, run: python.exe -m pip install --upgrade pip\n"
     ]
    }
   ],
   "source": [
    "%pip install -r requirements.txt --quiet"
   ]
  },
  {
   "cell_type": "code",
   "execution_count": 90,
   "id": "34bec0ca",
   "metadata": {},
   "outputs": [],
   "source": [
    "import os\n",
    "import pandas as pd\n",
    "import zipfile\n",
    "import matplotlib.pyplot as plt\n",
    "import seaborn as sns\n",
    "import sklearn"
   ]
  },
  {
   "cell_type": "code",
   "execution_count": 91,
   "id": "0d231b8a",
   "metadata": {},
   "outputs": [],
   "source": [
    "os.makedirs('dataset', exist_ok=True)\n",
    "figsize = (5, 4)"
   ]
  },
  {
   "cell_type": "code",
   "execution_count": 92,
   "id": "7cecc6c1",
   "metadata": {},
   "outputs": [],
   "source": [
    "if not os.path.exists('./dataset/titanic-dataset.zip'):\n",
    "  !curl -L -o ./dataset/titanic-dataset.zip https://www.kaggle.com/api/v1/datasets/download/yasserh/titanic-dataset"
   ]
  },
  {
   "cell_type": "markdown",
   "id": "003312fa",
   "metadata": {},
   "source": [
    "# Descompactar os datasets"
   ]
  },
  {
   "cell_type": "code",
   "execution_count": 93,
   "id": "dab3f14d",
   "metadata": {},
   "outputs": [],
   "source": [
    "with zipfile.ZipFile('./dataset/titanic-dataset.zip', 'r') as zip_ref:\n",
    "  zip_ref.extractall('./dataset')"
   ]
  },
  {
   "cell_type": "markdown",
   "id": "ccb27721",
   "metadata": {},
   "source": [
    "# Explorer"
   ]
  },
  {
   "cell_type": "code",
   "execution_count": 94,
   "id": "292c7598",
   "metadata": {},
   "outputs": [
    {
     "data": {
      "application/vnd.microsoft.datawrangler.viewer.v0+json": {
       "columns": [
        {
         "name": "index",
         "rawType": "int64",
         "type": "integer"
        },
        {
         "name": "PassengerId",
         "rawType": "int64",
         "type": "integer"
        },
        {
         "name": "Survived",
         "rawType": "int64",
         "type": "integer"
        },
        {
         "name": "Pclass",
         "rawType": "int64",
         "type": "integer"
        },
        {
         "name": "Name",
         "rawType": "object",
         "type": "string"
        },
        {
         "name": "Sex",
         "rawType": "object",
         "type": "string"
        },
        {
         "name": "Age",
         "rawType": "float64",
         "type": "float"
        },
        {
         "name": "SibSp",
         "rawType": "int64",
         "type": "integer"
        },
        {
         "name": "Parch",
         "rawType": "int64",
         "type": "integer"
        },
        {
         "name": "Ticket",
         "rawType": "object",
         "type": "string"
        },
        {
         "name": "Fare",
         "rawType": "float64",
         "type": "float"
        },
        {
         "name": "Cabin",
         "rawType": "object",
         "type": "unknown"
        },
        {
         "name": "Embarked",
         "rawType": "object",
         "type": "string"
        }
       ],
       "ref": "d173c8d0-2e7f-4927-aa1c-6d395fa9f524",
       "rows": [
        [
         "0",
         "1",
         "0",
         "3",
         "Braund, Mr. Owen Harris",
         "male",
         "22.0",
         "1",
         "0",
         "A/5 21171",
         "7.25",
         null,
         "S"
        ],
        [
         "1",
         "2",
         "1",
         "1",
         "Cumings, Mrs. John Bradley (Florence Briggs Thayer)",
         "female",
         "38.0",
         "1",
         "0",
         "PC 17599",
         "71.2833",
         "C85",
         "C"
        ],
        [
         "2",
         "3",
         "1",
         "3",
         "Heikkinen, Miss. Laina",
         "female",
         "26.0",
         "0",
         "0",
         "STON/O2. 3101282",
         "7.925",
         null,
         "S"
        ],
        [
         "3",
         "4",
         "1",
         "1",
         "Futrelle, Mrs. Jacques Heath (Lily May Peel)",
         "female",
         "35.0",
         "1",
         "0",
         "113803",
         "53.1",
         "C123",
         "S"
        ],
        [
         "4",
         "5",
         "0",
         "3",
         "Allen, Mr. William Henry",
         "male",
         "35.0",
         "0",
         "0",
         "373450",
         "8.05",
         null,
         "S"
        ]
       ],
       "shape": {
        "columns": 12,
        "rows": 5
       }
      },
      "text/html": [
       "<div>\n",
       "<style scoped>\n",
       "    .dataframe tbody tr th:only-of-type {\n",
       "        vertical-align: middle;\n",
       "    }\n",
       "\n",
       "    .dataframe tbody tr th {\n",
       "        vertical-align: top;\n",
       "    }\n",
       "\n",
       "    .dataframe thead th {\n",
       "        text-align: right;\n",
       "    }\n",
       "</style>\n",
       "<table border=\"1\" class=\"dataframe\">\n",
       "  <thead>\n",
       "    <tr style=\"text-align: right;\">\n",
       "      <th></th>\n",
       "      <th>PassengerId</th>\n",
       "      <th>Survived</th>\n",
       "      <th>Pclass</th>\n",
       "      <th>Name</th>\n",
       "      <th>Sex</th>\n",
       "      <th>Age</th>\n",
       "      <th>SibSp</th>\n",
       "      <th>Parch</th>\n",
       "      <th>Ticket</th>\n",
       "      <th>Fare</th>\n",
       "      <th>Cabin</th>\n",
       "      <th>Embarked</th>\n",
       "    </tr>\n",
       "  </thead>\n",
       "  <tbody>\n",
       "    <tr>\n",
       "      <th>0</th>\n",
       "      <td>1</td>\n",
       "      <td>0</td>\n",
       "      <td>3</td>\n",
       "      <td>Braund, Mr. Owen Harris</td>\n",
       "      <td>male</td>\n",
       "      <td>22.0</td>\n",
       "      <td>1</td>\n",
       "      <td>0</td>\n",
       "      <td>A/5 21171</td>\n",
       "      <td>7.2500</td>\n",
       "      <td>NaN</td>\n",
       "      <td>S</td>\n",
       "    </tr>\n",
       "    <tr>\n",
       "      <th>1</th>\n",
       "      <td>2</td>\n",
       "      <td>1</td>\n",
       "      <td>1</td>\n",
       "      <td>Cumings, Mrs. John Bradley (Florence Briggs Th...</td>\n",
       "      <td>female</td>\n",
       "      <td>38.0</td>\n",
       "      <td>1</td>\n",
       "      <td>0</td>\n",
       "      <td>PC 17599</td>\n",
       "      <td>71.2833</td>\n",
       "      <td>C85</td>\n",
       "      <td>C</td>\n",
       "    </tr>\n",
       "    <tr>\n",
       "      <th>2</th>\n",
       "      <td>3</td>\n",
       "      <td>1</td>\n",
       "      <td>3</td>\n",
       "      <td>Heikkinen, Miss. Laina</td>\n",
       "      <td>female</td>\n",
       "      <td>26.0</td>\n",
       "      <td>0</td>\n",
       "      <td>0</td>\n",
       "      <td>STON/O2. 3101282</td>\n",
       "      <td>7.9250</td>\n",
       "      <td>NaN</td>\n",
       "      <td>S</td>\n",
       "    </tr>\n",
       "    <tr>\n",
       "      <th>3</th>\n",
       "      <td>4</td>\n",
       "      <td>1</td>\n",
       "      <td>1</td>\n",
       "      <td>Futrelle, Mrs. Jacques Heath (Lily May Peel)</td>\n",
       "      <td>female</td>\n",
       "      <td>35.0</td>\n",
       "      <td>1</td>\n",
       "      <td>0</td>\n",
       "      <td>113803</td>\n",
       "      <td>53.1000</td>\n",
       "      <td>C123</td>\n",
       "      <td>S</td>\n",
       "    </tr>\n",
       "    <tr>\n",
       "      <th>4</th>\n",
       "      <td>5</td>\n",
       "      <td>0</td>\n",
       "      <td>3</td>\n",
       "      <td>Allen, Mr. William Henry</td>\n",
       "      <td>male</td>\n",
       "      <td>35.0</td>\n",
       "      <td>0</td>\n",
       "      <td>0</td>\n",
       "      <td>373450</td>\n",
       "      <td>8.0500</td>\n",
       "      <td>NaN</td>\n",
       "      <td>S</td>\n",
       "    </tr>\n",
       "  </tbody>\n",
       "</table>\n",
       "</div>"
      ],
      "text/plain": [
       "   PassengerId  Survived  Pclass  \\\n",
       "0            1         0       3   \n",
       "1            2         1       1   \n",
       "2            3         1       3   \n",
       "3            4         1       1   \n",
       "4            5         0       3   \n",
       "\n",
       "                                                Name     Sex   Age  SibSp  \\\n",
       "0                            Braund, Mr. Owen Harris    male  22.0      1   \n",
       "1  Cumings, Mrs. John Bradley (Florence Briggs Th...  female  38.0      1   \n",
       "2                             Heikkinen, Miss. Laina  female  26.0      0   \n",
       "3       Futrelle, Mrs. Jacques Heath (Lily May Peel)  female  35.0      1   \n",
       "4                           Allen, Mr. William Henry    male  35.0      0   \n",
       "\n",
       "   Parch            Ticket     Fare Cabin Embarked  \n",
       "0      0         A/5 21171   7.2500   NaN        S  \n",
       "1      0          PC 17599  71.2833   C85        C  \n",
       "2      0  STON/O2. 3101282   7.9250   NaN        S  \n",
       "3      0            113803  53.1000  C123        S  \n",
       "4      0            373450   8.0500   NaN        S  "
      ]
     },
     "execution_count": 94,
     "metadata": {},
     "output_type": "execute_result"
    }
   ],
   "source": [
    "df = pd.read_csv('./dataset/Titanic-Dataset.csv')\n",
    "df.head()"
   ]
  },
  {
   "cell_type": "code",
   "execution_count": 95,
   "id": "abf33c9a",
   "metadata": {},
   "outputs": [
    {
     "data": {
      "application/vnd.microsoft.datawrangler.viewer.v0+json": {
       "columns": [
        {
         "name": "index",
         "rawType": "object",
         "type": "string"
        },
        {
         "name": "0",
         "rawType": "object",
         "type": "unknown"
        }
       ],
       "ref": "790d9b11-6d66-4207-b392-ada352f005ba",
       "rows": [
        [
         "PassengerId",
         "int64"
        ],
        [
         "Survived",
         "int64"
        ],
        [
         "Pclass",
         "int64"
        ],
        [
         "Name",
         "object"
        ],
        [
         "Sex",
         "object"
        ],
        [
         "Age",
         "float64"
        ],
        [
         "SibSp",
         "int64"
        ],
        [
         "Parch",
         "int64"
        ],
        [
         "Ticket",
         "object"
        ],
        [
         "Fare",
         "float64"
        ],
        [
         "Cabin",
         "object"
        ],
        [
         "Embarked",
         "object"
        ]
       ],
       "shape": {
        "columns": 1,
        "rows": 12
       }
      },
      "text/plain": [
       "PassengerId      int64\n",
       "Survived         int64\n",
       "Pclass           int64\n",
       "Name            object\n",
       "Sex             object\n",
       "Age            float64\n",
       "SibSp            int64\n",
       "Parch            int64\n",
       "Ticket          object\n",
       "Fare           float64\n",
       "Cabin           object\n",
       "Embarked        object\n",
       "dtype: object"
      ]
     },
     "execution_count": 95,
     "metadata": {},
     "output_type": "execute_result"
    }
   ],
   "source": [
    "df.dtypes "
   ]
  },
  {
   "cell_type": "code",
   "execution_count": 96,
   "id": "5d719c66",
   "metadata": {},
   "outputs": [
    {
     "data": {
      "application/vnd.microsoft.datawrangler.viewer.v0+json": {
       "columns": [
        {
         "name": "index",
         "rawType": "object",
         "type": "string"
        },
        {
         "name": "PassengerId",
         "rawType": "float64",
         "type": "float"
        },
        {
         "name": "Survived",
         "rawType": "float64",
         "type": "float"
        },
        {
         "name": "Pclass",
         "rawType": "float64",
         "type": "float"
        },
        {
         "name": "Age",
         "rawType": "float64",
         "type": "float"
        },
        {
         "name": "SibSp",
         "rawType": "float64",
         "type": "float"
        },
        {
         "name": "Parch",
         "rawType": "float64",
         "type": "float"
        },
        {
         "name": "Fare",
         "rawType": "float64",
         "type": "float"
        }
       ],
       "ref": "9273c2d2-5236-45ef-b33a-5b363bf3e6fa",
       "rows": [
        [
         "count",
         "891.0",
         "891.0",
         "891.0",
         "714.0",
         "891.0",
         "891.0",
         "891.0"
        ],
        [
         "mean",
         "446.0",
         "0.3838383838383838",
         "2.308641975308642",
         "29.69911764705882",
         "0.5230078563411896",
         "0.38159371492704824",
         "32.204207968574636"
        ],
        [
         "std",
         "257.3538420152301",
         "0.4865924542648575",
         "0.836071240977049",
         "14.526497332334042",
         "1.1027434322934317",
         "0.8060572211299483",
         "49.6934285971809"
        ],
        [
         "min",
         "1.0",
         "0.0",
         "1.0",
         "0.42",
         "0.0",
         "0.0",
         "0.0"
        ],
        [
         "25%",
         "223.5",
         "0.0",
         "2.0",
         "20.125",
         "0.0",
         "0.0",
         "7.9104"
        ],
        [
         "50%",
         "446.0",
         "0.0",
         "3.0",
         "28.0",
         "0.0",
         "0.0",
         "14.4542"
        ],
        [
         "75%",
         "668.5",
         "1.0",
         "3.0",
         "38.0",
         "1.0",
         "0.0",
         "31.0"
        ],
        [
         "max",
         "891.0",
         "1.0",
         "3.0",
         "80.0",
         "8.0",
         "6.0",
         "512.3292"
        ]
       ],
       "shape": {
        "columns": 7,
        "rows": 8
       }
      },
      "text/html": [
       "<div>\n",
       "<style scoped>\n",
       "    .dataframe tbody tr th:only-of-type {\n",
       "        vertical-align: middle;\n",
       "    }\n",
       "\n",
       "    .dataframe tbody tr th {\n",
       "        vertical-align: top;\n",
       "    }\n",
       "\n",
       "    .dataframe thead th {\n",
       "        text-align: right;\n",
       "    }\n",
       "</style>\n",
       "<table border=\"1\" class=\"dataframe\">\n",
       "  <thead>\n",
       "    <tr style=\"text-align: right;\">\n",
       "      <th></th>\n",
       "      <th>PassengerId</th>\n",
       "      <th>Survived</th>\n",
       "      <th>Pclass</th>\n",
       "      <th>Age</th>\n",
       "      <th>SibSp</th>\n",
       "      <th>Parch</th>\n",
       "      <th>Fare</th>\n",
       "    </tr>\n",
       "  </thead>\n",
       "  <tbody>\n",
       "    <tr>\n",
       "      <th>count</th>\n",
       "      <td>891.000000</td>\n",
       "      <td>891.000000</td>\n",
       "      <td>891.000000</td>\n",
       "      <td>714.000000</td>\n",
       "      <td>891.000000</td>\n",
       "      <td>891.000000</td>\n",
       "      <td>891.000000</td>\n",
       "    </tr>\n",
       "    <tr>\n",
       "      <th>mean</th>\n",
       "      <td>446.000000</td>\n",
       "      <td>0.383838</td>\n",
       "      <td>2.308642</td>\n",
       "      <td>29.699118</td>\n",
       "      <td>0.523008</td>\n",
       "      <td>0.381594</td>\n",
       "      <td>32.204208</td>\n",
       "    </tr>\n",
       "    <tr>\n",
       "      <th>std</th>\n",
       "      <td>257.353842</td>\n",
       "      <td>0.486592</td>\n",
       "      <td>0.836071</td>\n",
       "      <td>14.526497</td>\n",
       "      <td>1.102743</td>\n",
       "      <td>0.806057</td>\n",
       "      <td>49.693429</td>\n",
       "    </tr>\n",
       "    <tr>\n",
       "      <th>min</th>\n",
       "      <td>1.000000</td>\n",
       "      <td>0.000000</td>\n",
       "      <td>1.000000</td>\n",
       "      <td>0.420000</td>\n",
       "      <td>0.000000</td>\n",
       "      <td>0.000000</td>\n",
       "      <td>0.000000</td>\n",
       "    </tr>\n",
       "    <tr>\n",
       "      <th>25%</th>\n",
       "      <td>223.500000</td>\n",
       "      <td>0.000000</td>\n",
       "      <td>2.000000</td>\n",
       "      <td>20.125000</td>\n",
       "      <td>0.000000</td>\n",
       "      <td>0.000000</td>\n",
       "      <td>7.910400</td>\n",
       "    </tr>\n",
       "    <tr>\n",
       "      <th>50%</th>\n",
       "      <td>446.000000</td>\n",
       "      <td>0.000000</td>\n",
       "      <td>3.000000</td>\n",
       "      <td>28.000000</td>\n",
       "      <td>0.000000</td>\n",
       "      <td>0.000000</td>\n",
       "      <td>14.454200</td>\n",
       "    </tr>\n",
       "    <tr>\n",
       "      <th>75%</th>\n",
       "      <td>668.500000</td>\n",
       "      <td>1.000000</td>\n",
       "      <td>3.000000</td>\n",
       "      <td>38.000000</td>\n",
       "      <td>1.000000</td>\n",
       "      <td>0.000000</td>\n",
       "      <td>31.000000</td>\n",
       "    </tr>\n",
       "    <tr>\n",
       "      <th>max</th>\n",
       "      <td>891.000000</td>\n",
       "      <td>1.000000</td>\n",
       "      <td>3.000000</td>\n",
       "      <td>80.000000</td>\n",
       "      <td>8.000000</td>\n",
       "      <td>6.000000</td>\n",
       "      <td>512.329200</td>\n",
       "    </tr>\n",
       "  </tbody>\n",
       "</table>\n",
       "</div>"
      ],
      "text/plain": [
       "       PassengerId    Survived      Pclass         Age       SibSp  \\\n",
       "count   891.000000  891.000000  891.000000  714.000000  891.000000   \n",
       "mean    446.000000    0.383838    2.308642   29.699118    0.523008   \n",
       "std     257.353842    0.486592    0.836071   14.526497    1.102743   \n",
       "min       1.000000    0.000000    1.000000    0.420000    0.000000   \n",
       "25%     223.500000    0.000000    2.000000   20.125000    0.000000   \n",
       "50%     446.000000    0.000000    3.000000   28.000000    0.000000   \n",
       "75%     668.500000    1.000000    3.000000   38.000000    1.000000   \n",
       "max     891.000000    1.000000    3.000000   80.000000    8.000000   \n",
       "\n",
       "            Parch        Fare  \n",
       "count  891.000000  891.000000  \n",
       "mean     0.381594   32.204208  \n",
       "std      0.806057   49.693429  \n",
       "min      0.000000    0.000000  \n",
       "25%      0.000000    7.910400  \n",
       "50%      0.000000   14.454200  \n",
       "75%      0.000000   31.000000  \n",
       "max      6.000000  512.329200  "
      ]
     },
     "execution_count": 96,
     "metadata": {},
     "output_type": "execute_result"
    }
   ],
   "source": [
    "df.describe()"
   ]
  },
  {
   "cell_type": "markdown",
   "id": "54674c86",
   "metadata": {},
   "source": [
    "# Valores ausentes"
   ]
  },
  {
   "cell_type": "code",
   "execution_count": 97,
   "id": "da2dad94",
   "metadata": {},
   "outputs": [
    {
     "data": {
      "application/vnd.microsoft.datawrangler.viewer.v0+json": {
       "columns": [
        {
         "name": "index",
         "rawType": "object",
         "type": "string"
        },
        {
         "name": "0",
         "rawType": "int64",
         "type": "integer"
        }
       ],
       "ref": "cb6a23d1-aa19-461e-8087-6e737182d971",
       "rows": [
        [
         "Cabin",
         "687"
        ],
        [
         "Age",
         "177"
        ],
        [
         "Embarked",
         "2"
        ],
        [
         "PassengerId",
         "0"
        ],
        [
         "Name",
         "0"
        ]
       ],
       "shape": {
        "columns": 1,
        "rows": 5
       }
      },
      "text/plain": [
       "Cabin          687\n",
       "Age            177\n",
       "Embarked         2\n",
       "PassengerId      0\n",
       "Name             0\n",
       "dtype: int64"
      ]
     },
     "execution_count": 97,
     "metadata": {},
     "output_type": "execute_result"
    }
   ],
   "source": [
    "df.isnull().sum().sort_values(ascending=False).head(5)"
   ]
  },
  {
   "cell_type": "code",
   "execution_count": 98,
   "id": "b9529d74",
   "metadata": {},
   "outputs": [
    {
     "data": {
      "image/png": "[encoded data removed]",
      "text/plain": [
       "<Figure size 2000x400 with 4 Axes>"
      ]
     },
     "metadata": {},
     "output_type": "display_data"
    }
   ],
   "source": [
    "df_copy_normal = df.copy()\n",
    "df_copy_mean = df.copy()\n",
    "\n",
    "df_copy_mean['Age'] = df_copy_mean['Age'].fillna(df_copy_mean['Age'].mean())\n",
    "\n",
    "n_rows = 1\n",
    "n_coluns = 4\n",
    "\n",
    "fig, ax = plt.subplots(nrows=n_rows, ncols=n_coluns, figsize=(figsize[0] * n_coluns, figsize[1] * n_rows))\n",
    "\n",
    "sns.histplot(df_copy_normal['Age'].dropna(), kde=True, ax=ax[0])\n",
    "ax[0].set_title('Distribuição de Idade dos Passageiros')\n",
    "ax[0].set_xlabel('Idade')\n",
    "ax[0].set_ylabel('Número de Passageiros')\n",
    "\n",
    "ax[1].boxplot(df_copy_normal['Age'].dropna())\n",
    "ax[1].set_title('Boxplot da Idade dos Passageiros')\n",
    "ax[1].set_xlabel('Idade')\n",
    "\n",
    "sns.histplot(df_copy_mean['Age'], kde=True, ax=ax[2])\n",
    "ax[2].set_title('Distribuição de Idade dos Passageiros (Após Substituição)')\n",
    "ax[2].set_xlabel('Idade')\n",
    "ax[2].set_ylabel('Número de Passageiros')\n",
    "\n",
    "ax[3].boxplot(df_copy_mean['Age'])\n",
    "ax[3].set_title('Boxplot da Idade dos Passageiros (Após Substituição)')\n",
    "ax[3].set_xlabel('Idade')\n",
    "\n",
    "plt.tight_layout()\n",
    "plt.show()"
   ]
  },
  {
   "cell_type": "code",
   "execution_count": 99,
   "id": "6b2b3d12",
   "metadata": {},
   "outputs": [
    {
     "data": {
      "image/png": "[encoded data removed]",
      "text/plain": [
       "<Figure size 2000x400 with 4 Axes>"
      ]
     },
     "metadata": {},
     "output_type": "display_data"
    }
   ],
   "source": [
    "df_copy_normal = df.copy()\n",
    "df_copy_mode = df.copy()\n",
    "\n",
    "df_copy_mode['Cabin'] = df_copy_mode['Cabin'].fillna(df_copy_mode['Cabin'].mode()[0])\n",
    "\n",
    "n_rows = 1\n",
    "n_coluns = 4\n",
    "\n",
    "fig, ax = plt.subplots(nrows=n_rows, ncols=n_coluns, figsize=(figsize[0] * n_coluns, figsize[1] * n_rows))\n",
    "\n",
    "sns.histplot(df_copy_normal['Cabin'], kde=True, ax=ax[0])\n",
    "ax[0].set_title('Distribuição das Cabines ocupadas')\n",
    "ax[0].set_xlabel('Cabine')\n",
    "ax[0].set_ylabel('Número de Passageiros')\n",
    "ax[0].tick_params(axis='x', rotation=90)\n",
    "ax[0].set_xticks([])\n",
    "\n",
    "sns.boxplot(x=df_copy_normal['Cabin'], ax=ax[1])\n",
    "ax[1].set_title('Boxplot das Cabines ocupadas')\n",
    "ax[1].set_xlabel('Cabine')\n",
    "ax[1].set_xticks([])\n",
    "\n",
    "\n",
    "sns.histplot(df_copy_mode['Cabin'], kde=True, ax=ax[2])\n",
    "ax[2].set_title('Distribuição das Cabines ocupadas (Substituição Moda)')\n",
    "ax[2].set_xlabel('Cabine')\n",
    "ax[2].set_ylabel('Número de Passageiros')\n",
    "ax[2].set_xticks([])\n",
    "\n",
    "sns.boxplot(x=df_copy_mode['Cabin'], ax=ax[3])\n",
    "ax[3].set_title('Boxplot das Cabines ocupadas (Substituição Moda)')\n",
    "ax[3].set_xlabel('Cabine')\n",
    "ax[3].set_xticks([])\n",
    "\n",
    "plt.tight_layout()\n",
    "plt.show()"
   ]
  },
  {
   "cell_type": "markdown",
   "id": "0a4d754d",
   "metadata": {},
   "source": [
    "# Prencher valores nulos"
   ]
  },
  {
   "cell_type": "code",
   "execution_count": 100,
   "id": "33404346",
   "metadata": {},
   "outputs": [],
   "source": [
    "df_substitui_null = df.copy()\n",
    "df_substitui_null.fillna({'Age': df['Age'].median(), 'Cabin': df['Cabin'].mode()[0], 'Embarked': df['Embarked'].mode()[0]}, inplace=True)"
   ]
  },
  {
   "cell_type": "markdown",
   "id": "991bdc71",
   "metadata": {},
   "source": [
    "# Valores categóricos"
   ]
  },
  {
   "cell_type": "code",
   "execution_count": 101,
   "id": "0ec324c1",
   "metadata": {},
   "outputs": [
    {
     "data": {
      "image/png": "[encoded data removed]",
      "text/plain": [
       "<Figure size 1500x800 with 6 Axes>"
      ]
     },
     "metadata": {},
     "output_type": "display_data"
    }
   ],
   "source": [
    "import seaborn as sns\n",
    "import matplotlib.pyplot as plt\n",
    "\n",
    "df_convert_categorico = df_substitui_null.copy()\n",
    "\n",
    "colunas_categoricas = ['Survived', 'Pclass', 'Sex', 'SibSp', 'Parch', 'Embarked']\n",
    "colunas_categoricas_replace = ['Sex', 'Embarked']\n",
    "legendas = {}\n",
    "\n",
    "# Guardar o mapeamento original (0->female, 1->male, etc.)\n",
    "for coluna in colunas_categoricas_replace:\n",
    "    cat = df_convert_categorico[coluna].astype('category')\n",
    "    df_convert_categorico[coluna] = cat.cat.codes\n",
    "    legendas[coluna] = dict(enumerate(cat.cat.categories))\n",
    "\n",
    "# 3 x 3\n",
    "n_colunas = 3\n",
    "n_rows = 2\n",
    "figsize = (5, 4)\n",
    "\n",
    "fig, ax = plt.subplots(nrows=n_rows, ncols=n_colunas, figsize=(figsize[0] * n_colunas, figsize[1] * n_rows))\n",
    "ax = ax.flatten()\n",
    "\n",
    "for idx, col in enumerate(colunas_categoricas):\n",
    "    total = len(df_convert_categorico[col])\n",
    "    plot = sns.countplot(data=df_convert_categorico, x=col, ax=ax[idx])\n",
    "    ax[idx].set_title(f'Contagem de {col}')\n",
    "    porcentagens = (df_convert_categorico[col].value_counts(normalize=True) * 100).to_dict()\n",
    "\n",
    "    if col in legendas:\n",
    "        texto_legenda = \"\\n\".join([\n",
    "            f\"{nome} {{{idx_cat}}}: {porcentagens[idx_cat]:.1f}%\"\n",
    "            for idx_cat, nome in legendas[col].items()\n",
    "            if idx_cat in porcentagens\n",
    "        ])\n",
    "    else:\n",
    "        texto_legenda = \"\\n\".join([\n",
    "            f\"{cat}: {pct:.1f}%\"\n",
    "            for cat, pct in porcentagens.items()\n",
    "        ])\n",
    "\n",
    "    ax[idx].text(0.95, 0.95, texto_legenda, transform=ax[idx].transAxes, fontsize=9, va='top', ha='right', bbox=dict(facecolor='white', edgecolor='black', alpha=0.7))\n",
    "\n",
    "plt.tight_layout()\n",
    "plt.show()\n"
   ]
  },
  {
   "cell_type": "markdown",
   "id": "c24712ad",
   "metadata": {},
   "source": [
    "# Outliers Cont"
   ]
  },
  {
   "cell_type": "code",
   "execution_count": 102,
   "id": "3069b21f",
   "metadata": {},
   "outputs": [
    {
     "data": {
      "application/vnd.microsoft.datawrangler.viewer.v0+json": {
       "columns": [
        {
         "name": "index",
         "rawType": "int64",
         "type": "integer"
        },
        {
         "name": "PassengerId",
         "rawType": "int64",
         "type": "integer"
        },
        {
         "name": "Survived",
         "rawType": "int64",
         "type": "integer"
        },
        {
         "name": "Pclass",
         "rawType": "int64",
         "type": "integer"
        },
        {
         "name": "Name",
         "rawType": "object",
         "type": "string"
        },
        {
         "name": "Sex",
         "rawType": "int8",
         "type": "integer"
        },
        {
         "name": "Age",
         "rawType": "float64",
         "type": "float"
        },
        {
         "name": "SibSp",
         "rawType": "int64",
         "type": "integer"
        },
        {
         "name": "Parch",
         "rawType": "int64",
         "type": "integer"
        },
        {
         "name": "Ticket",
         "rawType": "object",
         "type": "string"
        },
        {
         "name": "Fare",
         "rawType": "float64",
         "type": "float"
        },
        {
         "name": "Cabin",
         "rawType": "object",
         "type": "string"
        },
        {
         "name": "Embarked",
         "rawType": "int8",
         "type": "integer"
        }
       ],
       "ref": "b36a0042-aca2-4030-9ada-2cefbb61766e",
       "rows": [
        [
         "0",
         "1",
         "0",
         "3",
         "Braund, Mr. Owen Harris",
         "1",
         "22.0",
         "1",
         "0",
         "A/5 21171",
         "7.25",
         "B96 B98",
         "2"
        ],
        [
         "1",
         "2",
         "1",
         "1",
         "Cumings, Mrs. John Bradley (Florence Briggs Thayer)",
         "0",
         "38.0",
         "1",
         "0",
         "PC 17599",
         "71.2833",
         "C85",
         "0"
        ]
       ],
       "shape": {
        "columns": 12,
        "rows": 2
       }
      },
      "text/html": [
       "<div>\n",
       "<style scoped>\n",
       "    .dataframe tbody tr th:only-of-type {\n",
       "        vertical-align: middle;\n",
       "    }\n",
       "\n",
       "    .dataframe tbody tr th {\n",
       "        vertical-align: top;\n",
       "    }\n",
       "\n",
       "    .dataframe thead th {\n",
       "        text-align: right;\n",
       "    }\n",
       "</style>\n",
       "<table border=\"1\" class=\"dataframe\">\n",
       "  <thead>\n",
       "    <tr style=\"text-align: right;\">\n",
       "      <th></th>\n",
       "      <th>PassengerId</th>\n",
       "      <th>Survived</th>\n",
       "      <th>Pclass</th>\n",
       "      <th>Name</th>\n",
       "      <th>Sex</th>\n",
       "      <th>Age</th>\n",
       "      <th>SibSp</th>\n",
       "      <th>Parch</th>\n",
       "      <th>Ticket</th>\n",
       "      <th>Fare</th>\n",
       "      <th>Cabin</th>\n",
       "      <th>Embarked</th>\n",
       "    </tr>\n",
       "  </thead>\n",
       "  <tbody>\n",
       "    <tr>\n",
       "      <th>0</th>\n",
       "      <td>1</td>\n",
       "      <td>0</td>\n",
       "      <td>3</td>\n",
       "      <td>Braund, Mr. Owen Harris</td>\n",
       "      <td>1</td>\n",
       "      <td>22.0</td>\n",
       "      <td>1</td>\n",
       "      <td>0</td>\n",
       "      <td>A/5 21171</td>\n",
       "      <td>7.2500</td>\n",
       "      <td>B96 B98</td>\n",
       "      <td>2</td>\n",
       "    </tr>\n",
       "    <tr>\n",
       "      <th>1</th>\n",
       "      <td>2</td>\n",
       "      <td>1</td>\n",
       "      <td>1</td>\n",
       "      <td>Cumings, Mrs. John Bradley (Florence Briggs Th...</td>\n",
       "      <td>0</td>\n",
       "      <td>38.0</td>\n",
       "      <td>1</td>\n",
       "      <td>0</td>\n",
       "      <td>PC 17599</td>\n",
       "      <td>71.2833</td>\n",
       "      <td>C85</td>\n",
       "      <td>0</td>\n",
       "    </tr>\n",
       "  </tbody>\n",
       "</table>\n",
       "</div>"
      ],
      "text/plain": [
       "   PassengerId  Survived  Pclass  \\\n",
       "0            1         0       3   \n",
       "1            2         1       1   \n",
       "\n",
       "                                                Name  Sex   Age  SibSp  Parch  \\\n",
       "0                            Braund, Mr. Owen Harris    1  22.0      1      0   \n",
       "1  Cumings, Mrs. John Bradley (Florence Briggs Th...    0  38.0      1      0   \n",
       "\n",
       "      Ticket     Fare    Cabin  Embarked  \n",
       "0  A/5 21171   7.2500  B96 B98         2  \n",
       "1   PC 17599  71.2833      C85         0  "
      ]
     },
     "execution_count": 102,
     "metadata": {},
     "output_type": "execute_result"
    }
   ],
   "source": [
    "df_convert_categorico.head(2)"
   ]
  },
  {
   "cell_type": "code",
   "execution_count": 103,
   "id": "27360a02",
   "metadata": {},
   "outputs": [
    {
     "name": "stdout",
     "output_type": "stream",
     "text": [
      "Outliers na coluna Age: 66\n",
      "Outliers na coluna Fare: 116\n",
      "Outliers na coluna SibSp: 46\n",
      "Outliers na coluna Parch: 213\n"
     ]
    },
    {
     "data": {
      "image/png": "[encoded data removed]",
      "text/plain": [
       "<Figure size 2000x400 with 4 Axes>"
      ]
     },
     "metadata": {},
     "output_type": "display_data"
    }
   ],
   "source": [
    "df_copy = df_convert_categorico.copy()\n",
    "colunas_numericas = ['Age', 'Fare', 'SibSp', 'Parch']\n",
    "\n",
    "for coluna in colunas_numericas:\n",
    "    Q1 = df_copy[coluna].quantile(0.25)\n",
    "    Q3 = df_copy[coluna].quantile(0.75)\n",
    "    IQR = Q3 - Q1\n",
    "    limite_inferior = Q1 - 1.5 * IQR\n",
    "    limite_superior = Q3 + 1.5 * IQR\n",
    "    outliers = df_copy[(df_copy[coluna] < limite_inferior) | (df_copy[coluna] > limite_superior)]\n",
    "    print(f\"Outliers na coluna {coluna}: {outliers.shape[0]}\")\n",
    "\n",
    "n_colunas = 4\n",
    "n_rows = 1\n",
    "\n",
    "fig, ax = plt.subplots(nrows=n_rows, ncols=n_colunas, figsize=(figsize[0] * n_colunas, figsize[1] * n_rows))\n",
    "for i, coluna in enumerate(colunas_numericas):\n",
    "    sns.boxplot(y=df_copy[coluna], ax=ax[i % n_colunas])\n",
    "    ax[i % n_colunas].set_title(f'Boxplot de {coluna}')\n",
    "\n",
    "plt.tight_layout()\n",
    "plt.show()"
   ]
  },
  {
   "cell_type": "markdown",
   "id": "700d6883",
   "metadata": {},
   "source": [
    "## Taxas de sobrevivencia"
   ]
  },
  {
   "cell_type": "code",
   "execution_count": 104,
   "id": "f60ab368",
   "metadata": {},
   "outputs": [],
   "source": [
    "df_copy = df_convert_categorico.copy()\n",
    "total = df_copy['Survived'].count()"
   ]
  },
  {
   "cell_type": "markdown",
   "id": "1235e0d4",
   "metadata": {},
   "source": [
    "# Enfase no Sexo"
   ]
  },
  {
   "cell_type": "markdown",
   "id": "0f32fe80",
   "metadata": {},
   "source": [
    "## Morte por sexo geral"
   ]
  },
  {
   "cell_type": "code",
   "execution_count": 105,
   "id": "cdf7e6cd",
   "metadata": {},
   "outputs": [
    {
     "data": {
      "application/vnd.microsoft.datawrangler.viewer.v0+json": {
       "columns": [
        {
         "name": "index",
         "rawType": "int64",
         "type": "integer"
        },
        {
         "name": "Survived",
         "rawType": "object",
         "type": "string"
        },
        {
         "name": "Sex",
         "rawType": "object",
         "type": "string"
        },
        {
         "name": "Count",
         "rawType": "int64",
         "type": "integer"
        },
        {
         "name": "porcentagem",
         "rawType": "float64",
         "type": "float"
        }
       ],
       "ref": "170e7883-9c95-47d3-8027-6992fa0034de",
       "rows": [
        [
         "0",
         "Não",
         "Female",
         "81",
         "9.090909090909092"
        ],
        [
         "1",
         "Não",
         "Male",
         "468",
         "52.52525252525253"
        ],
        [
         "2",
         "Sim",
         "Female",
         "233",
         "26.15039281705948"
        ],
        [
         "3",
         "Sim",
         "Male",
         "109",
         "12.2334455667789"
        ]
       ],
       "shape": {
        "columns": 4,
        "rows": 4
       }
      },
      "text/html": [
       "<div>\n",
       "<style scoped>\n",
       "    .dataframe tbody tr th:only-of-type {\n",
       "        vertical-align: middle;\n",
       "    }\n",
       "\n",
       "    .dataframe tbody tr th {\n",
       "        vertical-align: top;\n",
       "    }\n",
       "\n",
       "    .dataframe thead th {\n",
       "        text-align: right;\n",
       "    }\n",
       "</style>\n",
       "<table border=\"1\" class=\"dataframe\">\n",
       "  <thead>\n",
       "    <tr style=\"text-align: right;\">\n",
       "      <th></th>\n",
       "      <th>Survived</th>\n",
       "      <th>Sex</th>\n",
       "      <th>Count</th>\n",
       "      <th>porcentagem</th>\n",
       "    </tr>\n",
       "  </thead>\n",
       "  <tbody>\n",
       "    <tr>\n",
       "      <th>0</th>\n",
       "      <td>Não</td>\n",
       "      <td>Female</td>\n",
       "      <td>81</td>\n",
       "      <td>9.090909</td>\n",
       "    </tr>\n",
       "    <tr>\n",
       "      <th>1</th>\n",
       "      <td>Não</td>\n",
       "      <td>Male</td>\n",
       "      <td>468</td>\n",
       "      <td>52.525253</td>\n",
       "    </tr>\n",
       "    <tr>\n",
       "      <th>2</th>\n",
       "      <td>Sim</td>\n",
       "      <td>Female</td>\n",
       "      <td>233</td>\n",
       "      <td>26.150393</td>\n",
       "    </tr>\n",
       "    <tr>\n",
       "      <th>3</th>\n",
       "      <td>Sim</td>\n",
       "      <td>Male</td>\n",
       "      <td>109</td>\n",
       "      <td>12.233446</td>\n",
       "    </tr>\n",
       "  </tbody>\n",
       "</table>\n",
       "</div>"
      ],
      "text/plain": [
       "  Survived     Sex  Count  porcentagem\n",
       "0      Não  Female     81     9.090909\n",
       "1      Não    Male    468    52.525253\n",
       "2      Sim  Female    233    26.150393\n",
       "3      Sim    Male    109    12.233446"
      ]
     },
     "execution_count": 105,
     "metadata": {},
     "output_type": "execute_result"
    }
   ],
   "source": [
    "sobrevivencia_sex = df_copy.groupby(['Survived', 'Sex']).size()\n",
    "sobrevivencia_sex = sobrevivencia_sex.reset_index(name='Count')\n",
    "sobrevivencia_sex['Sex'] = sobrevivencia_sex['Sex'].map({0: 'Female', 1: 'Male'})\n",
    "sobrevivencia_sex['Survived'] = sobrevivencia_sex['Survived'].map({0: 'Não', 1: 'Sim'})\n",
    "sobrevivencia_sex['porcentagem'] = sobrevivencia_sex['Count'] / total * 100\n",
    "sobrevivencia_sex"
   ]
  },
  {
   "cell_type": "code",
   "execution_count": 106,
   "id": "d8d17017",
   "metadata": {},
   "outputs": [
    {
     "data": {
      "image/png": "[encoded data removed]",
      "text/plain": [
       "<Figure size 500x400 with 1 Axes>"
      ]
     },
     "metadata": {},
     "output_type": "display_data"
    }
   ],
   "source": [
    "fig, ax = plt.subplots(figsize=figsize)\n",
    "sns.barplot(data=sobrevivencia_sex, x='Sex', y='Count', hue='Survived', ax=ax)\n",
    "ax.set_title('Sobrevivência por Passageiros por Sexo')\n",
    "ax.set_ylabel('Número de Passageiros')\n",
    "ax.set_xlabel('Sexo')\n",
    "plt.tight_layout()"
   ]
  },
  {
   "cell_type": "markdown",
   "id": "f9ce8931",
   "metadata": {},
   "source": [
    "## Morte por sexo por Classe social"
   ]
  },
  {
   "cell_type": "code",
   "execution_count": 127,
   "id": "eb03f133",
   "metadata": {},
   "outputs": [
    {
     "data": {
      "application/vnd.microsoft.datawrangler.viewer.v0+json": {
       "columns": [
        {
         "name": "index",
         "rawType": "int64",
         "type": "integer"
        },
        {
         "name": "Survived",
         "rawType": "object",
         "type": "string"
        },
        {
         "name": "Pclass",
         "rawType": "object",
         "type": "string"
        },
        {
         "name": "Count",
         "rawType": "int64",
         "type": "integer"
        }
       ],
       "ref": "69d16222-24ba-4074-b494-5cad518f1df2",
       "rows": [
        [
         "0",
         "Não",
         "1st",
         "80"
        ],
        [
         "1",
         "Não",
         "2nd",
         "97"
        ],
        [
         "2",
         "Não",
         "3rd",
         "372"
        ],
        [
         "3",
         "Sim",
         "1st",
         "136"
        ],
        [
         "4",
         "Sim",
         "2nd",
         "87"
        ],
        [
         "5",
         "Sim",
         "3rd",
         "119"
        ]
       ],
       "shape": {
        "columns": 3,
        "rows": 6
       }
      },
      "text/html": [
       "<div>\n",
       "<style scoped>\n",
       "    .dataframe tbody tr th:only-of-type {\n",
       "        vertical-align: middle;\n",
       "    }\n",
       "\n",
       "    .dataframe tbody tr th {\n",
       "        vertical-align: top;\n",
       "    }\n",
       "\n",
       "    .dataframe thead th {\n",
       "        text-align: right;\n",
       "    }\n",
       "</style>\n",
       "<table border=\"1\" class=\"dataframe\">\n",
       "  <thead>\n",
       "    <tr style=\"text-align: right;\">\n",
       "      <th></th>\n",
       "      <th>Survived</th>\n",
       "      <th>Pclass</th>\n",
       "      <th>Count</th>\n",
       "    </tr>\n",
       "  </thead>\n",
       "  <tbody>\n",
       "    <tr>\n",
       "      <th>0</th>\n",
       "      <td>Não</td>\n",
       "      <td>1st</td>\n",
       "      <td>80</td>\n",
       "    </tr>\n",
       "    <tr>\n",
       "      <th>1</th>\n",
       "      <td>Não</td>\n",
       "      <td>2nd</td>\n",
       "      <td>97</td>\n",
       "    </tr>\n",
       "    <tr>\n",
       "      <th>2</th>\n",
       "      <td>Não</td>\n",
       "      <td>3rd</td>\n",
       "      <td>372</td>\n",
       "    </tr>\n",
       "    <tr>\n",
       "      <th>3</th>\n",
       "      <td>Sim</td>\n",
       "      <td>1st</td>\n",
       "      <td>136</td>\n",
       "    </tr>\n",
       "    <tr>\n",
       "      <th>4</th>\n",
       "      <td>Sim</td>\n",
       "      <td>2nd</td>\n",
       "      <td>87</td>\n",
       "    </tr>\n",
       "    <tr>\n",
       "      <th>5</th>\n",
       "      <td>Sim</td>\n",
       "      <td>3rd</td>\n",
       "      <td>119</td>\n",
       "    </tr>\n",
       "  </tbody>\n",
       "</table>\n",
       "</div>"
      ],
      "text/plain": [
       "  Survived Pclass  Count\n",
       "0      Não    1st     80\n",
       "1      Não    2nd     97\n",
       "2      Não    3rd    372\n",
       "3      Sim    1st    136\n",
       "4      Sim    2nd     87\n",
       "5      Sim    3rd    119"
      ]
     },
     "execution_count": 127,
     "metadata": {},
     "output_type": "execute_result"
    }
   ],
   "source": [
    "sobrevivencia_class = df_copy.groupby(['Survived', 'Pclass']).size()\n",
    "sobrevivencia_class = sobrevivencia_class.reset_index(name='Count')\n",
    "sobrevivencia_class['Pclass'] = sobrevivencia_class['Pclass'].map({1: '1st', 2: '2nd', 3: '3rd'})\n",
    "sobrevivencia_class['Survived'] = sobrevivencia_class['Survived'].map({0: 'Não', 1: 'Sim'})\n",
    "sobrevivencia_class"
   ]
  },
  {
   "cell_type": "code",
   "execution_count": 126,
   "id": "d262f352",
   "metadata": {},
   "outputs": [
    {
     "data": {
      "application/vnd.microsoft.datawrangler.viewer.v0+json": {
       "columns": [
        {
         "name": "index",
         "rawType": "int64",
         "type": "integer"
        },
        {
         "name": "Survived",
         "rawType": "object",
         "type": "string"
        },
        {
         "name": "Pclass",
         "rawType": "object",
         "type": "string"
        },
        {
         "name": "Sex",
         "rawType": "object",
         "type": "string"
        },
        {
         "name": "Count",
         "rawType": "int64",
         "type": "integer"
        }
       ],
       "ref": "cdade04c-c6a0-4064-8ae6-dbce52027261",
       "rows": [
        [
         "0",
         "Não",
         "1st",
         "Female",
         "3"
        ],
        [
         "1",
         "Não",
         "1st",
         "Male",
         "77"
        ],
        [
         "2",
         "Não",
         "2nd",
         "Female",
         "6"
        ],
        [
         "3",
         "Não",
         "2nd",
         "Male",
         "91"
        ],
        [
         "4",
         "Não",
         "3rd",
         "Female",
         "72"
        ],
        [
         "5",
         "Não",
         "3rd",
         "Male",
         "300"
        ],
        [
         "6",
         "Sim",
         "1st",
         "Female",
         "91"
        ],
        [
         "7",
         "Sim",
         "1st",
         "Male",
         "45"
        ],
        [
         "8",
         "Sim",
         "2nd",
         "Female",
         "70"
        ],
        [
         "9",
         "Sim",
         "2nd",
         "Male",
         "17"
        ],
        [
         "10",
         "Sim",
         "3rd",
         "Female",
         "72"
        ],
        [
         "11",
         "Sim",
         "3rd",
         "Male",
         "47"
        ]
       ],
       "shape": {
        "columns": 4,
        "rows": 12
       }
      },
      "text/html": [
       "<div>\n",
       "<style scoped>\n",
       "    .dataframe tbody tr th:only-of-type {\n",
       "        vertical-align: middle;\n",
       "    }\n",
       "\n",
       "    .dataframe tbody tr th {\n",
       "        vertical-align: top;\n",
       "    }\n",
       "\n",
       "    .dataframe thead th {\n",
       "        text-align: right;\n",
       "    }\n",
       "</style>\n",
       "<table border=\"1\" class=\"dataframe\">\n",
       "  <thead>\n",
       "    <tr style=\"text-align: right;\">\n",
       "      <th></th>\n",
       "      <th>Survived</th>\n",
       "      <th>Pclass</th>\n",
       "      <th>Sex</th>\n",
       "      <th>Count</th>\n",
       "    </tr>\n",
       "  </thead>\n",
       "  <tbody>\n",
       "    <tr>\n",
       "      <th>0</th>\n",
       "      <td>Não</td>\n",
       "      <td>1st</td>\n",
       "      <td>Female</td>\n",
       "      <td>3</td>\n",
       "    </tr>\n",
       "    <tr>\n",
       "      <th>1</th>\n",
       "      <td>Não</td>\n",
       "      <td>1st</td>\n",
       "      <td>Male</td>\n",
       "      <td>77</td>\n",
       "    </tr>\n",
       "    <tr>\n",
       "      <th>2</th>\n",
       "      <td>Não</td>\n",
       "      <td>2nd</td>\n",
       "      <td>Female</td>\n",
       "      <td>6</td>\n",
       "    </tr>\n",
       "    <tr>\n",
       "      <th>3</th>\n",
       "      <td>Não</td>\n",
       "      <td>2nd</td>\n",
       "      <td>Male</td>\n",
       "      <td>91</td>\n",
       "    </tr>\n",
       "    <tr>\n",
       "      <th>4</th>\n",
       "      <td>Não</td>\n",
       "      <td>3rd</td>\n",
       "      <td>Female</td>\n",
       "      <td>72</td>\n",
       "    </tr>\n",
       "    <tr>\n",
       "      <th>5</th>\n",
       "      <td>Não</td>\n",
       "      <td>3rd</td>\n",
       "      <td>Male</td>\n",
       "      <td>300</td>\n",
       "    </tr>\n",
       "    <tr>\n",
       "      <th>6</th>\n",
       "      <td>Sim</td>\n",
       "      <td>1st</td>\n",
       "      <td>Female</td>\n",
       "      <td>91</td>\n",
       "    </tr>\n",
       "    <tr>\n",
       "      <th>7</th>\n",
       "      <td>Sim</td>\n",
       "      <td>1st</td>\n",
       "      <td>Male</td>\n",
       "      <td>45</td>\n",
       "    </tr>\n",
       "    <tr>\n",
       "      <th>8</th>\n",
       "      <td>Sim</td>\n",
       "      <td>2nd</td>\n",
       "      <td>Female</td>\n",
       "      <td>70</td>\n",
       "    </tr>\n",
       "    <tr>\n",
       "      <th>9</th>\n",
       "      <td>Sim</td>\n",
       "      <td>2nd</td>\n",
       "      <td>Male</td>\n",
       "      <td>17</td>\n",
       "    </tr>\n",
       "    <tr>\n",
       "      <th>10</th>\n",
       "      <td>Sim</td>\n",
       "      <td>3rd</td>\n",
       "      <td>Female</td>\n",
       "      <td>72</td>\n",
       "    </tr>\n",
       "    <tr>\n",
       "      <th>11</th>\n",
       "      <td>Sim</td>\n",
       "      <td>3rd</td>\n",
       "      <td>Male</td>\n",
       "      <td>47</td>\n",
       "    </tr>\n",
       "  </tbody>\n",
       "</table>\n",
       "</div>"
      ],
      "text/plain": [
       "   Survived Pclass     Sex  Count\n",
       "0       Não    1st  Female      3\n",
       "1       Não    1st    Male     77\n",
       "2       Não    2nd  Female      6\n",
       "3       Não    2nd    Male     91\n",
       "4       Não    3rd  Female     72\n",
       "5       Não    3rd    Male    300\n",
       "6       Sim    1st  Female     91\n",
       "7       Sim    1st    Male     45\n",
       "8       Sim    2nd  Female     70\n",
       "9       Sim    2nd    Male     17\n",
       "10      Sim    3rd  Female     72\n",
       "11      Sim    3rd    Male     47"
      ]
     },
     "execution_count": 126,
     "metadata": {},
     "output_type": "execute_result"
    }
   ],
   "source": [
    "sobrevivencia_class_sex = df_copy.groupby(['Survived', 'Pclass', 'Sex']).size().reset_index(name='Count')\n",
    "sobrevivencia_class_sex['Pclass'] = sobrevivencia_class_sex['Pclass'].map({1: '1st', 2: '2nd', 3: '3rd'})\n",
    "sobrevivencia_class_sex['Survived'] = sobrevivencia_class_sex['Survived'].map({0: 'Não', 1: 'Sim'})\n",
    "sobrevivencia_class_sex['Sex'] = sobrevivencia_class_sex['Sex'].map({0: 'Female', 1: 'Male'})\n",
    "sobrevivencia_class_sex"
   ]
  },
  {
   "cell_type": "code",
   "execution_count": 125,
   "id": "d3aaa528",
   "metadata": {},
   "outputs": [
    {
     "data": {
      "image/png": "[encoded data removed]",
      "text/plain": [
       "<Figure size 1500x400 with 3 Axes>"
      ]
     },
     "metadata": {},
     "output_type": "display_data"
    }
   ],
   "source": [
    "n_coluns = 3\n",
    "n_rows = 1\n",
    "\n",
    "fig, ax = plt.subplots(n_rows, n_coluns, figsize=(figsize[0] * n_coluns, figsize[1] * n_rows))\n",
    "\n",
    "y_max = max(\n",
    "    sobrevivencia_class['Count'].max(),\n",
    "    sobrevivencia_class_sex.query(\"Sex == 'Female'\")['Count'].max(),\n",
    "    sobrevivencia_class_sex.query(\"Sex == 'Male'\")['Count'].max()\n",
    ") + 10\n",
    "\n",
    "plots = [\n",
    "    (sobrevivencia_class, \"Sobrevivência por Passageiros por Classe\", \"Número de Passageiros\"),\n",
    "    (sobrevivencia_class_sex.query(\"Sex == 'Female'\"), \"Sobrevivência por Passageiros por Classe (Mulheres)\", \"\"),\n",
    "    (sobrevivencia_class_sex.query(\"Sex == 'Male'\"), \"Sobrevivência por Passageiros por Classe (Homens)\", \"\")\n",
    "]\n",
    "\n",
    "for i, (data, title, ylabel) in enumerate(plots):\n",
    "    sns.barplot(data=data, x=\"Pclass\", y=\"Count\", hue=\"Survived\", ax=ax[i])\n",
    "    ax[i].set_title(title)\n",
    "    ax[i].set_xlabel(\"Classe\")\n",
    "    ax[i].set_ylabel(ylabel)\n",
    "    ax[i].set_ylim(0, y_max)\n",
    "\n",
    "plt.tight_layout()\n",
    "plt.show()\n"
   ]
  },
  {
   "cell_type": "markdown",
   "id": "80f5e342",
   "metadata": {},
   "source": [
    "## Morte por sexo por parch\n",
    "No. de pais / filhos a bordo do Titanic"
   ]
  },
  {
   "cell_type": "code",
   "execution_count": 63,
   "id": "2afa1502",
   "metadata": {},
   "outputs": [
    {
     "data": {
      "application/vnd.microsoft.datawrangler.viewer.v0+json": {
       "columns": [
        {
         "name": "index",
         "rawType": "int64",
         "type": "integer"
        },
        {
         "name": "Parch",
         "rawType": "int64",
         "type": "integer"
        },
        {
         "name": "Survived",
         "rawType": "object",
         "type": "string"
        },
        {
         "name": "Count",
         "rawType": "int64",
         "type": "integer"
        }
       ],
       "ref": "105ffd11-76ed-4d6e-a27e-e859b3c4688c",
       "rows": [
        [
         "0",
         "0",
         "Não",
         "445"
        ],
        [
         "1",
         "0",
         "Sim",
         "233"
        ],
        [
         "2",
         "1",
         "Não",
         "53"
        ],
        [
         "3",
         "1",
         "Sim",
         "65"
        ],
        [
         "4",
         "2",
         "Não",
         "40"
        ],
        [
         "5",
         "2",
         "Sim",
         "40"
        ],
        [
         "6",
         "3",
         "Não",
         "2"
        ],
        [
         "7",
         "3",
         "Sim",
         "3"
        ],
        [
         "8",
         "4",
         "Não",
         "4"
        ],
        [
         "9",
         "5",
         "Não",
         "4"
        ],
        [
         "10",
         "5",
         "Sim",
         "1"
        ],
        [
         "11",
         "6",
         "Não",
         "1"
        ]
       ],
       "shape": {
        "columns": 3,
        "rows": 12
       }
      },
      "text/html": [
       "<div>\n",
       "<style scoped>\n",
       "    .dataframe tbody tr th:only-of-type {\n",
       "        vertical-align: middle;\n",
       "    }\n",
       "\n",
       "    .dataframe tbody tr th {\n",
       "        vertical-align: top;\n",
       "    }\n",
       "\n",
       "    .dataframe thead th {\n",
       "        text-align: right;\n",
       "    }\n",
       "</style>\n",
       "<table border=\"1\" class=\"dataframe\">\n",
       "  <thead>\n",
       "    <tr style=\"text-align: right;\">\n",
       "      <th></th>\n",
       "      <th>Parch</th>\n",
       "      <th>Survived</th>\n",
       "      <th>Count</th>\n",
       "    </tr>\n",
       "  </thead>\n",
       "  <tbody>\n",
       "    <tr>\n",
       "      <th>0</th>\n",
       "      <td>0</td>\n",
       "      <td>Não</td>\n",
       "      <td>445</td>\n",
       "    </tr>\n",
       "    <tr>\n",
       "      <th>1</th>\n",
       "      <td>0</td>\n",
       "      <td>Sim</td>\n",
       "      <td>233</td>\n",
       "    </tr>\n",
       "    <tr>\n",
       "      <th>2</th>\n",
       "      <td>1</td>\n",
       "      <td>Não</td>\n",
       "      <td>53</td>\n",
       "    </tr>\n",
       "    <tr>\n",
       "      <th>3</th>\n",
       "      <td>1</td>\n",
       "      <td>Sim</td>\n",
       "      <td>65</td>\n",
       "    </tr>\n",
       "    <tr>\n",
       "      <th>4</th>\n",
       "      <td>2</td>\n",
       "      <td>Não</td>\n",
       "      <td>40</td>\n",
       "    </tr>\n",
       "    <tr>\n",
       "      <th>5</th>\n",
       "      <td>2</td>\n",
       "      <td>Sim</td>\n",
       "      <td>40</td>\n",
       "    </tr>\n",
       "    <tr>\n",
       "      <th>6</th>\n",
       "      <td>3</td>\n",
       "      <td>Não</td>\n",
       "      <td>2</td>\n",
       "    </tr>\n",
       "    <tr>\n",
       "      <th>7</th>\n",
       "      <td>3</td>\n",
       "      <td>Sim</td>\n",
       "      <td>3</td>\n",
       "    </tr>\n",
       "    <tr>\n",
       "      <th>8</th>\n",
       "      <td>4</td>\n",
       "      <td>Não</td>\n",
       "      <td>4</td>\n",
       "    </tr>\n",
       "    <tr>\n",
       "      <th>9</th>\n",
       "      <td>5</td>\n",
       "      <td>Não</td>\n",
       "      <td>4</td>\n",
       "    </tr>\n",
       "    <tr>\n",
       "      <th>10</th>\n",
       "      <td>5</td>\n",
       "      <td>Sim</td>\n",
       "      <td>1</td>\n",
       "    </tr>\n",
       "    <tr>\n",
       "      <th>11</th>\n",
       "      <td>6</td>\n",
       "      <td>Não</td>\n",
       "      <td>1</td>\n",
       "    </tr>\n",
       "  </tbody>\n",
       "</table>\n",
       "</div>"
      ],
      "text/plain": [
       "    Parch Survived  Count\n",
       "0       0      Não    445\n",
       "1       0      Sim    233\n",
       "2       1      Não     53\n",
       "3       1      Sim     65\n",
       "4       2      Não     40\n",
       "5       2      Sim     40\n",
       "6       3      Não      2\n",
       "7       3      Sim      3\n",
       "8       4      Não      4\n",
       "9       5      Não      4\n",
       "10      5      Sim      1\n",
       "11      6      Não      1"
      ]
     },
     "execution_count": 63,
     "metadata": {},
     "output_type": "execute_result"
    }
   ],
   "source": [
    "sobrevivencia_parch = df.groupby(['Parch', 'Survived']).size().reset_index(name='Count')\n",
    "sobrevivencia_parch['Survived'] = sobrevivencia_parch['Survived'].map({0: 'Não', 1: 'Sim'})\n",
    "sobrevivencia_parch\n"
   ]
  },
  {
   "cell_type": "code",
   "execution_count": 72,
   "id": "f70cc50a",
   "metadata": {},
   "outputs": [
    {
     "data": {
      "application/vnd.microsoft.datawrangler.viewer.v0+json": {
       "columns": [
        {
         "name": "index",
         "rawType": "int64",
         "type": "integer"
        },
        {
         "name": "Parch",
         "rawType": "int64",
         "type": "integer"
        },
        {
         "name": "Sex",
         "rawType": "object",
         "type": "string"
        },
        {
         "name": "Survived",
         "rawType": "object",
         "type": "string"
        },
        {
         "name": "Count",
         "rawType": "int64",
         "type": "integer"
        }
       ],
       "ref": "eea1542a-b80f-4bc0-b15a-16244a60017d",
       "rows": [
        [
         "0",
         "0",
         "Female",
         "Não",
         "41"
        ],
        [
         "1",
         "0",
         "Female",
         "Sim",
         "153"
        ],
        [
         "2",
         "0",
         "Male",
         "Não",
         "404"
        ],
        [
         "3",
         "0",
         "Male",
         "Sim",
         "80"
        ],
        [
         "4",
         "1",
         "Female",
         "Não",
         "14"
        ],
        [
         "5",
         "1",
         "Female",
         "Sim",
         "46"
        ],
        [
         "6",
         "1",
         "Male",
         "Não",
         "39"
        ],
        [
         "7",
         "1",
         "Male",
         "Sim",
         "19"
        ],
        [
         "8",
         "2",
         "Female",
         "Não",
         "19"
        ],
        [
         "9",
         "2",
         "Female",
         "Sim",
         "30"
        ],
        [
         "10",
         "2",
         "Male",
         "Não",
         "21"
        ],
        [
         "11",
         "2",
         "Male",
         "Sim",
         "10"
        ],
        [
         "12",
         "3",
         "Female",
         "Não",
         "1"
        ],
        [
         "13",
         "3",
         "Female",
         "Sim",
         "3"
        ],
        [
         "14",
         "3",
         "Male",
         "Não",
         "1"
        ],
        [
         "15",
         "4",
         "Female",
         "Não",
         "2"
        ],
        [
         "16",
         "4",
         "Male",
         "Não",
         "2"
        ],
        [
         "17",
         "5",
         "Female",
         "Não",
         "3"
        ],
        [
         "18",
         "5",
         "Female",
         "Sim",
         "1"
        ],
        [
         "19",
         "5",
         "Male",
         "Não",
         "1"
        ],
        [
         "20",
         "6",
         "Female",
         "Não",
         "1"
        ]
       ],
       "shape": {
        "columns": 4,
        "rows": 21
       }
      },
      "text/html": [
       "<div>\n",
       "<style scoped>\n",
       "    .dataframe tbody tr th:only-of-type {\n",
       "        vertical-align: middle;\n",
       "    }\n",
       "\n",
       "    .dataframe tbody tr th {\n",
       "        vertical-align: top;\n",
       "    }\n",
       "\n",
       "    .dataframe thead th {\n",
       "        text-align: right;\n",
       "    }\n",
       "</style>\n",
       "<table border=\"1\" class=\"dataframe\">\n",
       "  <thead>\n",
       "    <tr style=\"text-align: right;\">\n",
       "      <th></th>\n",
       "      <th>Parch</th>\n",
       "      <th>Sex</th>\n",
       "      <th>Survived</th>\n",
       "      <th>Count</th>\n",
       "    </tr>\n",
       "  </thead>\n",
       "  <tbody>\n",
       "    <tr>\n",
       "      <th>0</th>\n",
       "      <td>0</td>\n",
       "      <td>Female</td>\n",
       "      <td>Não</td>\n",
       "      <td>41</td>\n",
       "    </tr>\n",
       "    <tr>\n",
       "      <th>1</th>\n",
       "      <td>0</td>\n",
       "      <td>Female</td>\n",
       "      <td>Sim</td>\n",
       "      <td>153</td>\n",
       "    </tr>\n",
       "    <tr>\n",
       "      <th>2</th>\n",
       "      <td>0</td>\n",
       "      <td>Male</td>\n",
       "      <td>Não</td>\n",
       "      <td>404</td>\n",
       "    </tr>\n",
       "    <tr>\n",
       "      <th>3</th>\n",
       "      <td>0</td>\n",
       "      <td>Male</td>\n",
       "      <td>Sim</td>\n",
       "      <td>80</td>\n",
       "    </tr>\n",
       "    <tr>\n",
       "      <th>4</th>\n",
       "      <td>1</td>\n",
       "      <td>Female</td>\n",
       "      <td>Não</td>\n",
       "      <td>14</td>\n",
       "    </tr>\n",
       "    <tr>\n",
       "      <th>5</th>\n",
       "      <td>1</td>\n",
       "      <td>Female</td>\n",
       "      <td>Sim</td>\n",
       "      <td>46</td>\n",
       "    </tr>\n",
       "    <tr>\n",
       "      <th>6</th>\n",
       "      <td>1</td>\n",
       "      <td>Male</td>\n",
       "      <td>Não</td>\n",
       "      <td>39</td>\n",
       "    </tr>\n",
       "    <tr>\n",
       "      <th>7</th>\n",
       "      <td>1</td>\n",
       "      <td>Male</td>\n",
       "      <td>Sim</td>\n",
       "      <td>19</td>\n",
       "    </tr>\n",
       "    <tr>\n",
       "      <th>8</th>\n",
       "      <td>2</td>\n",
       "      <td>Female</td>\n",
       "      <td>Não</td>\n",
       "      <td>19</td>\n",
       "    </tr>\n",
       "    <tr>\n",
       "      <th>9</th>\n",
       "      <td>2</td>\n",
       "      <td>Female</td>\n",
       "      <td>Sim</td>\n",
       "      <td>30</td>\n",
       "    </tr>\n",
       "    <tr>\n",
       "      <th>10</th>\n",
       "      <td>2</td>\n",
       "      <td>Male</td>\n",
       "      <td>Não</td>\n",
       "      <td>21</td>\n",
       "    </tr>\n",
       "    <tr>\n",
       "      <th>11</th>\n",
       "      <td>2</td>\n",
       "      <td>Male</td>\n",
       "      <td>Sim</td>\n",
       "      <td>10</td>\n",
       "    </tr>\n",
       "    <tr>\n",
       "      <th>12</th>\n",
       "      <td>3</td>\n",
       "      <td>Female</td>\n",
       "      <td>Não</td>\n",
       "      <td>1</td>\n",
       "    </tr>\n",
       "    <tr>\n",
       "      <th>13</th>\n",
       "      <td>3</td>\n",
       "      <td>Female</td>\n",
       "      <td>Sim</td>\n",
       "      <td>3</td>\n",
       "    </tr>\n",
       "    <tr>\n",
       "      <th>14</th>\n",
       "      <td>3</td>\n",
       "      <td>Male</td>\n",
       "      <td>Não</td>\n",
       "      <td>1</td>\n",
       "    </tr>\n",
       "    <tr>\n",
       "      <th>15</th>\n",
       "      <td>4</td>\n",
       "      <td>Female</td>\n",
       "      <td>Não</td>\n",
       "      <td>2</td>\n",
       "    </tr>\n",
       "    <tr>\n",
       "      <th>16</th>\n",
       "      <td>4</td>\n",
       "      <td>Male</td>\n",
       "      <td>Não</td>\n",
       "      <td>2</td>\n",
       "    </tr>\n",
       "    <tr>\n",
       "      <th>17</th>\n",
       "      <td>5</td>\n",
       "      <td>Female</td>\n",
       "      <td>Não</td>\n",
       "      <td>3</td>\n",
       "    </tr>\n",
       "    <tr>\n",
       "      <th>18</th>\n",
       "      <td>5</td>\n",
       "      <td>Female</td>\n",
       "      <td>Sim</td>\n",
       "      <td>1</td>\n",
       "    </tr>\n",
       "    <tr>\n",
       "      <th>19</th>\n",
       "      <td>5</td>\n",
       "      <td>Male</td>\n",
       "      <td>Não</td>\n",
       "      <td>1</td>\n",
       "    </tr>\n",
       "    <tr>\n",
       "      <th>20</th>\n",
       "      <td>6</td>\n",
       "      <td>Female</td>\n",
       "      <td>Não</td>\n",
       "      <td>1</td>\n",
       "    </tr>\n",
       "  </tbody>\n",
       "</table>\n",
       "</div>"
      ],
      "text/plain": [
       "    Parch     Sex Survived  Count\n",
       "0       0  Female      Não     41\n",
       "1       0  Female      Sim    153\n",
       "2       0    Male      Não    404\n",
       "3       0    Male      Sim     80\n",
       "4       1  Female      Não     14\n",
       "5       1  Female      Sim     46\n",
       "6       1    Male      Não     39\n",
       "7       1    Male      Sim     19\n",
       "8       2  Female      Não     19\n",
       "9       2  Female      Sim     30\n",
       "10      2    Male      Não     21\n",
       "11      2    Male      Sim     10\n",
       "12      3  Female      Não      1\n",
       "13      3  Female      Sim      3\n",
       "14      3    Male      Não      1\n",
       "15      4  Female      Não      2\n",
       "16      4    Male      Não      2\n",
       "17      5  Female      Não      3\n",
       "18      5  Female      Sim      1\n",
       "19      5    Male      Não      1\n",
       "20      6  Female      Não      1"
      ]
     },
     "execution_count": 72,
     "metadata": {},
     "output_type": "execute_result"
    }
   ],
   "source": [
    "sobrevivencia_parch_sex = df_copy.groupby(['Parch', 'Sex', 'Survived']).size().reset_index(name='Count')\n",
    "sobrevivencia_parch_sex['Sex'] = sobrevivencia_parch_sex['Sex'].map({0: 'Female', 1: 'Male'})\n",
    "sobrevivencia_parch_sex['Survived'] = sobrevivencia_parch_sex['Survived'].map({0: 'Não', 1: 'Sim'})\n",
    "sobrevivencia_parch_sex"
   ]
  },
  {
   "cell_type": "code",
   "execution_count": 129,
   "id": "89be48e0",
   "metadata": {},
   "outputs": [
    {
     "data": {
      "image/png": "[encoded data removed]",
      "text/plain": [
       "<Figure size 1500x400 with 3 Axes>"
      ]
     },
     "metadata": {},
     "output_type": "display_data"
    }
   ],
   "source": [
    "n_coluns = 3\n",
    "n_rows = 1\n",
    "\n",
    "fig, ax = plt.subplots(n_rows, n_coluns, figsize=(figsize[0] * n_coluns, figsize[1] * n_rows))\n",
    "\n",
    "y_max = max(\n",
    "    sobrevivencia_parch['Count'].max(),\n",
    "    sobrevivencia_parch_sex.query(\"Sex == 'Female'\")['Count'].max(),\n",
    "    sobrevivencia_parch_sex.query(\"Sex == 'Male'\")['Count'].max()\n",
    ") + 10\n",
    "\n",
    "plots = [\n",
    "    (sobrevivencia_parch, \"Sobrevivência por Passageiros por Parch\", \"Número de Passageiros\"),\n",
    "    (sobrevivencia_parch_sex.query(\"Sex == 'Female'\"), \"Sobrevivência por Parch - Mulheres\", \"\"),\n",
    "    (sobrevivencia_parch_sex.query(\"Sex == 'Male'\"), \"Sobrevivência por Parch - Homens\", \"\")\n",
    "]\n",
    "\n",
    "for i, (data, title, ylabel) in enumerate(plots):\n",
    "    sns.barplot(data=data, x=\"Parch\", y=\"Count\", hue=\"Survived\", ax=ax[i])\n",
    "    ax[i].set_title(title)\n",
    "    ax[i].set_xlabel(\"Número de parentes a bordo (Parch)\")\n",
    "    ax[i].set_ylabel(ylabel)\n",
    "    ax[i].set_ylim(0, y_max)\n",
    "    ax[i].legend(title=\"Sobreviveu\")\n",
    "\n",
    "plt.tight_layout()\n",
    "plt.show()"
   ]
  },
  {
   "cell_type": "markdown",
   "id": "2c4fe723",
   "metadata": {},
   "source": [
    "## Morte por sexo por SibSp\n",
    "\n",
    "Número de irmãos/cônjuges a bordo"
   ]
  },
  {
   "cell_type": "code",
   "execution_count": 68,
   "id": "1fdbc709",
   "metadata": {},
   "outputs": [
    {
     "data": {
      "application/vnd.microsoft.datawrangler.viewer.v0+json": {
       "columns": [
        {
         "name": "index",
         "rawType": "int64",
         "type": "integer"
        },
        {
         "name": "SibSp",
         "rawType": "int64",
         "type": "integer"
        },
        {
         "name": "Survived",
         "rawType": "object",
         "type": "string"
        },
        {
         "name": "Count",
         "rawType": "int64",
         "type": "integer"
        }
       ],
       "ref": "6086b748-5897-47d5-be78-576cd74163f6",
       "rows": [
        [
         "0",
         "0",
         "Não",
         "398"
        ],
        [
         "1",
         "0",
         "Sim",
         "210"
        ],
        [
         "2",
         "1",
         "Não",
         "97"
        ],
        [
         "3",
         "1",
         "Sim",
         "112"
        ],
        [
         "4",
         "2",
         "Não",
         "15"
        ],
        [
         "5",
         "2",
         "Sim",
         "13"
        ],
        [
         "6",
         "3",
         "Não",
         "12"
        ],
        [
         "7",
         "3",
         "Sim",
         "4"
        ],
        [
         "8",
         "4",
         "Não",
         "15"
        ],
        [
         "9",
         "4",
         "Sim",
         "3"
        ],
        [
         "10",
         "5",
         "Não",
         "5"
        ],
        [
         "11",
         "8",
         "Não",
         "7"
        ]
       ],
       "shape": {
        "columns": 3,
        "rows": 12
       }
      },
      "text/html": [
       "<div>\n",
       "<style scoped>\n",
       "    .dataframe tbody tr th:only-of-type {\n",
       "        vertical-align: middle;\n",
       "    }\n",
       "\n",
       "    .dataframe tbody tr th {\n",
       "        vertical-align: top;\n",
       "    }\n",
       "\n",
       "    .dataframe thead th {\n",
       "        text-align: right;\n",
       "    }\n",
       "</style>\n",
       "<table border=\"1\" class=\"dataframe\">\n",
       "  <thead>\n",
       "    <tr style=\"text-align: right;\">\n",
       "      <th></th>\n",
       "      <th>SibSp</th>\n",
       "      <th>Survived</th>\n",
       "      <th>Count</th>\n",
       "    </tr>\n",
       "  </thead>\n",
       "  <tbody>\n",
       "    <tr>\n",
       "      <th>0</th>\n",
       "      <td>0</td>\n",
       "      <td>Não</td>\n",
       "      <td>398</td>\n",
       "    </tr>\n",
       "    <tr>\n",
       "      <th>1</th>\n",
       "      <td>0</td>\n",
       "      <td>Sim</td>\n",
       "      <td>210</td>\n",
       "    </tr>\n",
       "    <tr>\n",
       "      <th>2</th>\n",
       "      <td>1</td>\n",
       "      <td>Não</td>\n",
       "      <td>97</td>\n",
       "    </tr>\n",
       "    <tr>\n",
       "      <th>3</th>\n",
       "      <td>1</td>\n",
       "      <td>Sim</td>\n",
       "      <td>112</td>\n",
       "    </tr>\n",
       "    <tr>\n",
       "      <th>4</th>\n",
       "      <td>2</td>\n",
       "      <td>Não</td>\n",
       "      <td>15</td>\n",
       "    </tr>\n",
       "    <tr>\n",
       "      <th>5</th>\n",
       "      <td>2</td>\n",
       "      <td>Sim</td>\n",
       "      <td>13</td>\n",
       "    </tr>\n",
       "    <tr>\n",
       "      <th>6</th>\n",
       "      <td>3</td>\n",
       "      <td>Não</td>\n",
       "      <td>12</td>\n",
       "    </tr>\n",
       "    <tr>\n",
       "      <th>7</th>\n",
       "      <td>3</td>\n",
       "      <td>Sim</td>\n",
       "      <td>4</td>\n",
       "    </tr>\n",
       "    <tr>\n",
       "      <th>8</th>\n",
       "      <td>4</td>\n",
       "      <td>Não</td>\n",
       "      <td>15</td>\n",
       "    </tr>\n",
       "    <tr>\n",
       "      <th>9</th>\n",
       "      <td>4</td>\n",
       "      <td>Sim</td>\n",
       "      <td>3</td>\n",
       "    </tr>\n",
       "    <tr>\n",
       "      <th>10</th>\n",
       "      <td>5</td>\n",
       "      <td>Não</td>\n",
       "      <td>5</td>\n",
       "    </tr>\n",
       "    <tr>\n",
       "      <th>11</th>\n",
       "      <td>8</td>\n",
       "      <td>Não</td>\n",
       "      <td>7</td>\n",
       "    </tr>\n",
       "  </tbody>\n",
       "</table>\n",
       "</div>"
      ],
      "text/plain": [
       "    SibSp Survived  Count\n",
       "0       0      Não    398\n",
       "1       0      Sim    210\n",
       "2       1      Não     97\n",
       "3       1      Sim    112\n",
       "4       2      Não     15\n",
       "5       2      Sim     13\n",
       "6       3      Não     12\n",
       "7       3      Sim      4\n",
       "8       4      Não     15\n",
       "9       4      Sim      3\n",
       "10      5      Não      5\n",
       "11      8      Não      7"
      ]
     },
     "execution_count": 68,
     "metadata": {},
     "output_type": "execute_result"
    }
   ],
   "source": [
    "sobrevivencia_SibSp = df.groupby(['SibSp', 'Survived']).size().reset_index(name='Count')\n",
    "sobrevivencia_SibSp['Survived'] = sobrevivencia_SibSp['Survived'].map({0: 'Não', 1: 'Sim'})\n",
    "sobrevivencia_SibSp"
   ]
  },
  {
   "cell_type": "code",
   "execution_count": 75,
   "id": "24144673",
   "metadata": {},
   "outputs": [
    {
     "data": {
      "application/vnd.microsoft.datawrangler.viewer.v0+json": {
       "columns": [
        {
         "name": "index",
         "rawType": "int64",
         "type": "integer"
        },
        {
         "name": "SibSp",
         "rawType": "int64",
         "type": "integer"
        },
        {
         "name": "Sex",
         "rawType": "object",
         "type": "string"
        },
        {
         "name": "Survived",
         "rawType": "object",
         "type": "string"
        },
        {
         "name": "Count",
         "rawType": "int64",
         "type": "integer"
        }
       ],
       "ref": "455a7e2b-759d-483a-9452-b01b0804b7eb",
       "rows": [
        [
         "0",
         "0",
         "Female",
         "Não",
         "37"
        ],
        [
         "1",
         "0",
         "Female",
         "Sim",
         "137"
        ],
        [
         "2",
         "0",
         "Male",
         "Não",
         "361"
        ],
        [
         "3",
         "0",
         "Male",
         "Sim",
         "73"
        ],
        [
         "4",
         "1",
         "Female",
         "Não",
         "26"
        ],
        [
         "5",
         "1",
         "Female",
         "Sim",
         "80"
        ],
        [
         "6",
         "1",
         "Male",
         "Não",
         "71"
        ],
        [
         "7",
         "1",
         "Male",
         "Sim",
         "32"
        ],
        [
         "8",
         "2",
         "Female",
         "Não",
         "3"
        ],
        [
         "9",
         "2",
         "Female",
         "Sim",
         "10"
        ],
        [
         "10",
         "2",
         "Male",
         "Não",
         "12"
        ],
        [
         "11",
         "2",
         "Male",
         "Sim",
         "3"
        ],
        [
         "12",
         "3",
         "Female",
         "Não",
         "7"
        ],
        [
         "13",
         "3",
         "Female",
         "Sim",
         "4"
        ],
        [
         "14",
         "3",
         "Male",
         "Não",
         "5"
        ],
        [
         "15",
         "4",
         "Female",
         "Não",
         "4"
        ],
        [
         "16",
         "4",
         "Female",
         "Sim",
         "2"
        ],
        [
         "17",
         "4",
         "Male",
         "Não",
         "11"
        ],
        [
         "18",
         "4",
         "Male",
         "Sim",
         "1"
        ],
        [
         "19",
         "5",
         "Female",
         "Não",
         "1"
        ],
        [
         "20",
         "5",
         "Male",
         "Não",
         "4"
        ],
        [
         "21",
         "8",
         "Female",
         "Não",
         "3"
        ],
        [
         "22",
         "8",
         "Male",
         "Não",
         "4"
        ]
       ],
       "shape": {
        "columns": 4,
        "rows": 23
       }
      },
      "text/html": [
       "<div>\n",
       "<style scoped>\n",
       "    .dataframe tbody tr th:only-of-type {\n",
       "        vertical-align: middle;\n",
       "    }\n",
       "\n",
       "    .dataframe tbody tr th {\n",
       "        vertical-align: top;\n",
       "    }\n",
       "\n",
       "    .dataframe thead th {\n",
       "        text-align: right;\n",
       "    }\n",
       "</style>\n",
       "<table border=\"1\" class=\"dataframe\">\n",
       "  <thead>\n",
       "    <tr style=\"text-align: right;\">\n",
       "      <th></th>\n",
       "      <th>SibSp</th>\n",
       "      <th>Sex</th>\n",
       "      <th>Survived</th>\n",
       "      <th>Count</th>\n",
       "    </tr>\n",
       "  </thead>\n",
       "  <tbody>\n",
       "    <tr>\n",
       "      <th>0</th>\n",
       "      <td>0</td>\n",
       "      <td>Female</td>\n",
       "      <td>Não</td>\n",
       "      <td>37</td>\n",
       "    </tr>\n",
       "    <tr>\n",
       "      <th>1</th>\n",
       "      <td>0</td>\n",
       "      <td>Female</td>\n",
       "      <td>Sim</td>\n",
       "      <td>137</td>\n",
       "    </tr>\n",
       "    <tr>\n",
       "      <th>2</th>\n",
       "      <td>0</td>\n",
       "      <td>Male</td>\n",
       "      <td>Não</td>\n",
       "      <td>361</td>\n",
       "    </tr>\n",
       "    <tr>\n",
       "      <th>3</th>\n",
       "      <td>0</td>\n",
       "      <td>Male</td>\n",
       "      <td>Sim</td>\n",
       "      <td>73</td>\n",
       "    </tr>\n",
       "    <tr>\n",
       "      <th>4</th>\n",
       "      <td>1</td>\n",
       "      <td>Female</td>\n",
       "      <td>Não</td>\n",
       "      <td>26</td>\n",
       "    </tr>\n",
       "    <tr>\n",
       "      <th>5</th>\n",
       "      <td>1</td>\n",
       "      <td>Female</td>\n",
       "      <td>Sim</td>\n",
       "      <td>80</td>\n",
       "    </tr>\n",
       "    <tr>\n",
       "      <th>6</th>\n",
       "      <td>1</td>\n",
       "      <td>Male</td>\n",
       "      <td>Não</td>\n",
       "      <td>71</td>\n",
       "    </tr>\n",
       "    <tr>\n",
       "      <th>7</th>\n",
       "      <td>1</td>\n",
       "      <td>Male</td>\n",
       "      <td>Sim</td>\n",
       "      <td>32</td>\n",
       "    </tr>\n",
       "    <tr>\n",
       "      <th>8</th>\n",
       "      <td>2</td>\n",
       "      <td>Female</td>\n",
       "      <td>Não</td>\n",
       "      <td>3</td>\n",
       "    </tr>\n",
       "    <tr>\n",
       "      <th>9</th>\n",
       "      <td>2</td>\n",
       "      <td>Female</td>\n",
       "      <td>Sim</td>\n",
       "      <td>10</td>\n",
       "    </tr>\n",
       "    <tr>\n",
       "      <th>10</th>\n",
       "      <td>2</td>\n",
       "      <td>Male</td>\n",
       "      <td>Não</td>\n",
       "      <td>12</td>\n",
       "    </tr>\n",
       "    <tr>\n",
       "      <th>11</th>\n",
       "      <td>2</td>\n",
       "      <td>Male</td>\n",
       "      <td>Sim</td>\n",
       "      <td>3</td>\n",
       "    </tr>\n",
       "    <tr>\n",
       "      <th>12</th>\n",
       "      <td>3</td>\n",
       "      <td>Female</td>\n",
       "      <td>Não</td>\n",
       "      <td>7</td>\n",
       "    </tr>\n",
       "    <tr>\n",
       "      <th>13</th>\n",
       "      <td>3</td>\n",
       "      <td>Female</td>\n",
       "      <td>Sim</td>\n",
       "      <td>4</td>\n",
       "    </tr>\n",
       "    <tr>\n",
       "      <th>14</th>\n",
       "      <td>3</td>\n",
       "      <td>Male</td>\n",
       "      <td>Não</td>\n",
       "      <td>5</td>\n",
       "    </tr>\n",
       "    <tr>\n",
       "      <th>15</th>\n",
       "      <td>4</td>\n",
       "      <td>Female</td>\n",
       "      <td>Não</td>\n",
       "      <td>4</td>\n",
       "    </tr>\n",
       "    <tr>\n",
       "      <th>16</th>\n",
       "      <td>4</td>\n",
       "      <td>Female</td>\n",
       "      <td>Sim</td>\n",
       "      <td>2</td>\n",
       "    </tr>\n",
       "    <tr>\n",
       "      <th>17</th>\n",
       "      <td>4</td>\n",
       "      <td>Male</td>\n",
       "      <td>Não</td>\n",
       "      <td>11</td>\n",
       "    </tr>\n",
       "    <tr>\n",
       "      <th>18</th>\n",
       "      <td>4</td>\n",
       "      <td>Male</td>\n",
       "      <td>Sim</td>\n",
       "      <td>1</td>\n",
       "    </tr>\n",
       "    <tr>\n",
       "      <th>19</th>\n",
       "      <td>5</td>\n",
       "      <td>Female</td>\n",
       "      <td>Não</td>\n",
       "      <td>1</td>\n",
       "    </tr>\n",
       "    <tr>\n",
       "      <th>20</th>\n",
       "      <td>5</td>\n",
       "      <td>Male</td>\n",
       "      <td>Não</td>\n",
       "      <td>4</td>\n",
       "    </tr>\n",
       "    <tr>\n",
       "      <th>21</th>\n",
       "      <td>8</td>\n",
       "      <td>Female</td>\n",
       "      <td>Não</td>\n",
       "      <td>3</td>\n",
       "    </tr>\n",
       "    <tr>\n",
       "      <th>22</th>\n",
       "      <td>8</td>\n",
       "      <td>Male</td>\n",
       "      <td>Não</td>\n",
       "      <td>4</td>\n",
       "    </tr>\n",
       "  </tbody>\n",
       "</table>\n",
       "</div>"
      ],
      "text/plain": [
       "    SibSp     Sex Survived  Count\n",
       "0       0  Female      Não     37\n",
       "1       0  Female      Sim    137\n",
       "2       0    Male      Não    361\n",
       "3       0    Male      Sim     73\n",
       "4       1  Female      Não     26\n",
       "5       1  Female      Sim     80\n",
       "6       1    Male      Não     71\n",
       "7       1    Male      Sim     32\n",
       "8       2  Female      Não      3\n",
       "9       2  Female      Sim     10\n",
       "10      2    Male      Não     12\n",
       "11      2    Male      Sim      3\n",
       "12      3  Female      Não      7\n",
       "13      3  Female      Sim      4\n",
       "14      3    Male      Não      5\n",
       "15      4  Female      Não      4\n",
       "16      4  Female      Sim      2\n",
       "17      4    Male      Não     11\n",
       "18      4    Male      Sim      1\n",
       "19      5  Female      Não      1\n",
       "20      5    Male      Não      4\n",
       "21      8  Female      Não      3\n",
       "22      8    Male      Não      4"
      ]
     },
     "execution_count": 75,
     "metadata": {},
     "output_type": "execute_result"
    }
   ],
   "source": [
    "sobrevivencia_SibSp_sex = df_copy.groupby(['SibSp', 'Sex', 'Survived']).size().reset_index(name='Count')\n",
    "sobrevivencia_SibSp_sex['Sex'] = sobrevivencia_SibSp_sex['Sex'].map({0: 'Female', 1: 'Male'})\n",
    "sobrevivencia_SibSp_sex['Survived'] = sobrevivencia_SibSp_sex['Survived'].map({0: 'Não', 1: 'Sim'})\n",
    "sobrevivencia_SibSp_sex"
   ]
  },
  {
   "cell_type": "code",
   "execution_count": 131,
   "id": "66803d26",
   "metadata": {},
   "outputs": [
    {
     "data": {
      "image/png": "[encoded data removed]",
      "text/plain": [
       "<Figure size 1500x400 with 3 Axes>"
      ]
     },
     "metadata": {},
     "output_type": "display_data"
    }
   ],
   "source": [
    "n_coluns = 3\n",
    "n_rows = 1\n",
    "\n",
    "fig, ax = plt.subplots(n_rows, n_coluns, figsize=(figsize[0] * n_coluns, figsize[1] * n_rows))\n",
    "\n",
    "y_max = max(\n",
    "    sobrevivencia_SibSp['Count'].max(),\n",
    "    sobrevivencia_SibSp_sex.query(\"Sex == 'Female'\")['Count'].max(),\n",
    "    sobrevivencia_SibSp_sex.query(\"Sex == 'Male'\")['Count'].max()\n",
    ") + 10\n",
    "\n",
    "plots = [\n",
    "    (sobrevivencia_SibSp, \"Sobrevivência por Passageiros por SibSp\", \"Número de Passageiros\"),\n",
    "    (sobrevivencia_SibSp_sex.query(\"Sex == 'Female'\"), \"Sobrevivência por SibSp - Mulheres\", \"\"),\n",
    "    (sobrevivencia_SibSp_sex.query(\"Sex == 'Male'\"), \"Sobrevivência por SibSp - Homens\", \"\")\n",
    "]\n",
    "\n",
    "for i, (data, title, ylabel) in enumerate(plots):\n",
    "    sns.barplot(data=data, x=\"SibSp\", y=\"Count\", hue=\"Survived\", ax=ax[i])\n",
    "    ax[i].set_title(title)\n",
    "    ax[i].set_xlabel(\"Número de irmãos/cônjuges a bordo (SibSp)\")\n",
    "    ax[i].set_ylabel(ylabel)\n",
    "    ax[i].set_ylim(0, y_max)\n",
    "    ax[i].legend(title=\"Sobreviveu\")\n",
    "\n",
    "plt.tight_layout()\n",
    "plt.show()"
   ]
  }
 ],
 "metadata": {
  "kernelspec": {
   "display_name": ".venv (3.13.5)",
   "language": "python",
   "name": "python3"
  },
  "language_info": {
   "codemirror_mode": {
    "name": "ipython",
    "version": 3
   },
   "file_extension": ".py",
   "mimetype": "text/x-python",
   "name": "python",
   "nbconvert_exporter": "python",
   "pygments_lexer": "ipython3",
   "version": "3.13.5"
  }
 },
 "nbformat": 4,
 "nbformat_minor": 5
}
