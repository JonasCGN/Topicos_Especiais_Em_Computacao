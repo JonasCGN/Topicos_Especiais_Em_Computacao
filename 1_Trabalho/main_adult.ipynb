{
 "cells": [
  {
   "cell_type": "code",
   "execution_count": null,
   "id": "7cecc6c1",
   "metadata": {},
   "outputs": [
    {
     "name": "stderr",
     "output_type": "stream",
     "text": [
      "  % Total    % Received % Xferd  Average Speed   Time    Time     Time  Current\n",
      "                                 Dload  Upload   Total   Spent    Left  Speed\n",
      "\n",
      "  0     0    0     0    0     0      0      0 --:--:-- --:--:-- --:--:--     0\n",
      "  0     0    0     0    0     0      0      0 --:--:-- --:--:-- --:--:--     0\n",
      "\n",
      "  2  652k    2 16151    0     0  18857      0  0:00:35 --:--:--  0:00:35 18857\n",
      "100  652k  100  652k    0     0   431k      0  0:00:01  0:00:01 --:--:--  974k\n",
      "  % Total    % Received % Xferd  Average Speed   Time    Time     Time  Current\n",
      "                                 Dload  Upload   Total   Spent    Left  Speed\n",
      "\n",
      "  0     0    0     0    0     0      0      0 --:--:-- --:--:-- --:--:--     0\n",
      "  0     0    0     0    0     0      0      0 --:--:-- --:--:-- --:--:--     0\n",
      "  0     0    0     0    0     0      0      0 --:--:-- --:--:-- --:--:--     0\n",
      "\n",
      "100 22564  100 22564    0     0  27029      0 --:--:-- --:--:-- --:--:-- 27029\n"
     ]
    }
   ],
   "source": [
    "!curl -L -o ./dataset/adult-income-dataset.zip https://www.kaggle.com/api/v1/datasets/download/wenruliu/adult-income-dataset"
   ]
  },
  {
   "cell_type": "markdown",
   "id": "003312fa",
   "metadata": {},
   "source": [
    "# Descompactar os datasets"
   ]
  },
  {
   "cell_type": "code",
   "execution_count": null,
   "id": "dab3f14d",
   "metadata": {},
   "outputs": [],
   "source": []
  },
  {
   "cell_type": "code",
   "execution_count": null,
   "id": "340a1e76",
   "metadata": {},
   "outputs": [],
   "source": []
  }
 ],
 "metadata": {
  "kernelspec": {
   "display_name": "base",
   "language": "python",
   "name": "python3"
  },
  "language_info": {
   "codemirror_mode": {
    "name": "ipython",
    "version": 3
   },
   "file_extension": ".py",
   "mimetype": "text/x-python",
   "name": "python",
   "nbconvert_exporter": "python",
   "pygments_lexer": "ipython3",
   "version": "3.12.7"
  }
 },
 "nbformat": 4,
 "nbformat_minor": 5
}
