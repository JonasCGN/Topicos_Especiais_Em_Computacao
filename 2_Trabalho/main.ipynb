{
 "cells": [
  {
   "cell_type": "code",
   "execution_count": 28,
   "id": "a6b7580b",
   "metadata": {},
   "outputs": [
    {
     "name": "stdout",
     "output_type": "stream",
     "text": [
      "Note: you may need to restart the kernel to use updated packages.\n"
     ]
    },
    {
     "name": "stderr",
     "output_type": "stream",
     "text": [
      "\n",
      "[notice] A new release of pip is available: 25.1.1 -> 25.2\n",
      "[notice] To update, run: python.exe -m pip install --upgrade pip\n"
     ]
    }
   ],
   "source": [
    "%pip install -r requirements.txt -q"
   ]
  },
  {
   "cell_type": "code",
   "execution_count": 29,
   "id": "775873c6",
   "metadata": {},
   "outputs": [],
   "source": [
    "import zipfile\n",
    "import os\n",
    "import pandas as pd\n",
    "import numpy as np\n",
    "import pickle\n",
    "import matplotlib.pyplot as plt\n",
    "\n",
    "from sklearn.preprocessing import StandardScaler\n",
    "from sklearn.linear_model import LogisticRegression, Lasso\n",
    "from sklearn.ensemble import RandomForestClassifier\n",
    "from sklearn.feature_selection import RFE\n",
    "from sklearn.decomposition import PCA\n",
    "from matplotlib_venn import venn3"
   ]
  },
  {
   "cell_type": "code",
   "execution_count": 30,
   "id": "15fd0cd5",
   "metadata": {},
   "outputs": [],
   "source": [
    "os.makedirs('database', exist_ok=True)\n",
    "\n",
    "if not os.path.exists('database/data.rar'):\n",
    "    !curl https://archive.ics.uci.edu/static/public/240/human+activity+recognition+using+smartphones.zip -o database/data.rar\n",
    "\n",
    "if not os.path.exists('database/UCI HAR Dataset.zip'):\n",
    "    with zipfile.ZipFile('database/data.rar', 'r') as zip_ref:\n",
    "        zip_ref.extractall('database/')\n",
    "\n",
    "if not os.path.exists('database/UCI HAR Dataset'):\n",
    "    with zipfile.ZipFile('database/UCI HAR Dataset.zip', 'r') as zip_ref:\n",
    "        zip_ref.extractall('database/')\n"
   ]
  },
  {
   "cell_type": "code",
   "execution_count": 31,
   "id": "bc785ed1",
   "metadata": {},
   "outputs": [],
   "source": [
    "path_labels = './database/UCI HAR Dataset/features.txt'\n",
    "path_categories = './database/UCI HAR Dataset/activity_labels.txt'\n",
    "path_x_train = './database/UCI HAR Dataset/train/X_train.txt'\n",
    "path_y_train = './database/UCI HAR Dataset/train/y_train.txt'\n",
    "path_x_test = './database/UCI HAR Dataset/test/X_test.txt'\n",
    "path_y_test = './database/UCI HAR Dataset/test/y_test.txt'"
   ]
  },
  {
   "cell_type": "markdown",
   "id": "6ea70c86",
   "metadata": {},
   "source": [
    "# Treinamento e Test"
   ]
  },
  {
   "cell_type": "code",
   "execution_count": 32,
   "id": "406b6246",
   "metadata": {},
   "outputs": [
    {
     "data": {
      "text/plain": [
       "(561, 7352, 7352, 2947, 2947, 6)"
      ]
     },
     "execution_count": 32,
     "metadata": {},
     "output_type": "execute_result"
    }
   ],
   "source": [
    "labels = []\n",
    "categorias = []\n",
    "dados_train_x = []\n",
    "dados_train_y = []\n",
    "\n",
    "with open(path_x_train, 'r') as f:\n",
    "    dados_train_x = [line.strip().split() for line in f.readlines()]\n",
    "    \n",
    "with open(path_y_train, 'r') as f:\n",
    "    dados_train_y = [line.strip() for line in f.readlines()]\n",
    "    \n",
    "with open(path_x_test, 'r') as f:\n",
    "    dados_test_x = [line.strip().split() for line in f.readlines()]\n",
    "\n",
    "with open(path_y_test, 'r') as f:\n",
    "    dados_test_y = [line.strip() for line in f.readlines()]\n",
    "\n",
    "with open(path_labels, 'r') as f:\n",
    "    labels = [line.strip().split()[1] for line in f.readlines()]\n",
    "    \n",
    "with open(path_categories, 'r') as f:\n",
    "    categorias = [line.strip().split()[1] for line in f.readlines()]\n",
    "\n",
    "labels.__len__(), dados_train_x.__len__(), dados_train_y.__len__(), dados_test_x.__len__(), dados_test_y.__len__(), categorias.__len__()"
   ]
  },
  {
   "cell_type": "code",
   "execution_count": 33,
   "id": "04e64d97",
   "metadata": {},
   "outputs": [
    {
     "data": {
      "text/plain": [
       "((7352, 561), (2947, 561))"
      ]
     },
     "execution_count": 33,
     "metadata": {},
     "output_type": "execute_result"
    }
   ],
   "source": [
    "dataframe_x_train = pd.DataFrame(dados_train_x, columns=labels)\n",
    "dataframe_x_test = pd.DataFrame(dados_test_x, columns=labels)\n",
    "dataframe_x_train.shape, dataframe_x_test.shape"
   ]
  },
  {
   "cell_type": "code",
   "execution_count": 34,
   "id": "ac414a05",
   "metadata": {},
   "outputs": [
    {
     "data": {
      "text/plain": [
       "((7352, 1), (2947, 1))"
      ]
     },
     "execution_count": 34,
     "metadata": {},
     "output_type": "execute_result"
    }
   ],
   "source": [
    "dataframe_y_train = pd.DataFrame(dados_train_y, columns=['Resultado'])\n",
    "dataframe_y_test = pd.DataFrame(dados_test_y, columns=['Resultado'])\n",
    "dataframe_y_train.shape, dataframe_y_test.shape"
   ]
  },
  {
   "cell_type": "code",
   "execution_count": 35,
   "id": "1ae7514d",
   "metadata": {},
   "outputs": [],
   "source": [
    "dataframe_x_train = dataframe_x_train.astype('float64')\n",
    "dataframe_x_test = dataframe_x_test.astype('float64')\n",
    "dataframe_y_train = dataframe_y_train.astype('int64')\n",
    "dataframe_y_test = dataframe_y_test.astype('int64')"
   ]
  },
  {
   "cell_type": "markdown",
   "id": "8e160c0f",
   "metadata": {},
   "source": [
    "# Scaler"
   ]
  },
  {
   "cell_type": "code",
   "execution_count": 36,
   "id": "bffdb182",
   "metadata": {},
   "outputs": [],
   "source": [
    "scaler = StandardScaler()\n",
    "X_scaled_train = scaler.fit_transform(dataframe_x_train)\n",
    "X_scaled_test = scaler.transform(dataframe_x_test)"
   ]
  },
  {
   "cell_type": "code",
   "execution_count": 37,
   "id": "8c7b1c51",
   "metadata": {},
   "outputs": [
    {
     "data": {
      "text/plain": [
       "(np.float64(1.0), np.float64(0.9289333099557896))"
      ]
     },
     "execution_count": 37,
     "metadata": {},
     "output_type": "execute_result"
    }
   ],
   "source": [
    "X_scaled_train.std(), X_scaled_test.std()"
   ]
  },
  {
   "cell_type": "markdown",
   "id": "0a5cc39c",
   "metadata": {},
   "source": [
    "# PCA"
   ]
  },
  {
   "cell_type": "code",
   "execution_count": 38,
   "id": "b38b9c62",
   "metadata": {},
   "outputs": [
    {
     "name": "stdout",
     "output_type": "stream",
     "text": [
      "Variância explicada por cada componente: [0.50781172 0.0658068 ]\n",
      "Variância total explicada: 0.5736185255809917\n"
     ]
    }
   ],
   "source": [
    "pca = PCA(n_components=2)\n",
    "X_pca = pca.fit_transform(X_scaled_train)\n",
    "var_explicada = pca.explained_variance_ratio_\n",
    "\n",
    "print(\"Variância explicada por cada componente:\", var_explicada)\n",
    "print(\"Variância total explicada:\", var_explicada.sum())"
   ]
  },
  {
   "cell_type": "code",
   "execution_count": 39,
   "id": "870de3fd",
   "metadata": {},
   "outputs": [
    {
     "data": {
      "image/png": "[encoded data removed]",
      "text/plain": [
       "<Figure size 500x400 with 1 Axes>"
      ]
     },
     "metadata": {},
     "output_type": "display_data"
    }
   ],
   "source": [
    "plt.figure(figsize=(5,4))\n",
    "\n",
    "for i, categoria in enumerate(categorias):\n",
    "    indices = dataframe_y_train['Resultado'] == i\n",
    "    plt.scatter(X_pca[indices, 0], X_pca[indices, 1], label=categoria, alpha=0.5)\n",
    "\n",
    "plt.legend()\n",
    "plt.xlabel(f\"PC1 ({var_explicada[0]*100:.2f}% da variância)\")\n",
    "plt.ylabel(f\"PC2 ({var_explicada[1]*100:.2f}% da variância)\")\n",
    "plt.title(\"Projeção dos dados em 2D usando PCA\")\n",
    "plt.show()\n"
   ]
  },
  {
   "cell_type": "code",
   "execution_count": 40,
   "id": "37174916",
   "metadata": {},
   "outputs": [
    {
     "name": "stdout",
     "output_type": "stream",
     "text": [
      "Número de componentes necessários para 90% da variância: 63\n",
      "Variância explicada com 63 componentes: 0.9005\n"
     ]
    }
   ],
   "source": [
    "pca_full = PCA()\n",
    "pca_full.fit(X_scaled_train)\n",
    "\n",
    "variancia_acumulada = pca_full.explained_variance_ratio_.cumsum()\n",
    "componentes_90 = np.argmax(variancia_acumulada >= 0.90) + 1\n",
    "\n",
    "print(f\"Número de componentes necessários para 90% da variância: {componentes_90}\")\n",
    "print(f\"Variância explicada com {componentes_90} componentes: {variancia_acumulada[componentes_90-1]:.4f}\")"
   ]
  },
  {
   "cell_type": "code",
   "execution_count": 41,
   "id": "f386db7f",
   "metadata": {},
   "outputs": [
    {
     "data": {
      "application/vnd.microsoft.datawrangler.viewer.v0+json": {
       "columns": [
        {
         "name": "index",
         "rawType": "int64",
         "type": "integer"
        },
        {
         "name": "Variância Explicada",
         "rawType": "float64",
         "type": "float"
        }
       ],
       "ref": "6f012465-8457-4341-a514-fa1bb43a62d8",
       "rows": [
        [
         "0",
         "0.5078117229128634"
        ],
        [
         "1",
         "0.06580680266812829"
        ],
        [
         "2",
         "0.02806436774740566"
        ],
        [
         "3",
         "0.02503952745474856"
        ],
        [
         "4",
         "0.01888285014742613"
        ]
       ],
       "shape": {
        "columns": 1,
        "rows": 5
       }
      },
      "text/html": [
       "<div>\n",
       "<style scoped>\n",
       "    .dataframe tbody tr th:only-of-type {\n",
       "        vertical-align: middle;\n",
       "    }\n",
       "\n",
       "    .dataframe tbody tr th {\n",
       "        vertical-align: top;\n",
       "    }\n",
       "\n",
       "    .dataframe thead th {\n",
       "        text-align: right;\n",
       "    }\n",
       "</style>\n",
       "<table border=\"1\" class=\"dataframe\">\n",
       "  <thead>\n",
       "    <tr style=\"text-align: right;\">\n",
       "      <th></th>\n",
       "      <th>Variância Explicada</th>\n",
       "    </tr>\n",
       "  </thead>\n",
       "  <tbody>\n",
       "    <tr>\n",
       "      <th>0</th>\n",
       "      <td>0.507812</td>\n",
       "    </tr>\n",
       "    <tr>\n",
       "      <th>1</th>\n",
       "      <td>0.065807</td>\n",
       "    </tr>\n",
       "    <tr>\n",
       "      <th>2</th>\n",
       "      <td>0.028064</td>\n",
       "    </tr>\n",
       "    <tr>\n",
       "      <th>3</th>\n",
       "      <td>0.025040</td>\n",
       "    </tr>\n",
       "    <tr>\n",
       "      <th>4</th>\n",
       "      <td>0.018883</td>\n",
       "    </tr>\n",
       "  </tbody>\n",
       "</table>\n",
       "</div>"
      ],
      "text/plain": [
       "   Variância Explicada\n",
       "0             0.507812\n",
       "1             0.065807\n",
       "2             0.028064\n",
       "3             0.025040\n",
       "4             0.018883"
      ]
     },
     "execution_count": 41,
     "metadata": {},
     "output_type": "execute_result"
    }
   ],
   "source": [
    "dframe_features = pd.DataFrame({\n",
    "    'Variância Explicada': pca_full.explained_variance_ratio_,\n",
    "})\n",
    "dframe_features[:5]"
   ]
  },
  {
   "cell_type": "code",
   "execution_count": 42,
   "id": "8da05ece",
   "metadata": {},
   "outputs": [
    {
     "data": {
      "image/png": "[encoded data removed]",
      "text/plain": [
       "<Figure size 500x400 with 1 Axes>"
      ]
     },
     "metadata": {},
     "output_type": "display_data"
    }
   ],
   "source": [
    "plt.figure(figsize=(5,4))\n",
    "plt.plot(range(1, len(variancia_acumulada) + 1), variancia_acumulada, marker='o')\n",
    "plt.axhline(y=0.90, color='r', linestyle='--', label='90% Variância')\n",
    "plt.axvline(x=componentes_90, color='g', linestyle='--', label=f'{componentes_90} Componentes')\n",
    "plt.title('Variância Acumulada vs Número de Componentes')\n",
    "plt.xlabel('Número de Componentes')\n",
    "plt.ylabel('Variância Acumulada')\n",
    "plt.legend()\n",
    "plt.grid()\n",
    "plt.show()"
   ]
  },
  {
   "cell_type": "markdown",
   "id": "7b77cebe",
   "metadata": {},
   "source": [
    "# RFE"
   ]
  },
  {
   "cell_type": "code",
   "execution_count": 43,
   "id": "807daad7",
   "metadata": {},
   "outputs": [],
   "source": [
    "x_train = X_scaled_train\n",
    "y_train = dataframe_y_train.values.ravel()\n",
    "\n",
    "x_test = X_scaled_test\n",
    "y_test = dataframe_y_test.values.ravel()"
   ]
  },
  {
   "cell_type": "code",
   "execution_count": 44,
   "id": "9ce9f622",
   "metadata": {},
   "outputs": [],
   "source": [
    "model_logist = LogisticRegression(max_iter=1000)\n",
    "model_rand = RandomForestClassifier()\n",
    "\n",
    "if not os.path.exists('rfe_model_logist.pkl'):\n",
    "  rfe_logist = RFE(estimator=model_logist, n_features_to_select=1, step=1, verbose=0)\n",
    "  rfe_logist.fit(x_train, y_train);\n",
    "\n",
    "  with open('rfe_model_logist.pkl', 'wb') as f:\n",
    "      pickle.dump(rfe_logist, f)\n",
    "else:\n",
    "  with open('rfe_model_logist.pkl', 'rb') as f:\n",
    "      rfe_logist = pickle.load(f)\n",
    "      \n",
    "if not os.path.exists('rfe_model_rand.pkl'):\n",
    "  rfe_random = RFE(estimator=model_rand, n_features_to_select=1, step=1, verbose=1)\n",
    "  rfe_random.fit(x_train, y_train);\n",
    "\n",
    "  with open('rfe_model_rand.pkl', 'wb') as f:\n",
    "      pickle.dump(rfe_random, f)\n",
    "else:\n",
    "  with open('rfe_model_rand.pkl', 'rb') as f:\n",
    "      rfe_random = pickle.load(f)"
   ]
  },
  {
   "cell_type": "code",
   "execution_count": 45,
   "id": "93e684a5",
   "metadata": {},
   "outputs": [
    {
     "data": {
      "application/vnd.microsoft.datawrangler.viewer.v0+json": {
       "columns": [
        {
         "name": "label",
         "rawType": "object",
         "type": "string"
        },
        {
         "name": "RFE_logist_Ranking",
         "rawType": "int64",
         "type": "integer"
        }
       ],
       "ref": "793d3634-518f-4357-aec8-38d79d0130e2",
       "rows": [
        [
         "tGravityAcc-min()-X",
         "1"
        ],
        [
         "fBodyAccJerk-entropy()-X",
         "2"
        ],
        [
         "tGravityAcc-energy()-Y",
         "3"
        ],
        [
         "tBodyAccJerk-entropy()-X",
         "4"
        ],
        [
         "tBodyAccJerk-entropy()-Z",
         "5"
        ],
        [
         "fBodyAccMag-energy()",
         "6"
        ],
        [
         "tGravityAcc-mean()-Y",
         "7"
        ],
        [
         "tBodyGyro-iqr()-Y",
         "8"
        ],
        [
         "fBodyGyro-entropy()-X",
         "9"
        ],
        [
         "angle(X,gravityMean)",
         "10"
        ]
       ],
       "shape": {
        "columns": 1,
        "rows": 10
       }
      },
      "text/html": [
       "<div>\n",
       "<style scoped>\n",
       "    .dataframe tbody tr th:only-of-type {\n",
       "        vertical-align: middle;\n",
       "    }\n",
       "\n",
       "    .dataframe tbody tr th {\n",
       "        vertical-align: top;\n",
       "    }\n",
       "\n",
       "    .dataframe thead th {\n",
       "        text-align: right;\n",
       "    }\n",
       "</style>\n",
       "<table border=\"1\" class=\"dataframe\">\n",
       "  <thead>\n",
       "    <tr style=\"text-align: right;\">\n",
       "      <th></th>\n",
       "      <th>RFE_logist_Ranking</th>\n",
       "    </tr>\n",
       "    <tr>\n",
       "      <th>label</th>\n",
       "      <th></th>\n",
       "    </tr>\n",
       "  </thead>\n",
       "  <tbody>\n",
       "    <tr>\n",
       "      <th>tGravityAcc-min()-X</th>\n",
       "      <td>1</td>\n",
       "    </tr>\n",
       "    <tr>\n",
       "      <th>fBodyAccJerk-entropy()-X</th>\n",
       "      <td>2</td>\n",
       "    </tr>\n",
       "    <tr>\n",
       "      <th>tGravityAcc-energy()-Y</th>\n",
       "      <td>3</td>\n",
       "    </tr>\n",
       "    <tr>\n",
       "      <th>tBodyAccJerk-entropy()-X</th>\n",
       "      <td>4</td>\n",
       "    </tr>\n",
       "    <tr>\n",
       "      <th>tBodyAccJerk-entropy()-Z</th>\n",
       "      <td>5</td>\n",
       "    </tr>\n",
       "    <tr>\n",
       "      <th>fBodyAccMag-energy()</th>\n",
       "      <td>6</td>\n",
       "    </tr>\n",
       "    <tr>\n",
       "      <th>tGravityAcc-mean()-Y</th>\n",
       "      <td>7</td>\n",
       "    </tr>\n",
       "    <tr>\n",
       "      <th>tBodyGyro-iqr()-Y</th>\n",
       "      <td>8</td>\n",
       "    </tr>\n",
       "    <tr>\n",
       "      <th>fBodyGyro-entropy()-X</th>\n",
       "      <td>9</td>\n",
       "    </tr>\n",
       "    <tr>\n",
       "      <th>angle(X,gravityMean)</th>\n",
       "      <td>10</td>\n",
       "    </tr>\n",
       "  </tbody>\n",
       "</table>\n",
       "</div>"
      ],
      "text/plain": [
       "                          RFE_logist_Ranking\n",
       "label                                       \n",
       "tGravityAcc-min()-X                        1\n",
       "fBodyAccJerk-entropy()-X                   2\n",
       "tGravityAcc-energy()-Y                     3\n",
       "tBodyAccJerk-entropy()-X                   4\n",
       "tBodyAccJerk-entropy()-Z                   5\n",
       "fBodyAccMag-energy()                       6\n",
       "tGravityAcc-mean()-Y                       7\n",
       "tBodyGyro-iqr()-Y                          8\n",
       "fBodyGyro-entropy()-X                      9\n",
       "angle(X,gravityMean)                      10"
      ]
     },
     "execution_count": 45,
     "metadata": {},
     "output_type": "execute_result"
    }
   ],
   "source": [
    "df_rfe_ranking = pd.DataFrame({\n",
    "    \"label\": dataframe_x_train.columns,\n",
    "    \"RFE_logist_Ranking\": rfe_logist.ranking_,\n",
    "}).sort_values(by=\"RFE_logist_Ranking\").set_index(\"label\")\n",
    "df_rfe_ranking.head(10)"
   ]
  },
  {
   "cell_type": "code",
   "execution_count": 46,
   "id": "b4edd649",
   "metadata": {},
   "outputs": [
    {
     "data": {
      "application/vnd.microsoft.datawrangler.viewer.v0+json": {
       "columns": [
        {
         "name": "label",
         "rawType": "object",
         "type": "string"
        },
        {
         "name": "RFE_rand_Ranking",
         "rawType": "int64",
         "type": "integer"
        }
       ],
       "ref": "64e69718-5dd4-4f1e-b38d-74d4f4857f71",
       "rows": [
        [
         "angle(Y,gravityMean)",
         "1"
        ],
        [
         "fBodyAcc-mad()-X",
         "2"
        ],
        [
         "tGravityAcc-min()-X",
         "3"
        ],
        [
         "tGravityAcc-mean()-X",
         "4"
        ],
        [
         "fBodyAccJerk-bandsEnergy()-1,8",
         "5"
        ],
        [
         "fBodyAccMag-mad()",
         "6"
        ],
        [
         "tGravityAcc-energy()-X",
         "7"
        ],
        [
         "tGravityAcc-arCoeff()-Z,1",
         "8"
        ],
        [
         "tGravityAcc-mean()-Y",
         "9"
        ],
        [
         "tBodyAccMag-std()",
         "10"
        ]
       ],
       "shape": {
        "columns": 1,
        "rows": 10
       }
      },
      "text/html": [
       "<div>\n",
       "<style scoped>\n",
       "    .dataframe tbody tr th:only-of-type {\n",
       "        vertical-align: middle;\n",
       "    }\n",
       "\n",
       "    .dataframe tbody tr th {\n",
       "        vertical-align: top;\n",
       "    }\n",
       "\n",
       "    .dataframe thead th {\n",
       "        text-align: right;\n",
       "    }\n",
       "</style>\n",
       "<table border=\"1\" class=\"dataframe\">\n",
       "  <thead>\n",
       "    <tr style=\"text-align: right;\">\n",
       "      <th></th>\n",
       "      <th>RFE_rand_Ranking</th>\n",
       "    </tr>\n",
       "    <tr>\n",
       "      <th>label</th>\n",
       "      <th></th>\n",
       "    </tr>\n",
       "  </thead>\n",
       "  <tbody>\n",
       "    <tr>\n",
       "      <th>angle(Y,gravityMean)</th>\n",
       "      <td>1</td>\n",
       "    </tr>\n",
       "    <tr>\n",
       "      <th>fBodyAcc-mad()-X</th>\n",
       "      <td>2</td>\n",
       "    </tr>\n",
       "    <tr>\n",
       "      <th>tGravityAcc-min()-X</th>\n",
       "      <td>3</td>\n",
       "    </tr>\n",
       "    <tr>\n",
       "      <th>tGravityAcc-mean()-X</th>\n",
       "      <td>4</td>\n",
       "    </tr>\n",
       "    <tr>\n",
       "      <th>fBodyAccJerk-bandsEnergy()-1,8</th>\n",
       "      <td>5</td>\n",
       "    </tr>\n",
       "    <tr>\n",
       "      <th>fBodyAccMag-mad()</th>\n",
       "      <td>6</td>\n",
       "    </tr>\n",
       "    <tr>\n",
       "      <th>tGravityAcc-energy()-X</th>\n",
       "      <td>7</td>\n",
       "    </tr>\n",
       "    <tr>\n",
       "      <th>tGravityAcc-arCoeff()-Z,1</th>\n",
       "      <td>8</td>\n",
       "    </tr>\n",
       "    <tr>\n",
       "      <th>tGravityAcc-mean()-Y</th>\n",
       "      <td>9</td>\n",
       "    </tr>\n",
       "    <tr>\n",
       "      <th>tBodyAccMag-std()</th>\n",
       "      <td>10</td>\n",
       "    </tr>\n",
       "  </tbody>\n",
       "</table>\n",
       "</div>"
      ],
      "text/plain": [
       "                                RFE_rand_Ranking\n",
       "label                                           \n",
       "angle(Y,gravityMean)                           1\n",
       "fBodyAcc-mad()-X                               2\n",
       "tGravityAcc-min()-X                            3\n",
       "tGravityAcc-mean()-X                           4\n",
       "fBodyAccJerk-bandsEnergy()-1,8                 5\n",
       "fBodyAccMag-mad()                              6\n",
       "tGravityAcc-energy()-X                         7\n",
       "tGravityAcc-arCoeff()-Z,1                      8\n",
       "tGravityAcc-mean()-Y                           9\n",
       "tBodyAccMag-std()                             10"
      ]
     },
     "execution_count": 46,
     "metadata": {},
     "output_type": "execute_result"
    }
   ],
   "source": [
    "df_rfe_ranking = pd.DataFrame({\n",
    "    \"label\": dataframe_x_train.columns,\n",
    "    \"RFE_rand_Ranking\": rfe_random.ranking_\n",
    "}).sort_values(by=\"RFE_rand_Ranking\").set_index(\"label\")\n",
    "df_rfe_ranking.head(10)"
   ]
  },
  {
   "cell_type": "code",
   "execution_count": 47,
   "id": "3a0a2d5e",
   "metadata": {},
   "outputs": [
    {
     "data": {
      "application/vnd.microsoft.datawrangler.viewer.v0+json": {
       "columns": [
        {
         "name": "label",
         "rawType": "object",
         "type": "string"
        },
        {
         "name": "RFE_logist_Ranking",
         "rawType": "int64",
         "type": "integer"
        },
        {
         "name": "RFE_rand_Ranking",
         "rawType": "int64",
         "type": "integer"
        }
       ],
       "ref": "eb557894-7b60-4614-aed2-51433b1deb21",
       "rows": [
        [
         "tGravityAcc-min()-X",
         "1",
         "3"
        ],
        [
         "fBodyAccJerk-entropy()-X",
         "2",
         "424"
        ],
        [
         "tGravityAcc-energy()-Y",
         "3",
         "28"
        ],
        [
         "tBodyAccJerk-entropy()-X",
         "4",
         "57"
        ],
        [
         "tBodyAccJerk-entropy()-Z",
         "5",
         "120"
        ],
        [
         "fBodyAccMag-energy()",
         "6",
         "14"
        ],
        [
         "tGravityAcc-mean()-Y",
         "7",
         "9"
        ],
        [
         "tBodyGyro-iqr()-Y",
         "8",
         "142"
        ],
        [
         "fBodyGyro-entropy()-X",
         "9",
         "112"
        ],
        [
         "angle(X,gravityMean)",
         "10",
         "13"
        ]
       ],
       "shape": {
        "columns": 2,
        "rows": 10
       }
      },
      "text/html": [
       "<div>\n",
       "<style scoped>\n",
       "    .dataframe tbody tr th:only-of-type {\n",
       "        vertical-align: middle;\n",
       "    }\n",
       "\n",
       "    .dataframe tbody tr th {\n",
       "        vertical-align: top;\n",
       "    }\n",
       "\n",
       "    .dataframe thead th {\n",
       "        text-align: right;\n",
       "    }\n",
       "</style>\n",
       "<table border=\"1\" class=\"dataframe\">\n",
       "  <thead>\n",
       "    <tr style=\"text-align: right;\">\n",
       "      <th></th>\n",
       "      <th>RFE_logist_Ranking</th>\n",
       "      <th>RFE_rand_Ranking</th>\n",
       "    </tr>\n",
       "    <tr>\n",
       "      <th>label</th>\n",
       "      <th></th>\n",
       "      <th></th>\n",
       "    </tr>\n",
       "  </thead>\n",
       "  <tbody>\n",
       "    <tr>\n",
       "      <th>tGravityAcc-min()-X</th>\n",
       "      <td>1</td>\n",
       "      <td>3</td>\n",
       "    </tr>\n",
       "    <tr>\n",
       "      <th>fBodyAccJerk-entropy()-X</th>\n",
       "      <td>2</td>\n",
       "      <td>424</td>\n",
       "    </tr>\n",
       "    <tr>\n",
       "      <th>tGravityAcc-energy()-Y</th>\n",
       "      <td>3</td>\n",
       "      <td>28</td>\n",
       "    </tr>\n",
       "    <tr>\n",
       "      <th>tBodyAccJerk-entropy()-X</th>\n",
       "      <td>4</td>\n",
       "      <td>57</td>\n",
       "    </tr>\n",
       "    <tr>\n",
       "      <th>tBodyAccJerk-entropy()-Z</th>\n",
       "      <td>5</td>\n",
       "      <td>120</td>\n",
       "    </tr>\n",
       "    <tr>\n",
       "      <th>fBodyAccMag-energy()</th>\n",
       "      <td>6</td>\n",
       "      <td>14</td>\n",
       "    </tr>\n",
       "    <tr>\n",
       "      <th>tGravityAcc-mean()-Y</th>\n",
       "      <td>7</td>\n",
       "      <td>9</td>\n",
       "    </tr>\n",
       "    <tr>\n",
       "      <th>tBodyGyro-iqr()-Y</th>\n",
       "      <td>8</td>\n",
       "      <td>142</td>\n",
       "    </tr>\n",
       "    <tr>\n",
       "      <th>fBodyGyro-entropy()-X</th>\n",
       "      <td>9</td>\n",
       "      <td>112</td>\n",
       "    </tr>\n",
       "    <tr>\n",
       "      <th>angle(X,gravityMean)</th>\n",
       "      <td>10</td>\n",
       "      <td>13</td>\n",
       "    </tr>\n",
       "  </tbody>\n",
       "</table>\n",
       "</div>"
      ],
      "text/plain": [
       "                          RFE_logist_Ranking  RFE_rand_Ranking\n",
       "label                                                         \n",
       "tGravityAcc-min()-X                        1                 3\n",
       "fBodyAccJerk-entropy()-X                   2               424\n",
       "tGravityAcc-energy()-Y                     3                28\n",
       "tBodyAccJerk-entropy()-X                   4                57\n",
       "tBodyAccJerk-entropy()-Z                   5               120\n",
       "fBodyAccMag-energy()                       6                14\n",
       "tGravityAcc-mean()-Y                       7                 9\n",
       "tBodyGyro-iqr()-Y                          8               142\n",
       "fBodyGyro-entropy()-X                      9               112\n",
       "angle(X,gravityMean)                      10                13"
      ]
     },
     "execution_count": 47,
     "metadata": {},
     "output_type": "execute_result"
    }
   ],
   "source": [
    "df_rfe_ranking = pd.DataFrame({\n",
    "    \"label\": dataframe_x_train.columns,\n",
    "    \"RFE_logist_Ranking\": rfe_logist.ranking_,\n",
    "    \"RFE_rand_Ranking\": rfe_random.ranking_\n",
    "}).sort_values(by=\"RFE_logist_Ranking\").set_index(\"label\")\n",
    "df_rfe_ranking.head(10)"
   ]
  },
  {
   "cell_type": "markdown",
   "id": "3806de26",
   "metadata": {},
   "source": [
    "## Performance por numero de atributos rfe"
   ]
  },
  {
   "cell_type": "code",
   "execution_count": 48,
   "id": "7169e53b",
   "metadata": {},
   "outputs": [
    {
     "name": "stdout",
     "output_type": "stream",
     "text": [
      "k=1: Logistic Regression Accuracy=0.3987, Random Forest Accuracy=0.3960\n",
      "k=11: Logistic Regression Accuracy=0.8663, Random Forest Accuracy=0.8232\n",
      "k=21: Logistic Regression Accuracy=0.9213, Random Forest Accuracy=0.8402\n",
      "k=31: Logistic Regression Accuracy=0.9321, Random Forest Accuracy=0.8605\n",
      "k=41: Logistic Regression Accuracy=0.9365, Random Forest Accuracy=0.8694\n",
      "k=51: Logistic Regression Accuracy=0.9389, Random Forest Accuracy=0.8945\n",
      "k=61: Logistic Regression Accuracy=0.9488, Random Forest Accuracy=0.9077\n"
     ]
    }
   ],
   "source": [
    "scores = []\n",
    "\n",
    "for k in range(1, componentes_90 + 1, 10):\n",
    "    x_train_selected_logist = x_train[:, rfe_logist.ranking_ <= k]\n",
    "    x_train_selected_rand = x_train[:, rfe_random.ranking_ <= k]\n",
    "\n",
    "    model_test_logic = LogisticRegression(max_iter=1000)\n",
    "    model_test_logic.fit(x_train_selected_logist, y_train)\n",
    "    \n",
    "    model_test_rand = RandomForestClassifier()\n",
    "    model_test_rand.fit(x_train_selected_rand, y_train)\n",
    "    \n",
    "    x_test_selected_logist = x_test[:, rfe_logist.ranking_ <= k]\n",
    "    x_test_selected_rand = x_test[:, rfe_random.ranking_ <= k]\n",
    "\n",
    "    acc_logic = model_test_logic.score(x_test_selected_logist, y_test)\n",
    "    acc_rand = model_test_rand.score(x_test_selected_rand, y_test)\n",
    "\n",
    "    print(f'k={k}: Logistic Regression Accuracy={acc_logic:.4f}, Random Forest Accuracy={acc_rand:.4f}')\n",
    "    scores.append((k, acc_logic, acc_rand))\n",
    "    "
   ]
  },
  {
   "cell_type": "code",
   "execution_count": 49,
   "id": "ab0e5598",
   "metadata": {},
   "outputs": [
    {
     "data": {
      "application/vnd.microsoft.datawrangler.viewer.v0+json": {
       "columns": [
        {
         "name": "index",
         "rawType": "int64",
         "type": "integer"
        },
        {
         "name": "Número de Features",
         "rawType": "int64",
         "type": "integer"
        },
        {
         "name": "Acurácia Logistic Regression",
         "rawType": "float64",
         "type": "float"
        },
        {
         "name": "Acurácia Random Forest",
         "rawType": "float64",
         "type": "float"
        }
       ],
       "ref": "f1b7e602-8fd7-4b1c-bf4c-17e1a1dd27ee",
       "rows": [
        [
         "0",
         "1",
         "0.39871055310485237",
         "0.3959959280624364"
        ],
        [
         "1",
         "11",
         "0.8663047166610112",
         "0.823210044112657"
        ],
        [
         "2",
         "21",
         "0.9212758737699356",
         "0.840176450627757"
        ],
        [
         "3",
         "31",
         "0.9321343739395996",
         "0.8605361384458772"
        ],
        [
         "4",
         "41",
         "0.9365456396335257",
         "0.8693586698337292"
        ],
        [
         "5",
         "51",
         "0.9389209365456397",
         "0.8944689514760774"
        ],
        [
         "6",
         "61",
         "0.9487614523243977",
         "0.9077027485578555"
        ]
       ],
       "shape": {
        "columns": 3,
        "rows": 7
       }
      },
      "text/html": [
       "<div>\n",
       "<style scoped>\n",
       "    .dataframe tbody tr th:only-of-type {\n",
       "        vertical-align: middle;\n",
       "    }\n",
       "\n",
       "    .dataframe tbody tr th {\n",
       "        vertical-align: top;\n",
       "    }\n",
       "\n",
       "    .dataframe thead th {\n",
       "        text-align: right;\n",
       "    }\n",
       "</style>\n",
       "<table border=\"1\" class=\"dataframe\">\n",
       "  <thead>\n",
       "    <tr style=\"text-align: right;\">\n",
       "      <th></th>\n",
       "      <th>Número de Features</th>\n",
       "      <th>Acurácia Logistic Regression</th>\n",
       "      <th>Acurácia Random Forest</th>\n",
       "    </tr>\n",
       "  </thead>\n",
       "  <tbody>\n",
       "    <tr>\n",
       "      <th>0</th>\n",
       "      <td>1</td>\n",
       "      <td>0.398711</td>\n",
       "      <td>0.395996</td>\n",
       "    </tr>\n",
       "    <tr>\n",
       "      <th>1</th>\n",
       "      <td>11</td>\n",
       "      <td>0.866305</td>\n",
       "      <td>0.823210</td>\n",
       "    </tr>\n",
       "    <tr>\n",
       "      <th>2</th>\n",
       "      <td>21</td>\n",
       "      <td>0.921276</td>\n",
       "      <td>0.840176</td>\n",
       "    </tr>\n",
       "    <tr>\n",
       "      <th>3</th>\n",
       "      <td>31</td>\n",
       "      <td>0.932134</td>\n",
       "      <td>0.860536</td>\n",
       "    </tr>\n",
       "    <tr>\n",
       "      <th>4</th>\n",
       "      <td>41</td>\n",
       "      <td>0.936546</td>\n",
       "      <td>0.869359</td>\n",
       "    </tr>\n",
       "    <tr>\n",
       "      <th>5</th>\n",
       "      <td>51</td>\n",
       "      <td>0.938921</td>\n",
       "      <td>0.894469</td>\n",
       "    </tr>\n",
       "    <tr>\n",
       "      <th>6</th>\n",
       "      <td>61</td>\n",
       "      <td>0.948761</td>\n",
       "      <td>0.907703</td>\n",
       "    </tr>\n",
       "  </tbody>\n",
       "</table>\n",
       "</div>"
      ],
      "text/plain": [
       "   Número de Features  Acurácia Logistic Regression  Acurácia Random Forest\n",
       "0                   1                      0.398711                0.395996\n",
       "1                  11                      0.866305                0.823210\n",
       "2                  21                      0.921276                0.840176\n",
       "3                  31                      0.932134                0.860536\n",
       "4                  41                      0.936546                0.869359\n",
       "5                  51                      0.938921                0.894469\n",
       "6                  61                      0.948761                0.907703"
      ]
     },
     "execution_count": 49,
     "metadata": {},
     "output_type": "execute_result"
    }
   ],
   "source": [
    "scores_df = pd.DataFrame(scores, columns=['Número de Features', 'Acurácia Logistic Regression', 'Acurácia Random Forest'])\n",
    "scores_df"
   ]
  },
  {
   "cell_type": "code",
   "execution_count": 50,
   "id": "ee20e616",
   "metadata": {},
   "outputs": [
    {
     "data": {
      "image/png": "[encoded data removed]",
      "text/plain": [
       "<Figure size 500x400 with 1 Axes>"
      ]
     },
     "metadata": {},
     "output_type": "display_data"
    }
   ],
   "source": [
    "plt.figure(figsize=(5, 4))\n",
    "plt.plot(scores_df['Número de Features'], scores_df['Acurácia Logistic Regression'], marker='o', label='Logistic Regression', linewidth=2)\n",
    "plt.plot(scores_df['Número de Features'], scores_df['Acurácia Random Forest'], marker='s', label='Random Forest', linewidth=2)\n",
    "plt.title('Número de Features vs Acurácia')\n",
    "plt.xlabel('Número de Features')\n",
    "plt.ylabel('Acurácia')\n",
    "plt.legend()\n",
    "plt.grid(True, alpha=0.3)\n",
    "plt.show()"
   ]
  },
  {
   "cell_type": "markdown",
   "id": "c82b32ff",
   "metadata": {},
   "source": [
    "# Lasso"
   ]
  },
  {
   "cell_type": "code",
   "execution_count": 58,
   "id": "6f0295a8",
   "metadata": {},
   "outputs": [
    {
     "name": "stderr",
     "output_type": "stream",
     "text": [
      "c:\\projetos\\kaua\\Topicos_Especiais_Em_Computacao\\2_Trabalho\\.venv\\Lib\\site-packages\\sklearn\\linear_model\\_coordinate_descent.py:695: ConvergenceWarning: Objective did not converge. You might want to increase the number of iterations, check the scale of the features or consider increasing regularisation. Duality gap: 2.175e+01, tolerance: 2.238e+00\n",
      "  model = cd_fast.enet_coordinate_descent(\n"
     ]
    },
    {
     "data": {
      "application/vnd.microsoft.datawrangler.viewer.v0+json": {
       "columns": [
        {
         "name": "index",
         "rawType": "int64",
         "type": "integer"
        },
        {
         "name": "alpha",
         "rawType": "float64",
         "type": "float"
        },
        {
         "name": "num_features",
         "rawType": "int64",
         "type": "integer"
        },
        {
         "name": "score",
         "rawType": "float64",
         "type": "float"
        },
        {
         "name": "features",
         "rawType": "object",
         "type": "unknown"
        }
       ],
       "ref": "fcf49ae5-b7f4-4472-90eb-c95971068d03",
       "rows": [
        [
         "0",
         "0.01",
         "115",
         "0.9437236120802615",
         "['tBodyAcc-iqr()-Z', 'tBodyAcc-arCoeff()-X,1', 'tBodyAcc-arCoeff()-X,4', 'tBodyAcc-arCoeff()-Y,4', 'tBodyAcc-arCoeff()-Z,1', 'tBodyAcc-correlation()-X,Y', 'tBodyAcc-correlation()-X,Z', 'tBodyAcc-correlation()-Y,Z', 'tGravityAcc-mean()-X', 'tGravityAcc-std()-Z', 'tGravityAcc-min()-X', 'tGravityAcc-min()-Y', 'tGravityAcc-sma()', 'tGravityAcc-energy()-X', 'tGravityAcc-energy()-Y', 'tGravityAcc-iqr()-Z', 'tGravityAcc-entropy()-X', 'tGravityAcc-arCoeff()-Y,1', 'tGravityAcc-correlation()-X,Y', 'tGravityAcc-correlation()-X,Z', 'tBodyAccJerk-min()-X', 'tBodyAccJerk-min()-Y', 'tBodyAccJerk-iqr()-Y', 'tBodyAccJerk-entropy()-X', 'tBodyAccJerk-entropy()-Z', 'tBodyAccJerk-arCoeff()-X,2', 'tBodyAccJerk-arCoeff()-X,4', 'tBodyAccJerk-arCoeff()-Y,4', 'tBodyAccJerk-arCoeff()-Z,1', 'tBodyAccJerk-arCoeff()-Z,4', 'tBodyAccJerk-correlation()-X,Y', 'tBodyAccJerk-correlation()-X,Z', 'tBodyGyro-mean()-X', 'tBodyGyro-energy()-Z', 'tBodyGyro-iqr()-X', 'tBodyGyro-entropy()-X', 'tBodyGyro-entropy()-Y', 'tBodyGyro-entropy()-Z', 'tBodyGyro-arCoeff()-X,1', 'tBodyGyro-arCoeff()-Y,1', 'tBodyGyro-arCoeff()-Z,3', 'tBodyGyro-correlation()-X,Y', 'tBodyGyro-correlation()-X,Z', 'tBodyGyro-correlation()-Y,Z', 'tBodyGyroJerk-iqr()-X', 'tBodyGyroJerk-arCoeff()-X,1', 'tBodyGyroJerk-arCoeff()-X,2', 'tBodyGyroJerk-arCoeff()-X,3', 'tBodyGyroJerk-arCoeff()-Y,1', 'tBodyGyroJerk-arCoeff()-Y,4', 'tBodyGyroJerk-arCoeff()-Z,4', 'tBodyGyroJerk-correlation()-X,Z', 'tBodyGyroJerk-correlation()-Y,Z', 'tBodyAccMag-min()', 'tBodyAccMag-arCoeff()2', 'tBodyAccMag-arCoeff()4', 'tGravityAccMag-min()', 'tGravityAccMag-arCoeff()2', 'tGravityAccMag-arCoeff()4', 'tBodyAccJerkMag-arCoeff()4', 'tBodyGyroMag-arCoeff()4', 'tBodyGyroJerkMag-arCoeff()2', 'tBodyGyroJerkMag-arCoeff()3', 'fBodyAcc-std()-Y', 'fBodyAcc-max()-Y', 'fBodyAcc-max()-Z', 'fBodyAcc-min()-Y', 'fBodyAcc-min()-Z', 'fBodyAcc-maxInds-X', 'fBodyAcc-maxInds-Y', 'fBodyAcc-meanFreq()-X', 'fBodyAcc-meanFreq()-Y', 'fBodyAcc-skewness()-X', 'fBodyAcc-kurtosis()-Y', 'fBodyAcc-bandsEnergy()-1,8', 'fBodyAccJerk-max()-Y', 'fBodyAccJerk-entropy()-X', 'fBodyAccJerk-meanFreq()-X', 'fBodyAccJerk-skewness()-X', 'fBodyAccJerk-skewness()-Y', 'fBodyAccJerk-skewness()-Z', 'fBodyAccJerk-bandsEnergy()-25,32', 'fBodyAccJerk-bandsEnergy()-17,32', 'fBodyAccJerk-bandsEnergy()-25,48', 'fBodyAccJerk-bandsEnergy()-1,8', 'fBodyAccJerk-bandsEnergy()-25,32', 'fBodyAccJerk-bandsEnergy()-25,32', 'fBodyAccJerk-bandsEnergy()-41,48', 'fBodyGyro-max()-Y', 'fBodyGyro-min()-X', 'fBodyGyro-maxInds-Z', 'fBodyGyro-meanFreq()-X', 'fBodyGyro-skewness()-Y', 'fBodyGyro-skewness()-Z', 'fBodyGyro-bandsEnergy()-9,16', 'fBodyGyro-bandsEnergy()-57,64', 'fBodyGyro-bandsEnergy()-9,16', 'fBodyGyro-bandsEnergy()-25,32', 'fBodyGyro-bandsEnergy()-9,16', 'fBodyAccMag-energy()', 'fBodyAccMag-meanFreq()', 'fBodyAccMag-kurtosis()', 'fBodyBodyAccJerkMag-max()', 'fBodyBodyAccJerkMag-maxInds', 'fBodyBodyAccJerkMag-meanFreq()', 'fBodyBodyGyroMag-min()', 'fBodyBodyGyroMag-energy()', 'fBodyBodyGyroMag-maxInds', 'fBodyBodyGyroMag-skewness()', 'fBodyBodyGyroJerkMag-max()', 'fBodyBodyGyroJerkMag-meanFreq()', 'fBodyBodyGyroJerkMag-skewness()', 'angle(tBodyAccJerkMean),gravityMean)', 'angle(tBodyGyroMean,gravityMean)', 'angle(Z,gravityMean)']"
        ],
        [
         "1",
         "0.1",
         "14",
         "0.8733015833606761",
         "['tGravityAcc-min()-X', 'tBodyAccJerk-entropy()-X', 'tBodyAccJerk-entropy()-Z', 'tBodyGyroJerk-arCoeff()-X,3', 'tBodyGyroJerk-correlation()-Y,Z', 'tBodyAccMag-min()', 'fBodyAccJerk-max()-Y', 'fBodyAccJerk-skewness()-Z', 'fBodyGyro-max()-Y', 'fBodyGyro-max()-Z', 'fBodyGyro-meanFreq()-X', 'fBodyGyro-skewness()-Z', 'fBodyAccMag-energy()', 'fBodyBodyGyroMag-maxInds']"
        ],
        [
         "2",
         "1.0",
         "2",
         "0.40717783565535937",
         "['tBodyAccJerk-entropy()-X', 'tBodyAccJerk-entropy()-Z']"
        ],
        [
         "3",
         "10.0",
         "0",
         "-0.0014163785932206352",
         "[]"
        ]
       ],
       "shape": {
        "columns": 4,
        "rows": 4
       }
      },
      "text/html": [
       "<div>\n",
       "<style scoped>\n",
       "    .dataframe tbody tr th:only-of-type {\n",
       "        vertical-align: middle;\n",
       "    }\n",
       "\n",
       "    .dataframe tbody tr th {\n",
       "        vertical-align: top;\n",
       "    }\n",
       "\n",
       "    .dataframe thead th {\n",
       "        text-align: right;\n",
       "    }\n",
       "</style>\n",
       "<table border=\"1\" class=\"dataframe\">\n",
       "  <thead>\n",
       "    <tr style=\"text-align: right;\">\n",
       "      <th></th>\n",
       "      <th>alpha</th>\n",
       "      <th>num_features</th>\n",
       "      <th>score</th>\n",
       "      <th>features</th>\n",
       "    </tr>\n",
       "  </thead>\n",
       "  <tbody>\n",
       "    <tr>\n",
       "      <th>0</th>\n",
       "      <td>0.01</td>\n",
       "      <td>115</td>\n",
       "      <td>0.943724</td>\n",
       "      <td>[tBodyAcc-iqr()-Z, tBodyAcc-arCoeff()-X,1, tBo...</td>\n",
       "    </tr>\n",
       "    <tr>\n",
       "      <th>1</th>\n",
       "      <td>0.10</td>\n",
       "      <td>14</td>\n",
       "      <td>0.873302</td>\n",
       "      <td>[tGravityAcc-min()-X, tBodyAccJerk-entropy()-X...</td>\n",
       "    </tr>\n",
       "    <tr>\n",
       "      <th>2</th>\n",
       "      <td>1.00</td>\n",
       "      <td>2</td>\n",
       "      <td>0.407178</td>\n",
       "      <td>[tBodyAccJerk-entropy()-X, tBodyAccJerk-entrop...</td>\n",
       "    </tr>\n",
       "    <tr>\n",
       "      <th>3</th>\n",
       "      <td>10.00</td>\n",
       "      <td>0</td>\n",
       "      <td>-0.001416</td>\n",
       "      <td>[]</td>\n",
       "    </tr>\n",
       "  </tbody>\n",
       "</table>\n",
       "</div>"
      ],
      "text/plain": [
       "   alpha  num_features     score  \\\n",
       "0   0.01           115  0.943724   \n",
       "1   0.10            14  0.873302   \n",
       "2   1.00             2  0.407178   \n",
       "3  10.00             0 -0.001416   \n",
       "\n",
       "                                            features  \n",
       "0  [tBodyAcc-iqr()-Z, tBodyAcc-arCoeff()-X,1, tBo...  \n",
       "1  [tGravityAcc-min()-X, tBodyAccJerk-entropy()-X...  \n",
       "2  [tBodyAccJerk-entropy()-X, tBodyAccJerk-entrop...  \n",
       "3                                                 []  "
      ]
     },
     "execution_count": 58,
     "metadata": {},
     "output_type": "execute_result"
    }
   ],
   "source": [
    "lasso_hyper_params = [0.01, 0.1, 1, 10]\n",
    "lasso_results = []\n",
    "\n",
    "for alpha in lasso_hyper_params:\n",
    "    lasso = Lasso(alpha=alpha) \n",
    "    lasso.fit(x_train, y_train)\n",
    "    selected_features = dataframe_x_train.columns[np.abs(lasso.coef_) > 1e-5]\n",
    "\n",
    "    lasso_results.append({\n",
    "        \"alpha\": alpha,\n",
    "        \"num_features\": len(selected_features),\n",
    "        \"score\": lasso.score(x_test, y_test),\n",
    "        \"features\": list(selected_features)\n",
    "    })\n",
    "\n",
    "df_lasso_results = pd.DataFrame(lasso_results)\n",
    "df_lasso_results"
   ]
  },
  {
   "cell_type": "code",
   "execution_count": null,
   "id": "f777c4b5",
   "metadata": {},
   "outputs": [
    {
     "data": {
      "text/plain": [
       "['tGravityAcc-min()-X',\n",
       " 'tBodyAccJerk-entropy()-X',\n",
       " 'tBodyAccJerk-entropy()-Z',\n",
       " 'tBodyGyroJerk-arCoeff()-X,3',\n",
       " 'tBodyGyroJerk-correlation()-Y,Z',\n",
       " 'tBodyAccMag-min()',\n",
       " 'tGravityAccMag-min()',\n",
       " 'fBodyAccJerk-max()-Y',\n",
       " 'fBodyAccJerk-skewness()-Z',\n",
       " 'fBodyGyro-max()-Y',\n",
       " 'fBodyGyro-max()-Z',\n",
       " 'fBodyGyro-meanFreq()-X',\n",
       " 'fBodyGyro-skewness()-Z',\n",
       " 'fBodyAccMag-energy()',\n",
       " 'fBodyBodyGyroMag-maxInds']"
      ]
     },
     "execution_count": 57,
     "metadata": {},
     "output_type": "execute_result"
    }
   ],
   "source": [
    "df_lasso_results['features'][1] # ou substitua o índice 1 pelo índice desejado (ex. 0, 1, 2, 3)"
   ]
  },
  {
   "cell_type": "markdown",
   "id": "347bb3bc",
   "metadata": {},
   "source": [
    "## Comparação das variáveis selecionadas"
   ]
  },
  {
   "cell_type": "code",
   "execution_count": null,
   "id": "0f2c187e",
   "metadata": {},
   "outputs": [
    {
     "data": {
      "image/png": "[encoded data removed]",
      "text/plain": [
       "<Figure size 500x400 with 1 Axes>"
      ]
     },
     "metadata": {},
     "output_type": "display_data"
    }
   ],
   "source": [
    "top_115_features_logist = df_rfe_ranking.nsmallest(115, 'RFE_logist_Ranking').index\n",
    "top_115_features_rand = df_rfe_ranking.nsmallest(115, 'RFE_rand_Ranking').index\n",
    "df_lasso_0_01 = pd.Series(lasso_results[0]['features'], name='Lasso_0.01_Features')\n",
    "\n",
    "set_logist = set(top_115_features_logist)\n",
    "set_rand = set(top_115_features_rand)\n",
    "set_lasso = set(df_lasso_0_01)\n",
    "\n",
    "plt.figure(figsize=(5, 4))\n",
    "venn3([set_logist, set_rand, set_lasso], set_labels=(\"RFE Logística\", \"RFE Random Forest\", \"Lasso α=0.01\"))\n",
    "plt.show()\n"
   ]
  }
 ],
 "metadata": {
  "kernelspec": {
   "display_name": "Python 3",
   "language": "python",
   "name": "python3"
  },
  "language_info": {
   "codemirror_mode": {
    "name": "ipython",
    "version": 3
   },
   "file_extension": ".py",
   "mimetype": "text/x-python",
   "name": "python",
   "nbconvert_exporter": "python",
   "pygments_lexer": "ipython3",
   "version": "3.13.5"
  }
 },
 "nbformat": 4,
 "nbformat_minor": 5
}
