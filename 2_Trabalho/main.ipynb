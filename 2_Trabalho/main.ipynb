{
 "cells": [
  {
   "cell_type": "code",
   "execution_count": 29,
   "id": "a6b7580b",
   "metadata": {},
   "outputs": [
    {
     "name": "stdout",
     "output_type": "stream",
     "text": [
      "Note: you may need to restart the kernel to use updated packages.\n"
     ]
    },
    {
     "name": "stderr",
     "output_type": "stream",
     "text": [
      "\n",
      "[notice] A new release of pip is available: 25.1.1 -> 25.2\n",
      "[notice] To update, run: python.exe -m pip install --upgrade pip\n"
     ]
    }
   ],
   "source": [
    "%pip install -r requirements.txt -q"
   ]
  },
  {
   "cell_type": "code",
   "execution_count": null,
   "id": "775873c6",
   "metadata": {},
   "outputs": [],
   "source": [
    "import zipfile\n",
    "import os\n",
    "import pandas as pd\n",
    "import pickle\n",
    "from sklearn.preprocessing import StandardScaler\n",
    "from sklearn.decomposition import PCA\n",
    "from sklearn.feature_selection import RFE\n",
    "from sklearn.linear_model import LogisticRegression\n",
    "from sklearn.model_selection import cross_val_score\n",
    "import matplotlib.pyplot as plt"
   ]
  },
  {
   "cell_type": "code",
   "execution_count": 31,
   "id": "15fd0cd5",
   "metadata": {},
   "outputs": [],
   "source": [
    "os.makedirs('database', exist_ok=True)\n",
    "\n",
    "if not os.path.exists('database/data.rar'):\n",
    "    !curl https://archive.ics.uci.edu/static/public/240/human+activity+recognition+using+smartphones.zip -o database/data.rar\n",
    "\n",
    "if not os.path.exists('database/UCI HAR Dataset.zip'):\n",
    "    with zipfile.ZipFile('database/data.rar', 'r') as zip_ref:\n",
    "        zip_ref.extractall('database/')\n",
    "\n",
    "if not os.path.exists('database/UCI HAR Dataset'):\n",
    "    with zipfile.ZipFile('database/UCI HAR Dataset.zip', 'r') as zip_ref:\n",
    "        zip_ref.extractall('database/')\n"
   ]
  },
  {
   "cell_type": "code",
   "execution_count": 32,
   "id": "bc785ed1",
   "metadata": {},
   "outputs": [],
   "source": [
    "path_labels = './database/UCI HAR Dataset/features.txt'\n",
    "path_x_train = './database/UCI HAR Dataset/train/X_train.txt'\n",
    "path_y_train = './database/UCI HAR Dataset/train/y_train.txt'"
   ]
  },
  {
   "cell_type": "markdown",
   "id": "6ea70c86",
   "metadata": {},
   "source": [
    "# Treinamento e Test"
   ]
  },
  {
   "cell_type": "code",
   "execution_count": 33,
   "id": "406b6246",
   "metadata": {},
   "outputs": [
    {
     "data": {
      "text/plain": [
       "(561, 7352, 7352)"
      ]
     },
     "execution_count": 33,
     "metadata": {},
     "output_type": "execute_result"
    }
   ],
   "source": [
    "labels = []\n",
    "dados_train_x = []\n",
    "dados_train_y = []\n",
    "\n",
    "with open(path_x_train, 'r') as f:\n",
    "    dados_train_x = [line.strip().split() for line in f.readlines()]\n",
    "\n",
    "with open(path_labels, 'r') as f:\n",
    "    labels = [line.strip().split()[1] for line in f.readlines()]\n",
    "    \n",
    "with open(path_y_train, 'r') as f:\n",
    "    dados_train_y = [line.strip() for line in f.readlines()]\n",
    "\n",
    "labels.__len__(), dados_train_x.__len__(), dados_train_y.__len__()"
   ]
  },
  {
   "cell_type": "code",
   "execution_count": 34,
   "id": "04e64d97",
   "metadata": {},
   "outputs": [
    {
     "data": {
      "application/vnd.microsoft.datawrangler.viewer.v0+json": {
       "columns": [
        {
         "name": "index",
         "rawType": "int64",
         "type": "integer"
        },
        {
         "name": "tBodyAcc-mean()-X",
         "rawType": "object",
         "type": "string"
        },
        {
         "name": "tBodyAcc-mean()-Y",
         "rawType": "object",
         "type": "string"
        },
        {
         "name": "tBodyAcc-mean()-Z",
         "rawType": "object",
         "type": "string"
        },
        {
         "name": "tBodyAcc-std()-X",
         "rawType": "object",
         "type": "string"
        },
        {
         "name": "tBodyAcc-std()-Y",
         "rawType": "object",
         "type": "string"
        },
        {
         "name": "tBodyAcc-std()-Z",
         "rawType": "object",
         "type": "string"
        },
        {
         "name": "tBodyAcc-mad()-X",
         "rawType": "object",
         "type": "string"
        },
        {
         "name": "tBodyAcc-mad()-Y",
         "rawType": "object",
         "type": "string"
        },
        {
         "name": "tBodyAcc-mad()-Z",
         "rawType": "object",
         "type": "string"
        },
        {
         "name": "tBodyAcc-max()-X",
         "rawType": "object",
         "type": "string"
        },
        {
         "name": "tBodyAcc-max()-Y",
         "rawType": "object",
         "type": "string"
        },
        {
         "name": "tBodyAcc-max()-Z",
         "rawType": "object",
         "type": "string"
        },
        {
         "name": "tBodyAcc-min()-X",
         "rawType": "object",
         "type": "string"
        },
        {
         "name": "tBodyAcc-min()-Y",
         "rawType": "object",
         "type": "string"
        },
        {
         "name": "tBodyAcc-min()-Z",
         "rawType": "object",
         "type": "string"
        },
        {
         "name": "tBodyAcc-sma()",
         "rawType": "object",
         "type": "string"
        },
        {
         "name": "tBodyAcc-energy()-X",
         "rawType": "object",
         "type": "string"
        },
        {
         "name": "tBodyAcc-energy()-Y",
         "rawType": "object",
         "type": "string"
        },
        {
         "name": "tBodyAcc-energy()-Z",
         "rawType": "object",
         "type": "string"
        },
        {
         "name": "tBodyAcc-iqr()-X",
         "rawType": "object",
         "type": "string"
        },
        {
         "name": "tBodyAcc-iqr()-Y",
         "rawType": "object",
         "type": "string"
        },
        {
         "name": "tBodyAcc-iqr()-Z",
         "rawType": "object",
         "type": "string"
        },
        {
         "name": "tBodyAcc-entropy()-X",
         "rawType": "object",
         "type": "string"
        },
        {
         "name": "tBodyAcc-entropy()-Y",
         "rawType": "object",
         "type": "string"
        },
        {
         "name": "tBodyAcc-entropy()-Z",
         "rawType": "object",
         "type": "string"
        },
        {
         "name": "tBodyAcc-arCoeff()-X,1",
         "rawType": "object",
         "type": "string"
        },
        {
         "name": "tBodyAcc-arCoeff()-X,2",
         "rawType": "object",
         "type": "string"
        },
        {
         "name": "tBodyAcc-arCoeff()-X,3",
         "rawType": "object",
         "type": "string"
        },
        {
         "name": "tBodyAcc-arCoeff()-X,4",
         "rawType": "object",
         "type": "string"
        },
        {
         "name": "tBodyAcc-arCoeff()-Y,1",
         "rawType": "object",
         "type": "string"
        },
        {
         "name": "tBodyAcc-arCoeff()-Y,2",
         "rawType": "object",
         "type": "string"
        },
        {
         "name": "tBodyAcc-arCoeff()-Y,3",
         "rawType": "object",
         "type": "string"
        },
        {
         "name": "tBodyAcc-arCoeff()-Y,4",
         "rawType": "object",
         "type": "string"
        },
        {
         "name": "tBodyAcc-arCoeff()-Z,1",
         "rawType": "object",
         "type": "string"
        },
        {
         "name": "tBodyAcc-arCoeff()-Z,2",
         "rawType": "object",
         "type": "string"
        },
        {
         "name": "tBodyAcc-arCoeff()-Z,3",
         "rawType": "object",
         "type": "string"
        },
        {
         "name": "tBodyAcc-arCoeff()-Z,4",
         "rawType": "object",
         "type": "string"
        },
        {
         "name": "tBodyAcc-correlation()-X,Y",
         "rawType": "object",
         "type": "string"
        },
        {
         "name": "tBodyAcc-correlation()-X,Z",
         "rawType": "object",
         "type": "string"
        },
        {
         "name": "tBodyAcc-correlation()-Y,Z",
         "rawType": "object",
         "type": "string"
        },
        {
         "name": "tGravityAcc-mean()-X",
         "rawType": "object",
         "type": "string"
        },
        {
         "name": "tGravityAcc-mean()-Y",
         "rawType": "object",
         "type": "string"
        },
        {
         "name": "tGravityAcc-mean()-Z",
         "rawType": "object",
         "type": "string"
        },
        {
         "name": "tGravityAcc-std()-X",
         "rawType": "object",
         "type": "string"
        },
        {
         "name": "tGravityAcc-std()-Y",
         "rawType": "object",
         "type": "string"
        },
        {
         "name": "tGravityAcc-std()-Z",
         "rawType": "object",
         "type": "string"
        },
        {
         "name": "tGravityAcc-mad()-X",
         "rawType": "object",
         "type": "string"
        },
        {
         "name": "tGravityAcc-mad()-Y",
         "rawType": "object",
         "type": "string"
        },
        {
         "name": "tGravityAcc-mad()-Z",
         "rawType": "object",
         "type": "string"
        },
        {
         "name": "tGravityAcc-max()-X",
         "rawType": "object",
         "type": "string"
        },
        {
         "name": "tGravityAcc-max()-Y",
         "rawType": "object",
         "type": "string"
        },
        {
         "name": "tGravityAcc-max()-Z",
         "rawType": "object",
         "type": "string"
        },
        {
         "name": "tGravityAcc-min()-X",
         "rawType": "object",
         "type": "string"
        },
        {
         "name": "tGravityAcc-min()-Y",
         "rawType": "object",
         "type": "string"
        },
        {
         "name": "tGravityAcc-min()-Z",
         "rawType": "object",
         "type": "string"
        },
        {
         "name": "tGravityAcc-sma()",
         "rawType": "object",
         "type": "string"
        },
        {
         "name": "tGravityAcc-energy()-X",
         "rawType": "object",
         "type": "string"
        },
        {
         "name": "tGravityAcc-energy()-Y",
         "rawType": "object",
         "type": "string"
        },
        {
         "name": "tGravityAcc-energy()-Z",
         "rawType": "object",
         "type": "string"
        },
        {
         "name": "tGravityAcc-iqr()-X",
         "rawType": "object",
         "type": "string"
        },
        {
         "name": "tGravityAcc-iqr()-Y",
         "rawType": "object",
         "type": "string"
        },
        {
         "name": "tGravityAcc-iqr()-Z",
         "rawType": "object",
         "type": "string"
        },
        {
         "name": "tGravityAcc-entropy()-X",
         "rawType": "object",
         "type": "string"
        },
        {
         "name": "tGravityAcc-entropy()-Y",
         "rawType": "object",
         "type": "string"
        },
        {
         "name": "tGravityAcc-entropy()-Z",
         "rawType": "object",
         "type": "string"
        },
        {
         "name": "tGravityAcc-arCoeff()-X,1",
         "rawType": "object",
         "type": "string"
        },
        {
         "name": "tGravityAcc-arCoeff()-X,2",
         "rawType": "object",
         "type": "string"
        },
        {
         "name": "tGravityAcc-arCoeff()-X,3",
         "rawType": "object",
         "type": "string"
        },
        {
         "name": "tGravityAcc-arCoeff()-X,4",
         "rawType": "object",
         "type": "string"
        },
        {
         "name": "tGravityAcc-arCoeff()-Y,1",
         "rawType": "object",
         "type": "string"
        },
        {
         "name": "tGravityAcc-arCoeff()-Y,2",
         "rawType": "object",
         "type": "string"
        },
        {
         "name": "tGravityAcc-arCoeff()-Y,3",
         "rawType": "object",
         "type": "string"
        },
        {
         "name": "tGravityAcc-arCoeff()-Y,4",
         "rawType": "object",
         "type": "string"
        },
        {
         "name": "tGravityAcc-arCoeff()-Z,1",
         "rawType": "object",
         "type": "string"
        },
        {
         "name": "tGravityAcc-arCoeff()-Z,2",
         "rawType": "object",
         "type": "string"
        },
        {
         "name": "tGravityAcc-arCoeff()-Z,3",
         "rawType": "object",
         "type": "string"
        },
        {
         "name": "tGravityAcc-arCoeff()-Z,4",
         "rawType": "object",
         "type": "string"
        },
        {
         "name": "tGravityAcc-correlation()-X,Y",
         "rawType": "object",
         "type": "string"
        },
        {
         "name": "tGravityAcc-correlation()-X,Z",
         "rawType": "object",
         "type": "string"
        },
        {
         "name": "tGravityAcc-correlation()-Y,Z",
         "rawType": "object",
         "type": "string"
        },
        {
         "name": "tBodyAccJerk-mean()-X",
         "rawType": "object",
         "type": "string"
        },
        {
         "name": "tBodyAccJerk-mean()-Y",
         "rawType": "object",
         "type": "string"
        },
        {
         "name": "tBodyAccJerk-mean()-Z",
         "rawType": "object",
         "type": "string"
        },
        {
         "name": "tBodyAccJerk-std()-X",
         "rawType": "object",
         "type": "string"
        },
        {
         "name": "tBodyAccJerk-std()-Y",
         "rawType": "object",
         "type": "string"
        },
        {
         "name": "tBodyAccJerk-std()-Z",
         "rawType": "object",
         "type": "string"
        },
        {
         "name": "tBodyAccJerk-mad()-X",
         "rawType": "object",
         "type": "string"
        },
        {
         "name": "tBodyAccJerk-mad()-Y",
         "rawType": "object",
         "type": "string"
        },
        {
         "name": "tBodyAccJerk-mad()-Z",
         "rawType": "object",
         "type": "string"
        },
        {
         "name": "tBodyAccJerk-max()-X",
         "rawType": "object",
         "type": "string"
        },
        {
         "name": "tBodyAccJerk-max()-Y",
         "rawType": "object",
         "type": "string"
        },
        {
         "name": "tBodyAccJerk-max()-Z",
         "rawType": "object",
         "type": "string"
        },
        {
         "name": "tBodyAccJerk-min()-X",
         "rawType": "object",
         "type": "string"
        },
        {
         "name": "tBodyAccJerk-min()-Y",
         "rawType": "object",
         "type": "string"
        },
        {
         "name": "tBodyAccJerk-min()-Z",
         "rawType": "object",
         "type": "string"
        },
        {
         "name": "tBodyAccJerk-sma()",
         "rawType": "object",
         "type": "string"
        },
        {
         "name": "tBodyAccJerk-energy()-X",
         "rawType": "object",
         "type": "string"
        },
        {
         "name": "tBodyAccJerk-energy()-Y",
         "rawType": "object",
         "type": "string"
        },
        {
         "name": "tBodyAccJerk-energy()-Z",
         "rawType": "object",
         "type": "string"
        },
        {
         "name": "tBodyAccJerk-iqr()-X",
         "rawType": "object",
         "type": "string"
        },
        {
         "name": "tBodyAccJerk-iqr()-Y",
         "rawType": "object",
         "type": "string"
        },
        {
         "name": "tBodyAccJerk-iqr()-Z",
         "rawType": "object",
         "type": "string"
        },
        {
         "name": "tBodyAccJerk-entropy()-X",
         "rawType": "object",
         "type": "string"
        },
        {
         "name": "tBodyAccJerk-entropy()-Y",
         "rawType": "object",
         "type": "string"
        },
        {
         "name": "tBodyAccJerk-entropy()-Z",
         "rawType": "object",
         "type": "string"
        },
        {
         "name": "tBodyAccJerk-arCoeff()-X,1",
         "rawType": "object",
         "type": "string"
        },
        {
         "name": "tBodyAccJerk-arCoeff()-X,2",
         "rawType": "object",
         "type": "string"
        },
        {
         "name": "tBodyAccJerk-arCoeff()-X,3",
         "rawType": "object",
         "type": "string"
        },
        {
         "name": "tBodyAccJerk-arCoeff()-X,4",
         "rawType": "object",
         "type": "string"
        },
        {
         "name": "tBodyAccJerk-arCoeff()-Y,1",
         "rawType": "object",
         "type": "string"
        },
        {
         "name": "tBodyAccJerk-arCoeff()-Y,2",
         "rawType": "object",
         "type": "string"
        },
        {
         "name": "tBodyAccJerk-arCoeff()-Y,3",
         "rawType": "object",
         "type": "string"
        },
        {
         "name": "tBodyAccJerk-arCoeff()-Y,4",
         "rawType": "object",
         "type": "string"
        },
        {
         "name": "tBodyAccJerk-arCoeff()-Z,1",
         "rawType": "object",
         "type": "string"
        },
        {
         "name": "tBodyAccJerk-arCoeff()-Z,2",
         "rawType": "object",
         "type": "string"
        },
        {
         "name": "tBodyAccJerk-arCoeff()-Z,3",
         "rawType": "object",
         "type": "string"
        },
        {
         "name": "tBodyAccJerk-arCoeff()-Z,4",
         "rawType": "object",
         "type": "string"
        },
        {
         "name": "tBodyAccJerk-correlation()-X,Y",
         "rawType": "object",
         "type": "string"
        },
        {
         "name": "tBodyAccJerk-correlation()-X,Z",
         "rawType": "object",
         "type": "string"
        },
        {
         "name": "tBodyAccJerk-correlation()-Y,Z",
         "rawType": "object",
         "type": "string"
        },
        {
         "name": "tBodyGyro-mean()-X",
         "rawType": "object",
         "type": "string"
        },
        {
         "name": "tBodyGyro-mean()-Y",
         "rawType": "object",
         "type": "string"
        },
        {
         "name": "tBodyGyro-mean()-Z",
         "rawType": "object",
         "type": "string"
        },
        {
         "name": "tBodyGyro-std()-X",
         "rawType": "object",
         "type": "string"
        },
        {
         "name": "tBodyGyro-std()-Y",
         "rawType": "object",
         "type": "string"
        },
        {
         "name": "tBodyGyro-std()-Z",
         "rawType": "object",
         "type": "string"
        },
        {
         "name": "tBodyGyro-mad()-X",
         "rawType": "object",
         "type": "string"
        },
        {
         "name": "tBodyGyro-mad()-Y",
         "rawType": "object",
         "type": "string"
        },
        {
         "name": "tBodyGyro-mad()-Z",
         "rawType": "object",
         "type": "string"
        },
        {
         "name": "tBodyGyro-max()-X",
         "rawType": "object",
         "type": "string"
        },
        {
         "name": "tBodyGyro-max()-Y",
         "rawType": "object",
         "type": "string"
        },
        {
         "name": "tBodyGyro-max()-Z",
         "rawType": "object",
         "type": "string"
        },
        {
         "name": "tBodyGyro-min()-X",
         "rawType": "object",
         "type": "string"
        },
        {
         "name": "tBodyGyro-min()-Y",
         "rawType": "object",
         "type": "string"
        },
        {
         "name": "tBodyGyro-min()-Z",
         "rawType": "object",
         "type": "string"
        },
        {
         "name": "tBodyGyro-sma()",
         "rawType": "object",
         "type": "string"
        },
        {
         "name": "tBodyGyro-energy()-X",
         "rawType": "object",
         "type": "string"
        },
        {
         "name": "tBodyGyro-energy()-Y",
         "rawType": "object",
         "type": "string"
        },
        {
         "name": "tBodyGyro-energy()-Z",
         "rawType": "object",
         "type": "string"
        },
        {
         "name": "tBodyGyro-iqr()-X",
         "rawType": "object",
         "type": "string"
        },
        {
         "name": "tBodyGyro-iqr()-Y",
         "rawType": "object",
         "type": "string"
        },
        {
         "name": "tBodyGyro-iqr()-Z",
         "rawType": "object",
         "type": "string"
        },
        {
         "name": "tBodyGyro-entropy()-X",
         "rawType": "object",
         "type": "string"
        },
        {
         "name": "tBodyGyro-entropy()-Y",
         "rawType": "object",
         "type": "string"
        },
        {
         "name": "tBodyGyro-entropy()-Z",
         "rawType": "object",
         "type": "string"
        },
        {
         "name": "tBodyGyro-arCoeff()-X,1",
         "rawType": "object",
         "type": "string"
        },
        {
         "name": "tBodyGyro-arCoeff()-X,2",
         "rawType": "object",
         "type": "string"
        },
        {
         "name": "tBodyGyro-arCoeff()-X,3",
         "rawType": "object",
         "type": "string"
        },
        {
         "name": "tBodyGyro-arCoeff()-X,4",
         "rawType": "object",
         "type": "string"
        },
        {
         "name": "tBodyGyro-arCoeff()-Y,1",
         "rawType": "object",
         "type": "string"
        },
        {
         "name": "tBodyGyro-arCoeff()-Y,2",
         "rawType": "object",
         "type": "string"
        },
        {
         "name": "tBodyGyro-arCoeff()-Y,3",
         "rawType": "object",
         "type": "string"
        },
        {
         "name": "tBodyGyro-arCoeff()-Y,4",
         "rawType": "object",
         "type": "string"
        },
        {
         "name": "tBodyGyro-arCoeff()-Z,1",
         "rawType": "object",
         "type": "string"
        },
        {
         "name": "tBodyGyro-arCoeff()-Z,2",
         "rawType": "object",
         "type": "string"
        },
        {
         "name": "tBodyGyro-arCoeff()-Z,3",
         "rawType": "object",
         "type": "string"
        },
        {
         "name": "tBodyGyro-arCoeff()-Z,4",
         "rawType": "object",
         "type": "string"
        },
        {
         "name": "tBodyGyro-correlation()-X,Y",
         "rawType": "object",
         "type": "string"
        },
        {
         "name": "tBodyGyro-correlation()-X,Z",
         "rawType": "object",
         "type": "string"
        },
        {
         "name": "tBodyGyro-correlation()-Y,Z",
         "rawType": "object",
         "type": "string"
        },
        {
         "name": "tBodyGyroJerk-mean()-X",
         "rawType": "object",
         "type": "string"
        },
        {
         "name": "tBodyGyroJerk-mean()-Y",
         "rawType": "object",
         "type": "string"
        },
        {
         "name": "tBodyGyroJerk-mean()-Z",
         "rawType": "object",
         "type": "string"
        },
        {
         "name": "tBodyGyroJerk-std()-X",
         "rawType": "object",
         "type": "string"
        },
        {
         "name": "tBodyGyroJerk-std()-Y",
         "rawType": "object",
         "type": "string"
        },
        {
         "name": "tBodyGyroJerk-std()-Z",
         "rawType": "object",
         "type": "string"
        },
        {
         "name": "tBodyGyroJerk-mad()-X",
         "rawType": "object",
         "type": "string"
        },
        {
         "name": "tBodyGyroJerk-mad()-Y",
         "rawType": "object",
         "type": "string"
        },
        {
         "name": "tBodyGyroJerk-mad()-Z",
         "rawType": "object",
         "type": "string"
        },
        {
         "name": "tBodyGyroJerk-max()-X",
         "rawType": "object",
         "type": "string"
        },
        {
         "name": "tBodyGyroJerk-max()-Y",
         "rawType": "object",
         "type": "string"
        },
        {
         "name": "tBodyGyroJerk-max()-Z",
         "rawType": "object",
         "type": "string"
        },
        {
         "name": "tBodyGyroJerk-min()-X",
         "rawType": "object",
         "type": "string"
        },
        {
         "name": "tBodyGyroJerk-min()-Y",
         "rawType": "object",
         "type": "string"
        },
        {
         "name": "tBodyGyroJerk-min()-Z",
         "rawType": "object",
         "type": "string"
        },
        {
         "name": "tBodyGyroJerk-sma()",
         "rawType": "object",
         "type": "string"
        },
        {
         "name": "tBodyGyroJerk-energy()-X",
         "rawType": "object",
         "type": "string"
        },
        {
         "name": "tBodyGyroJerk-energy()-Y",
         "rawType": "object",
         "type": "string"
        },
        {
         "name": "tBodyGyroJerk-energy()-Z",
         "rawType": "object",
         "type": "string"
        },
        {
         "name": "tBodyGyroJerk-iqr()-X",
         "rawType": "object",
         "type": "string"
        },
        {
         "name": "tBodyGyroJerk-iqr()-Y",
         "rawType": "object",
         "type": "string"
        },
        {
         "name": "tBodyGyroJerk-iqr()-Z",
         "rawType": "object",
         "type": "string"
        },
        {
         "name": "tBodyGyroJerk-entropy()-X",
         "rawType": "object",
         "type": "string"
        },
        {
         "name": "tBodyGyroJerk-entropy()-Y",
         "rawType": "object",
         "type": "string"
        },
        {
         "name": "tBodyGyroJerk-entropy()-Z",
         "rawType": "object",
         "type": "string"
        },
        {
         "name": "tBodyGyroJerk-arCoeff()-X,1",
         "rawType": "object",
         "type": "string"
        },
        {
         "name": "tBodyGyroJerk-arCoeff()-X,2",
         "rawType": "object",
         "type": "string"
        },
        {
         "name": "tBodyGyroJerk-arCoeff()-X,3",
         "rawType": "object",
         "type": "string"
        },
        {
         "name": "tBodyGyroJerk-arCoeff()-X,4",
         "rawType": "object",
         "type": "string"
        },
        {
         "name": "tBodyGyroJerk-arCoeff()-Y,1",
         "rawType": "object",
         "type": "string"
        },
        {
         "name": "tBodyGyroJerk-arCoeff()-Y,2",
         "rawType": "object",
         "type": "string"
        },
        {
         "name": "tBodyGyroJerk-arCoeff()-Y,3",
         "rawType": "object",
         "type": "string"
        },
        {
         "name": "tBodyGyroJerk-arCoeff()-Y,4",
         "rawType": "object",
         "type": "string"
        },
        {
         "name": "tBodyGyroJerk-arCoeff()-Z,1",
         "rawType": "object",
         "type": "string"
        },
        {
         "name": "tBodyGyroJerk-arCoeff()-Z,2",
         "rawType": "object",
         "type": "string"
        },
        {
         "name": "tBodyGyroJerk-arCoeff()-Z,3",
         "rawType": "object",
         "type": "string"
        },
        {
         "name": "tBodyGyroJerk-arCoeff()-Z,4",
         "rawType": "object",
         "type": "string"
        },
        {
         "name": "tBodyGyroJerk-correlation()-X,Y",
         "rawType": "object",
         "type": "string"
        },
        {
         "name": "tBodyGyroJerk-correlation()-X,Z",
         "rawType": "object",
         "type": "string"
        },
        {
         "name": "tBodyGyroJerk-correlation()-Y,Z",
         "rawType": "object",
         "type": "string"
        },
        {
         "name": "tBodyAccMag-mean()",
         "rawType": "object",
         "type": "string"
        },
        {
         "name": "tBodyAccMag-std()",
         "rawType": "object",
         "type": "string"
        },
        {
         "name": "tBodyAccMag-mad()",
         "rawType": "object",
         "type": "string"
        },
        {
         "name": "tBodyAccMag-max()",
         "rawType": "object",
         "type": "string"
        },
        {
         "name": "tBodyAccMag-min()",
         "rawType": "object",
         "type": "string"
        },
        {
         "name": "tBodyAccMag-sma()",
         "rawType": "object",
         "type": "string"
        },
        {
         "name": "tBodyAccMag-energy()",
         "rawType": "object",
         "type": "string"
        },
        {
         "name": "tBodyAccMag-iqr()",
         "rawType": "object",
         "type": "string"
        },
        {
         "name": "tBodyAccMag-entropy()",
         "rawType": "object",
         "type": "string"
        },
        {
         "name": "tBodyAccMag-arCoeff()1",
         "rawType": "object",
         "type": "string"
        },
        {
         "name": "tBodyAccMag-arCoeff()2",
         "rawType": "object",
         "type": "string"
        },
        {
         "name": "tBodyAccMag-arCoeff()3",
         "rawType": "object",
         "type": "string"
        },
        {
         "name": "tBodyAccMag-arCoeff()4",
         "rawType": "object",
         "type": "string"
        },
        {
         "name": "tGravityAccMag-mean()",
         "rawType": "object",
         "type": "string"
        },
        {
         "name": "tGravityAccMag-std()",
         "rawType": "object",
         "type": "string"
        },
        {
         "name": "tGravityAccMag-mad()",
         "rawType": "object",
         "type": "string"
        },
        {
         "name": "tGravityAccMag-max()",
         "rawType": "object",
         "type": "string"
        },
        {
         "name": "tGravityAccMag-min()",
         "rawType": "object",
         "type": "string"
        },
        {
         "name": "tGravityAccMag-sma()",
         "rawType": "object",
         "type": "string"
        },
        {
         "name": "tGravityAccMag-energy()",
         "rawType": "object",
         "type": "string"
        },
        {
         "name": "tGravityAccMag-iqr()",
         "rawType": "object",
         "type": "string"
        },
        {
         "name": "tGravityAccMag-entropy()",
         "rawType": "object",
         "type": "string"
        },
        {
         "name": "tGravityAccMag-arCoeff()1",
         "rawType": "object",
         "type": "string"
        },
        {
         "name": "tGravityAccMag-arCoeff()2",
         "rawType": "object",
         "type": "string"
        },
        {
         "name": "tGravityAccMag-arCoeff()3",
         "rawType": "object",
         "type": "string"
        },
        {
         "name": "tGravityAccMag-arCoeff()4",
         "rawType": "object",
         "type": "string"
        },
        {
         "name": "tBodyAccJerkMag-mean()",
         "rawType": "object",
         "type": "string"
        },
        {
         "name": "tBodyAccJerkMag-std()",
         "rawType": "object",
         "type": "string"
        },
        {
         "name": "tBodyAccJerkMag-mad()",
         "rawType": "object",
         "type": "string"
        },
        {
         "name": "tBodyAccJerkMag-max()",
         "rawType": "object",
         "type": "string"
        },
        {
         "name": "tBodyAccJerkMag-min()",
         "rawType": "object",
         "type": "string"
        },
        {
         "name": "tBodyAccJerkMag-sma()",
         "rawType": "object",
         "type": "string"
        },
        {
         "name": "tBodyAccJerkMag-energy()",
         "rawType": "object",
         "type": "string"
        },
        {
         "name": "tBodyAccJerkMag-iqr()",
         "rawType": "object",
         "type": "string"
        },
        {
         "name": "tBodyAccJerkMag-entropy()",
         "rawType": "object",
         "type": "string"
        },
        {
         "name": "tBodyAccJerkMag-arCoeff()1",
         "rawType": "object",
         "type": "string"
        },
        {
         "name": "tBodyAccJerkMag-arCoeff()2",
         "rawType": "object",
         "type": "string"
        },
        {
         "name": "tBodyAccJerkMag-arCoeff()3",
         "rawType": "object",
         "type": "string"
        },
        {
         "name": "tBodyAccJerkMag-arCoeff()4",
         "rawType": "object",
         "type": "string"
        },
        {
         "name": "tBodyGyroMag-mean()",
         "rawType": "object",
         "type": "string"
        },
        {
         "name": "tBodyGyroMag-std()",
         "rawType": "object",
         "type": "string"
        },
        {
         "name": "tBodyGyroMag-mad()",
         "rawType": "object",
         "type": "string"
        },
        {
         "name": "tBodyGyroMag-max()",
         "rawType": "object",
         "type": "string"
        },
        {
         "name": "tBodyGyroMag-min()",
         "rawType": "object",
         "type": "string"
        },
        {
         "name": "tBodyGyroMag-sma()",
         "rawType": "object",
         "type": "string"
        },
        {
         "name": "tBodyGyroMag-energy()",
         "rawType": "object",
         "type": "string"
        },
        {
         "name": "tBodyGyroMag-iqr()",
         "rawType": "object",
         "type": "string"
        },
        {
         "name": "tBodyGyroMag-entropy()",
         "rawType": "object",
         "type": "string"
        },
        {
         "name": "tBodyGyroMag-arCoeff()1",
         "rawType": "object",
         "type": "string"
        },
        {
         "name": "tBodyGyroMag-arCoeff()2",
         "rawType": "object",
         "type": "string"
        },
        {
         "name": "tBodyGyroMag-arCoeff()3",
         "rawType": "object",
         "type": "string"
        },
        {
         "name": "tBodyGyroMag-arCoeff()4",
         "rawType": "object",
         "type": "string"
        },
        {
         "name": "tBodyGyroJerkMag-mean()",
         "rawType": "object",
         "type": "string"
        },
        {
         "name": "tBodyGyroJerkMag-std()",
         "rawType": "object",
         "type": "string"
        },
        {
         "name": "tBodyGyroJerkMag-mad()",
         "rawType": "object",
         "type": "string"
        },
        {
         "name": "tBodyGyroJerkMag-max()",
         "rawType": "object",
         "type": "string"
        },
        {
         "name": "tBodyGyroJerkMag-min()",
         "rawType": "object",
         "type": "string"
        },
        {
         "name": "tBodyGyroJerkMag-sma()",
         "rawType": "object",
         "type": "string"
        },
        {
         "name": "tBodyGyroJerkMag-energy()",
         "rawType": "object",
         "type": "string"
        },
        {
         "name": "tBodyGyroJerkMag-iqr()",
         "rawType": "object",
         "type": "string"
        },
        {
         "name": "tBodyGyroJerkMag-entropy()",
         "rawType": "object",
         "type": "string"
        },
        {
         "name": "tBodyGyroJerkMag-arCoeff()1",
         "rawType": "object",
         "type": "string"
        },
        {
         "name": "tBodyGyroJerkMag-arCoeff()2",
         "rawType": "object",
         "type": "string"
        },
        {
         "name": "tBodyGyroJerkMag-arCoeff()3",
         "rawType": "object",
         "type": "string"
        },
        {
         "name": "tBodyGyroJerkMag-arCoeff()4",
         "rawType": "object",
         "type": "string"
        },
        {
         "name": "fBodyAcc-mean()-X",
         "rawType": "object",
         "type": "string"
        },
        {
         "name": "fBodyAcc-mean()-Y",
         "rawType": "object",
         "type": "string"
        },
        {
         "name": "fBodyAcc-mean()-Z",
         "rawType": "object",
         "type": "string"
        },
        {
         "name": "fBodyAcc-std()-X",
         "rawType": "object",
         "type": "string"
        },
        {
         "name": "fBodyAcc-std()-Y",
         "rawType": "object",
         "type": "string"
        },
        {
         "name": "fBodyAcc-std()-Z",
         "rawType": "object",
         "type": "string"
        },
        {
         "name": "fBodyAcc-mad()-X",
         "rawType": "object",
         "type": "string"
        },
        {
         "name": "fBodyAcc-mad()-Y",
         "rawType": "object",
         "type": "string"
        },
        {
         "name": "fBodyAcc-mad()-Z",
         "rawType": "object",
         "type": "string"
        },
        {
         "name": "fBodyAcc-max()-X",
         "rawType": "object",
         "type": "string"
        },
        {
         "name": "fBodyAcc-max()-Y",
         "rawType": "object",
         "type": "string"
        },
        {
         "name": "fBodyAcc-max()-Z",
         "rawType": "object",
         "type": "string"
        },
        {
         "name": "fBodyAcc-min()-X",
         "rawType": "object",
         "type": "string"
        },
        {
         "name": "fBodyAcc-min()-Y",
         "rawType": "object",
         "type": "string"
        },
        {
         "name": "fBodyAcc-min()-Z",
         "rawType": "object",
         "type": "string"
        },
        {
         "name": "fBodyAcc-sma()",
         "rawType": "object",
         "type": "string"
        },
        {
         "name": "fBodyAcc-energy()-X",
         "rawType": "object",
         "type": "string"
        },
        {
         "name": "fBodyAcc-energy()-Y",
         "rawType": "object",
         "type": "string"
        },
        {
         "name": "fBodyAcc-energy()-Z",
         "rawType": "object",
         "type": "string"
        },
        {
         "name": "fBodyAcc-iqr()-X",
         "rawType": "object",
         "type": "string"
        },
        {
         "name": "fBodyAcc-iqr()-Y",
         "rawType": "object",
         "type": "string"
        },
        {
         "name": "fBodyAcc-iqr()-Z",
         "rawType": "object",
         "type": "string"
        },
        {
         "name": "fBodyAcc-entropy()-X",
         "rawType": "object",
         "type": "string"
        },
        {
         "name": "fBodyAcc-entropy()-Y",
         "rawType": "object",
         "type": "string"
        },
        {
         "name": "fBodyAcc-entropy()-Z",
         "rawType": "object",
         "type": "string"
        },
        {
         "name": "fBodyAcc-maxInds-X",
         "rawType": "object",
         "type": "string"
        },
        {
         "name": "fBodyAcc-maxInds-Y",
         "rawType": "object",
         "type": "string"
        },
        {
         "name": "fBodyAcc-maxInds-Z",
         "rawType": "object",
         "type": "string"
        },
        {
         "name": "fBodyAcc-meanFreq()-X",
         "rawType": "object",
         "type": "string"
        },
        {
         "name": "fBodyAcc-meanFreq()-Y",
         "rawType": "object",
         "type": "string"
        },
        {
         "name": "fBodyAcc-meanFreq()-Z",
         "rawType": "object",
         "type": "string"
        },
        {
         "name": "fBodyAcc-skewness()-X",
         "rawType": "object",
         "type": "string"
        },
        {
         "name": "fBodyAcc-kurtosis()-X",
         "rawType": "object",
         "type": "string"
        },
        {
         "name": "fBodyAcc-skewness()-Y",
         "rawType": "object",
         "type": "string"
        },
        {
         "name": "fBodyAcc-kurtosis()-Y",
         "rawType": "object",
         "type": "string"
        },
        {
         "name": "fBodyAcc-skewness()-Z",
         "rawType": "object",
         "type": "string"
        },
        {
         "name": "fBodyAcc-kurtosis()-Z",
         "rawType": "object",
         "type": "string"
        },
        {
         "name": "fBodyAcc-bandsEnergy()-1,8",
         "rawType": "object",
         "type": "string"
        },
        {
         "name": "fBodyAcc-bandsEnergy()-9,16",
         "rawType": "object",
         "type": "string"
        },
        {
         "name": "fBodyAcc-bandsEnergy()-17,24",
         "rawType": "object",
         "type": "string"
        },
        {
         "name": "fBodyAcc-bandsEnergy()-25,32",
         "rawType": "object",
         "type": "string"
        },
        {
         "name": "fBodyAcc-bandsEnergy()-33,40",
         "rawType": "object",
         "type": "string"
        },
        {
         "name": "fBodyAcc-bandsEnergy()-41,48",
         "rawType": "object",
         "type": "string"
        },
        {
         "name": "fBodyAcc-bandsEnergy()-49,56",
         "rawType": "object",
         "type": "string"
        },
        {
         "name": "fBodyAcc-bandsEnergy()-57,64",
         "rawType": "object",
         "type": "string"
        },
        {
         "name": "fBodyAcc-bandsEnergy()-1,16",
         "rawType": "object",
         "type": "string"
        },
        {
         "name": "fBodyAcc-bandsEnergy()-17,32",
         "rawType": "object",
         "type": "string"
        },
        {
         "name": "fBodyAcc-bandsEnergy()-33,48",
         "rawType": "object",
         "type": "string"
        },
        {
         "name": "fBodyAcc-bandsEnergy()-49,64",
         "rawType": "object",
         "type": "string"
        },
        {
         "name": "fBodyAcc-bandsEnergy()-1,24",
         "rawType": "object",
         "type": "string"
        },
        {
         "name": "fBodyAcc-bandsEnergy()-25,48",
         "rawType": "object",
         "type": "string"
        },
        {
         "name": "fBodyAcc-bandsEnergy()-1,8",
         "rawType": "object",
         "type": "string"
        },
        {
         "name": "fBodyAcc-bandsEnergy()-9,16",
         "rawType": "object",
         "type": "string"
        },
        {
         "name": "fBodyAcc-bandsEnergy()-17,24",
         "rawType": "object",
         "type": "string"
        },
        {
         "name": "fBodyAcc-bandsEnergy()-25,32",
         "rawType": "object",
         "type": "string"
        },
        {
         "name": "fBodyAcc-bandsEnergy()-33,40",
         "rawType": "object",
         "type": "string"
        },
        {
         "name": "fBodyAcc-bandsEnergy()-41,48",
         "rawType": "object",
         "type": "string"
        },
        {
         "name": "fBodyAcc-bandsEnergy()-49,56",
         "rawType": "object",
         "type": "string"
        },
        {
         "name": "fBodyAcc-bandsEnergy()-57,64",
         "rawType": "object",
         "type": "string"
        },
        {
         "name": "fBodyAcc-bandsEnergy()-1,16",
         "rawType": "object",
         "type": "string"
        },
        {
         "name": "fBodyAcc-bandsEnergy()-17,32",
         "rawType": "object",
         "type": "string"
        },
        {
         "name": "fBodyAcc-bandsEnergy()-33,48",
         "rawType": "object",
         "type": "string"
        },
        {
         "name": "fBodyAcc-bandsEnergy()-49,64",
         "rawType": "object",
         "type": "string"
        },
        {
         "name": "fBodyAcc-bandsEnergy()-1,24",
         "rawType": "object",
         "type": "string"
        },
        {
         "name": "fBodyAcc-bandsEnergy()-25,48",
         "rawType": "object",
         "type": "string"
        },
        {
         "name": "fBodyAcc-bandsEnergy()-1,8",
         "rawType": "object",
         "type": "string"
        },
        {
         "name": "fBodyAcc-bandsEnergy()-9,16",
         "rawType": "object",
         "type": "string"
        },
        {
         "name": "fBodyAcc-bandsEnergy()-17,24",
         "rawType": "object",
         "type": "string"
        },
        {
         "name": "fBodyAcc-bandsEnergy()-25,32",
         "rawType": "object",
         "type": "string"
        },
        {
         "name": "fBodyAcc-bandsEnergy()-33,40",
         "rawType": "object",
         "type": "string"
        },
        {
         "name": "fBodyAcc-bandsEnergy()-41,48",
         "rawType": "object",
         "type": "string"
        },
        {
         "name": "fBodyAcc-bandsEnergy()-49,56",
         "rawType": "object",
         "type": "string"
        },
        {
         "name": "fBodyAcc-bandsEnergy()-57,64",
         "rawType": "object",
         "type": "string"
        },
        {
         "name": "fBodyAcc-bandsEnergy()-1,16",
         "rawType": "object",
         "type": "string"
        },
        {
         "name": "fBodyAcc-bandsEnergy()-17,32",
         "rawType": "object",
         "type": "string"
        },
        {
         "name": "fBodyAcc-bandsEnergy()-33,48",
         "rawType": "object",
         "type": "string"
        },
        {
         "name": "fBodyAcc-bandsEnergy()-49,64",
         "rawType": "object",
         "type": "string"
        },
        {
         "name": "fBodyAcc-bandsEnergy()-1,24",
         "rawType": "object",
         "type": "string"
        },
        {
         "name": "fBodyAcc-bandsEnergy()-25,48",
         "rawType": "object",
         "type": "string"
        },
        {
         "name": "fBodyAccJerk-mean()-X",
         "rawType": "object",
         "type": "string"
        },
        {
         "name": "fBodyAccJerk-mean()-Y",
         "rawType": "object",
         "type": "string"
        },
        {
         "name": "fBodyAccJerk-mean()-Z",
         "rawType": "object",
         "type": "string"
        },
        {
         "name": "fBodyAccJerk-std()-X",
         "rawType": "object",
         "type": "string"
        },
        {
         "name": "fBodyAccJerk-std()-Y",
         "rawType": "object",
         "type": "string"
        },
        {
         "name": "fBodyAccJerk-std()-Z",
         "rawType": "object",
         "type": "string"
        },
        {
         "name": "fBodyAccJerk-mad()-X",
         "rawType": "object",
         "type": "string"
        },
        {
         "name": "fBodyAccJerk-mad()-Y",
         "rawType": "object",
         "type": "string"
        },
        {
         "name": "fBodyAccJerk-mad()-Z",
         "rawType": "object",
         "type": "string"
        },
        {
         "name": "fBodyAccJerk-max()-X",
         "rawType": "object",
         "type": "string"
        },
        {
         "name": "fBodyAccJerk-max()-Y",
         "rawType": "object",
         "type": "string"
        },
        {
         "name": "fBodyAccJerk-max()-Z",
         "rawType": "object",
         "type": "string"
        },
        {
         "name": "fBodyAccJerk-min()-X",
         "rawType": "object",
         "type": "string"
        },
        {
         "name": "fBodyAccJerk-min()-Y",
         "rawType": "object",
         "type": "string"
        },
        {
         "name": "fBodyAccJerk-min()-Z",
         "rawType": "object",
         "type": "string"
        },
        {
         "name": "fBodyAccJerk-sma()",
         "rawType": "object",
         "type": "string"
        },
        {
         "name": "fBodyAccJerk-energy()-X",
         "rawType": "object",
         "type": "string"
        },
        {
         "name": "fBodyAccJerk-energy()-Y",
         "rawType": "object",
         "type": "string"
        },
        {
         "name": "fBodyAccJerk-energy()-Z",
         "rawType": "object",
         "type": "string"
        },
        {
         "name": "fBodyAccJerk-iqr()-X",
         "rawType": "object",
         "type": "string"
        },
        {
         "name": "fBodyAccJerk-iqr()-Y",
         "rawType": "object",
         "type": "string"
        },
        {
         "name": "fBodyAccJerk-iqr()-Z",
         "rawType": "object",
         "type": "string"
        },
        {
         "name": "fBodyAccJerk-entropy()-X",
         "rawType": "object",
         "type": "string"
        },
        {
         "name": "fBodyAccJerk-entropy()-Y",
         "rawType": "object",
         "type": "string"
        },
        {
         "name": "fBodyAccJerk-entropy()-Z",
         "rawType": "object",
         "type": "string"
        },
        {
         "name": "fBodyAccJerk-maxInds-X",
         "rawType": "object",
         "type": "string"
        },
        {
         "name": "fBodyAccJerk-maxInds-Y",
         "rawType": "object",
         "type": "string"
        },
        {
         "name": "fBodyAccJerk-maxInds-Z",
         "rawType": "object",
         "type": "string"
        },
        {
         "name": "fBodyAccJerk-meanFreq()-X",
         "rawType": "object",
         "type": "string"
        },
        {
         "name": "fBodyAccJerk-meanFreq()-Y",
         "rawType": "object",
         "type": "string"
        },
        {
         "name": "fBodyAccJerk-meanFreq()-Z",
         "rawType": "object",
         "type": "string"
        },
        {
         "name": "fBodyAccJerk-skewness()-X",
         "rawType": "object",
         "type": "string"
        },
        {
         "name": "fBodyAccJerk-kurtosis()-X",
         "rawType": "object",
         "type": "string"
        },
        {
         "name": "fBodyAccJerk-skewness()-Y",
         "rawType": "object",
         "type": "string"
        },
        {
         "name": "fBodyAccJerk-kurtosis()-Y",
         "rawType": "object",
         "type": "string"
        },
        {
         "name": "fBodyAccJerk-skewness()-Z",
         "rawType": "object",
         "type": "string"
        },
        {
         "name": "fBodyAccJerk-kurtosis()-Z",
         "rawType": "object",
         "type": "string"
        },
        {
         "name": "fBodyAccJerk-bandsEnergy()-1,8",
         "rawType": "object",
         "type": "string"
        },
        {
         "name": "fBodyAccJerk-bandsEnergy()-9,16",
         "rawType": "object",
         "type": "string"
        },
        {
         "name": "fBodyAccJerk-bandsEnergy()-17,24",
         "rawType": "object",
         "type": "string"
        },
        {
         "name": "fBodyAccJerk-bandsEnergy()-25,32",
         "rawType": "object",
         "type": "string"
        },
        {
         "name": "fBodyAccJerk-bandsEnergy()-33,40",
         "rawType": "object",
         "type": "string"
        },
        {
         "name": "fBodyAccJerk-bandsEnergy()-41,48",
         "rawType": "object",
         "type": "string"
        },
        {
         "name": "fBodyAccJerk-bandsEnergy()-49,56",
         "rawType": "object",
         "type": "string"
        },
        {
         "name": "fBodyAccJerk-bandsEnergy()-57,64",
         "rawType": "object",
         "type": "string"
        },
        {
         "name": "fBodyAccJerk-bandsEnergy()-1,16",
         "rawType": "object",
         "type": "string"
        },
        {
         "name": "fBodyAccJerk-bandsEnergy()-17,32",
         "rawType": "object",
         "type": "string"
        },
        {
         "name": "fBodyAccJerk-bandsEnergy()-33,48",
         "rawType": "object",
         "type": "string"
        },
        {
         "name": "fBodyAccJerk-bandsEnergy()-49,64",
         "rawType": "object",
         "type": "string"
        },
        {
         "name": "fBodyAccJerk-bandsEnergy()-1,24",
         "rawType": "object",
         "type": "string"
        },
        {
         "name": "fBodyAccJerk-bandsEnergy()-25,48",
         "rawType": "object",
         "type": "string"
        },
        {
         "name": "fBodyAccJerk-bandsEnergy()-1,8",
         "rawType": "object",
         "type": "string"
        },
        {
         "name": "fBodyAccJerk-bandsEnergy()-9,16",
         "rawType": "object",
         "type": "string"
        },
        {
         "name": "fBodyAccJerk-bandsEnergy()-17,24",
         "rawType": "object",
         "type": "string"
        },
        {
         "name": "fBodyAccJerk-bandsEnergy()-25,32",
         "rawType": "object",
         "type": "string"
        },
        {
         "name": "fBodyAccJerk-bandsEnergy()-33,40",
         "rawType": "object",
         "type": "string"
        },
        {
         "name": "fBodyAccJerk-bandsEnergy()-41,48",
         "rawType": "object",
         "type": "string"
        },
        {
         "name": "fBodyAccJerk-bandsEnergy()-49,56",
         "rawType": "object",
         "type": "string"
        },
        {
         "name": "fBodyAccJerk-bandsEnergy()-57,64",
         "rawType": "object",
         "type": "string"
        },
        {
         "name": "fBodyAccJerk-bandsEnergy()-1,16",
         "rawType": "object",
         "type": "string"
        },
        {
         "name": "fBodyAccJerk-bandsEnergy()-17,32",
         "rawType": "object",
         "type": "string"
        },
        {
         "name": "fBodyAccJerk-bandsEnergy()-33,48",
         "rawType": "object",
         "type": "string"
        },
        {
         "name": "fBodyAccJerk-bandsEnergy()-49,64",
         "rawType": "object",
         "type": "string"
        },
        {
         "name": "fBodyAccJerk-bandsEnergy()-1,24",
         "rawType": "object",
         "type": "string"
        },
        {
         "name": "fBodyAccJerk-bandsEnergy()-25,48",
         "rawType": "object",
         "type": "string"
        },
        {
         "name": "fBodyAccJerk-bandsEnergy()-1,8",
         "rawType": "object",
         "type": "string"
        },
        {
         "name": "fBodyAccJerk-bandsEnergy()-9,16",
         "rawType": "object",
         "type": "string"
        },
        {
         "name": "fBodyAccJerk-bandsEnergy()-17,24",
         "rawType": "object",
         "type": "string"
        },
        {
         "name": "fBodyAccJerk-bandsEnergy()-25,32",
         "rawType": "object",
         "type": "string"
        },
        {
         "name": "fBodyAccJerk-bandsEnergy()-33,40",
         "rawType": "object",
         "type": "string"
        },
        {
         "name": "fBodyAccJerk-bandsEnergy()-41,48",
         "rawType": "object",
         "type": "string"
        },
        {
         "name": "fBodyAccJerk-bandsEnergy()-49,56",
         "rawType": "object",
         "type": "string"
        },
        {
         "name": "fBodyAccJerk-bandsEnergy()-57,64",
         "rawType": "object",
         "type": "string"
        },
        {
         "name": "fBodyAccJerk-bandsEnergy()-1,16",
         "rawType": "object",
         "type": "string"
        },
        {
         "name": "fBodyAccJerk-bandsEnergy()-17,32",
         "rawType": "object",
         "type": "string"
        },
        {
         "name": "fBodyAccJerk-bandsEnergy()-33,48",
         "rawType": "object",
         "type": "string"
        },
        {
         "name": "fBodyAccJerk-bandsEnergy()-49,64",
         "rawType": "object",
         "type": "string"
        },
        {
         "name": "fBodyAccJerk-bandsEnergy()-1,24",
         "rawType": "object",
         "type": "string"
        },
        {
         "name": "fBodyAccJerk-bandsEnergy()-25,48",
         "rawType": "object",
         "type": "string"
        },
        {
         "name": "fBodyGyro-mean()-X",
         "rawType": "object",
         "type": "string"
        },
        {
         "name": "fBodyGyro-mean()-Y",
         "rawType": "object",
         "type": "string"
        },
        {
         "name": "fBodyGyro-mean()-Z",
         "rawType": "object",
         "type": "string"
        },
        {
         "name": "fBodyGyro-std()-X",
         "rawType": "object",
         "type": "string"
        },
        {
         "name": "fBodyGyro-std()-Y",
         "rawType": "object",
         "type": "string"
        },
        {
         "name": "fBodyGyro-std()-Z",
         "rawType": "object",
         "type": "string"
        },
        {
         "name": "fBodyGyro-mad()-X",
         "rawType": "object",
         "type": "string"
        },
        {
         "name": "fBodyGyro-mad()-Y",
         "rawType": "object",
         "type": "string"
        },
        {
         "name": "fBodyGyro-mad()-Z",
         "rawType": "object",
         "type": "string"
        },
        {
         "name": "fBodyGyro-max()-X",
         "rawType": "object",
         "type": "string"
        },
        {
         "name": "fBodyGyro-max()-Y",
         "rawType": "object",
         "type": "string"
        },
        {
         "name": "fBodyGyro-max()-Z",
         "rawType": "object",
         "type": "string"
        },
        {
         "name": "fBodyGyro-min()-X",
         "rawType": "object",
         "type": "string"
        },
        {
         "name": "fBodyGyro-min()-Y",
         "rawType": "object",
         "type": "string"
        },
        {
         "name": "fBodyGyro-min()-Z",
         "rawType": "object",
         "type": "string"
        },
        {
         "name": "fBodyGyro-sma()",
         "rawType": "object",
         "type": "string"
        },
        {
         "name": "fBodyGyro-energy()-X",
         "rawType": "object",
         "type": "string"
        },
        {
         "name": "fBodyGyro-energy()-Y",
         "rawType": "object",
         "type": "string"
        },
        {
         "name": "fBodyGyro-energy()-Z",
         "rawType": "object",
         "type": "string"
        },
        {
         "name": "fBodyGyro-iqr()-X",
         "rawType": "object",
         "type": "string"
        },
        {
         "name": "fBodyGyro-iqr()-Y",
         "rawType": "object",
         "type": "string"
        },
        {
         "name": "fBodyGyro-iqr()-Z",
         "rawType": "object",
         "type": "string"
        },
        {
         "name": "fBodyGyro-entropy()-X",
         "rawType": "object",
         "type": "string"
        },
        {
         "name": "fBodyGyro-entropy()-Y",
         "rawType": "object",
         "type": "string"
        },
        {
         "name": "fBodyGyro-entropy()-Z",
         "rawType": "object",
         "type": "string"
        },
        {
         "name": "fBodyGyro-maxInds-X",
         "rawType": "object",
         "type": "string"
        },
        {
         "name": "fBodyGyro-maxInds-Y",
         "rawType": "object",
         "type": "string"
        },
        {
         "name": "fBodyGyro-maxInds-Z",
         "rawType": "object",
         "type": "string"
        },
        {
         "name": "fBodyGyro-meanFreq()-X",
         "rawType": "object",
         "type": "string"
        },
        {
         "name": "fBodyGyro-meanFreq()-Y",
         "rawType": "object",
         "type": "string"
        },
        {
         "name": "fBodyGyro-meanFreq()-Z",
         "rawType": "object",
         "type": "string"
        },
        {
         "name": "fBodyGyro-skewness()-X",
         "rawType": "object",
         "type": "string"
        },
        {
         "name": "fBodyGyro-kurtosis()-X",
         "rawType": "object",
         "type": "string"
        },
        {
         "name": "fBodyGyro-skewness()-Y",
         "rawType": "object",
         "type": "string"
        },
        {
         "name": "fBodyGyro-kurtosis()-Y",
         "rawType": "object",
         "type": "string"
        },
        {
         "name": "fBodyGyro-skewness()-Z",
         "rawType": "object",
         "type": "string"
        },
        {
         "name": "fBodyGyro-kurtosis()-Z",
         "rawType": "object",
         "type": "string"
        },
        {
         "name": "fBodyGyro-bandsEnergy()-1,8",
         "rawType": "object",
         "type": "string"
        },
        {
         "name": "fBodyGyro-bandsEnergy()-9,16",
         "rawType": "object",
         "type": "string"
        },
        {
         "name": "fBodyGyro-bandsEnergy()-17,24",
         "rawType": "object",
         "type": "string"
        },
        {
         "name": "fBodyGyro-bandsEnergy()-25,32",
         "rawType": "object",
         "type": "string"
        },
        {
         "name": "fBodyGyro-bandsEnergy()-33,40",
         "rawType": "object",
         "type": "string"
        },
        {
         "name": "fBodyGyro-bandsEnergy()-41,48",
         "rawType": "object",
         "type": "string"
        },
        {
         "name": "fBodyGyro-bandsEnergy()-49,56",
         "rawType": "object",
         "type": "string"
        },
        {
         "name": "fBodyGyro-bandsEnergy()-57,64",
         "rawType": "object",
         "type": "string"
        },
        {
         "name": "fBodyGyro-bandsEnergy()-1,16",
         "rawType": "object",
         "type": "string"
        },
        {
         "name": "fBodyGyro-bandsEnergy()-17,32",
         "rawType": "object",
         "type": "string"
        },
        {
         "name": "fBodyGyro-bandsEnergy()-33,48",
         "rawType": "object",
         "type": "string"
        },
        {
         "name": "fBodyGyro-bandsEnergy()-49,64",
         "rawType": "object",
         "type": "string"
        },
        {
         "name": "fBodyGyro-bandsEnergy()-1,24",
         "rawType": "object",
         "type": "string"
        },
        {
         "name": "fBodyGyro-bandsEnergy()-25,48",
         "rawType": "object",
         "type": "string"
        },
        {
         "name": "fBodyGyro-bandsEnergy()-1,8",
         "rawType": "object",
         "type": "string"
        },
        {
         "name": "fBodyGyro-bandsEnergy()-9,16",
         "rawType": "object",
         "type": "string"
        },
        {
         "name": "fBodyGyro-bandsEnergy()-17,24",
         "rawType": "object",
         "type": "string"
        },
        {
         "name": "fBodyGyro-bandsEnergy()-25,32",
         "rawType": "object",
         "type": "string"
        },
        {
         "name": "fBodyGyro-bandsEnergy()-33,40",
         "rawType": "object",
         "type": "string"
        },
        {
         "name": "fBodyGyro-bandsEnergy()-41,48",
         "rawType": "object",
         "type": "string"
        },
        {
         "name": "fBodyGyro-bandsEnergy()-49,56",
         "rawType": "object",
         "type": "string"
        },
        {
         "name": "fBodyGyro-bandsEnergy()-57,64",
         "rawType": "object",
         "type": "string"
        },
        {
         "name": "fBodyGyro-bandsEnergy()-1,16",
         "rawType": "object",
         "type": "string"
        },
        {
         "name": "fBodyGyro-bandsEnergy()-17,32",
         "rawType": "object",
         "type": "string"
        },
        {
         "name": "fBodyGyro-bandsEnergy()-33,48",
         "rawType": "object",
         "type": "string"
        },
        {
         "name": "fBodyGyro-bandsEnergy()-49,64",
         "rawType": "object",
         "type": "string"
        },
        {
         "name": "fBodyGyro-bandsEnergy()-1,24",
         "rawType": "object",
         "type": "string"
        },
        {
         "name": "fBodyGyro-bandsEnergy()-25,48",
         "rawType": "object",
         "type": "string"
        },
        {
         "name": "fBodyGyro-bandsEnergy()-1,8",
         "rawType": "object",
         "type": "string"
        },
        {
         "name": "fBodyGyro-bandsEnergy()-9,16",
         "rawType": "object",
         "type": "string"
        },
        {
         "name": "fBodyGyro-bandsEnergy()-17,24",
         "rawType": "object",
         "type": "string"
        },
        {
         "name": "fBodyGyro-bandsEnergy()-25,32",
         "rawType": "object",
         "type": "string"
        },
        {
         "name": "fBodyGyro-bandsEnergy()-33,40",
         "rawType": "object",
         "type": "string"
        },
        {
         "name": "fBodyGyro-bandsEnergy()-41,48",
         "rawType": "object",
         "type": "string"
        },
        {
         "name": "fBodyGyro-bandsEnergy()-49,56",
         "rawType": "object",
         "type": "string"
        },
        {
         "name": "fBodyGyro-bandsEnergy()-57,64",
         "rawType": "object",
         "type": "string"
        },
        {
         "name": "fBodyGyro-bandsEnergy()-1,16",
         "rawType": "object",
         "type": "string"
        },
        {
         "name": "fBodyGyro-bandsEnergy()-17,32",
         "rawType": "object",
         "type": "string"
        },
        {
         "name": "fBodyGyro-bandsEnergy()-33,48",
         "rawType": "object",
         "type": "string"
        },
        {
         "name": "fBodyGyro-bandsEnergy()-49,64",
         "rawType": "object",
         "type": "string"
        },
        {
         "name": "fBodyGyro-bandsEnergy()-1,24",
         "rawType": "object",
         "type": "string"
        },
        {
         "name": "fBodyGyro-bandsEnergy()-25,48",
         "rawType": "object",
         "type": "string"
        },
        {
         "name": "fBodyAccMag-mean()",
         "rawType": "object",
         "type": "string"
        },
        {
         "name": "fBodyAccMag-std()",
         "rawType": "object",
         "type": "string"
        },
        {
         "name": "fBodyAccMag-mad()",
         "rawType": "object",
         "type": "string"
        },
        {
         "name": "fBodyAccMag-max()",
         "rawType": "object",
         "type": "string"
        },
        {
         "name": "fBodyAccMag-min()",
         "rawType": "object",
         "type": "string"
        },
        {
         "name": "fBodyAccMag-sma()",
         "rawType": "object",
         "type": "string"
        },
        {
         "name": "fBodyAccMag-energy()",
         "rawType": "object",
         "type": "string"
        },
        {
         "name": "fBodyAccMag-iqr()",
         "rawType": "object",
         "type": "string"
        },
        {
         "name": "fBodyAccMag-entropy()",
         "rawType": "object",
         "type": "string"
        },
        {
         "name": "fBodyAccMag-maxInds",
         "rawType": "object",
         "type": "string"
        },
        {
         "name": "fBodyAccMag-meanFreq()",
         "rawType": "object",
         "type": "string"
        },
        {
         "name": "fBodyAccMag-skewness()",
         "rawType": "object",
         "type": "string"
        },
        {
         "name": "fBodyAccMag-kurtosis()",
         "rawType": "object",
         "type": "string"
        },
        {
         "name": "fBodyBodyAccJerkMag-mean()",
         "rawType": "object",
         "type": "string"
        },
        {
         "name": "fBodyBodyAccJerkMag-std()",
         "rawType": "object",
         "type": "string"
        },
        {
         "name": "fBodyBodyAccJerkMag-mad()",
         "rawType": "object",
         "type": "string"
        },
        {
         "name": "fBodyBodyAccJerkMag-max()",
         "rawType": "object",
         "type": "string"
        },
        {
         "name": "fBodyBodyAccJerkMag-min()",
         "rawType": "object",
         "type": "string"
        },
        {
         "name": "fBodyBodyAccJerkMag-sma()",
         "rawType": "object",
         "type": "string"
        },
        {
         "name": "fBodyBodyAccJerkMag-energy()",
         "rawType": "object",
         "type": "string"
        },
        {
         "name": "fBodyBodyAccJerkMag-iqr()",
         "rawType": "object",
         "type": "string"
        },
        {
         "name": "fBodyBodyAccJerkMag-entropy()",
         "rawType": "object",
         "type": "string"
        },
        {
         "name": "fBodyBodyAccJerkMag-maxInds",
         "rawType": "object",
         "type": "string"
        },
        {
         "name": "fBodyBodyAccJerkMag-meanFreq()",
         "rawType": "object",
         "type": "string"
        },
        {
         "name": "fBodyBodyAccJerkMag-skewness()",
         "rawType": "object",
         "type": "string"
        },
        {
         "name": "fBodyBodyAccJerkMag-kurtosis()",
         "rawType": "object",
         "type": "string"
        },
        {
         "name": "fBodyBodyGyroMag-mean()",
         "rawType": "object",
         "type": "string"
        },
        {
         "name": "fBodyBodyGyroMag-std()",
         "rawType": "object",
         "type": "string"
        },
        {
         "name": "fBodyBodyGyroMag-mad()",
         "rawType": "object",
         "type": "string"
        },
        {
         "name": "fBodyBodyGyroMag-max()",
         "rawType": "object",
         "type": "string"
        },
        {
         "name": "fBodyBodyGyroMag-min()",
         "rawType": "object",
         "type": "string"
        },
        {
         "name": "fBodyBodyGyroMag-sma()",
         "rawType": "object",
         "type": "string"
        },
        {
         "name": "fBodyBodyGyroMag-energy()",
         "rawType": "object",
         "type": "string"
        },
        {
         "name": "fBodyBodyGyroMag-iqr()",
         "rawType": "object",
         "type": "string"
        },
        {
         "name": "fBodyBodyGyroMag-entropy()",
         "rawType": "object",
         "type": "string"
        },
        {
         "name": "fBodyBodyGyroMag-maxInds",
         "rawType": "object",
         "type": "string"
        },
        {
         "name": "fBodyBodyGyroMag-meanFreq()",
         "rawType": "object",
         "type": "string"
        },
        {
         "name": "fBodyBodyGyroMag-skewness()",
         "rawType": "object",
         "type": "string"
        },
        {
         "name": "fBodyBodyGyroMag-kurtosis()",
         "rawType": "object",
         "type": "string"
        },
        {
         "name": "fBodyBodyGyroJerkMag-mean()",
         "rawType": "object",
         "type": "string"
        },
        {
         "name": "fBodyBodyGyroJerkMag-std()",
         "rawType": "object",
         "type": "string"
        },
        {
         "name": "fBodyBodyGyroJerkMag-mad()",
         "rawType": "object",
         "type": "string"
        },
        {
         "name": "fBodyBodyGyroJerkMag-max()",
         "rawType": "object",
         "type": "string"
        },
        {
         "name": "fBodyBodyGyroJerkMag-min()",
         "rawType": "object",
         "type": "string"
        },
        {
         "name": "fBodyBodyGyroJerkMag-sma()",
         "rawType": "object",
         "type": "string"
        },
        {
         "name": "fBodyBodyGyroJerkMag-energy()",
         "rawType": "object",
         "type": "string"
        },
        {
         "name": "fBodyBodyGyroJerkMag-iqr()",
         "rawType": "object",
         "type": "string"
        },
        {
         "name": "fBodyBodyGyroJerkMag-entropy()",
         "rawType": "object",
         "type": "string"
        },
        {
         "name": "fBodyBodyGyroJerkMag-maxInds",
         "rawType": "object",
         "type": "string"
        },
        {
         "name": "fBodyBodyGyroJerkMag-meanFreq()",
         "rawType": "object",
         "type": "string"
        },
        {
         "name": "fBodyBodyGyroJerkMag-skewness()",
         "rawType": "object",
         "type": "string"
        },
        {
         "name": "fBodyBodyGyroJerkMag-kurtosis()",
         "rawType": "object",
         "type": "string"
        },
        {
         "name": "angle(tBodyAccMean,gravity)",
         "rawType": "object",
         "type": "string"
        },
        {
         "name": "angle(tBodyAccJerkMean),gravityMean)",
         "rawType": "object",
         "type": "string"
        },
        {
         "name": "angle(tBodyGyroMean,gravityMean)",
         "rawType": "object",
         "type": "string"
        },
        {
         "name": "angle(tBodyGyroJerkMean,gravityMean)",
         "rawType": "object",
         "type": "string"
        },
        {
         "name": "angle(X,gravityMean)",
         "rawType": "object",
         "type": "string"
        },
        {
         "name": "angle(Y,gravityMean)",
         "rawType": "object",
         "type": "string"
        },
        {
         "name": "angle(Z,gravityMean)",
         "rawType": "object",
         "type": "string"
        }
       ],
       "ref": "e7858d7b-8c76-4f96-82fe-55435cfd0d0a",
       "rows": [
        [
         "0",
         "2.8858451e-001",
         "-2.0294171e-002",
         "-1.3290514e-001",
         "-9.9527860e-001",
         "-9.8311061e-001",
         "-9.1352645e-001",
         "-9.9511208e-001",
         "-9.8318457e-001",
         "-9.2352702e-001",
         "-9.3472378e-001",
         "-5.6737807e-001",
         "-7.4441253e-001",
         "8.5294738e-001",
         "6.8584458e-001",
         "8.1426278e-001",
         "-9.6552279e-001",
         "-9.9994465e-001",
         "-9.9986303e-001",
         "-9.9461218e-001",
         "-9.9423081e-001",
         "-9.8761392e-001",
         "-9.4321999e-001",
         "-4.0774707e-001",
         "-6.7933751e-001",
         "-6.0212187e-001",
         "9.2929351e-001",
         "-8.5301114e-001",
         "3.5990976e-001",
         "-5.8526382e-002",
         "2.5689154e-001",
         "-2.2484763e-001",
         "2.6410572e-001",
         "-9.5245630e-002",
         "2.7885143e-001",
         "-4.6508457e-001",
         "4.9193596e-001",
         "-1.9088356e-001",
         "3.7631389e-001",
         "4.3512919e-001",
         "6.6079033e-001",
         "9.6339614e-001",
         "-1.4083968e-001",
         "1.1537494e-001",
         "-9.8524969e-001",
         "-9.8170843e-001",
         "-8.7762497e-001",
         "-9.8500137e-001",
         "-9.8441622e-001",
         "-8.9467735e-001",
         "8.9205451e-001",
         "-1.6126549e-001",
         "1.2465977e-001",
         "9.7743631e-001",
         "-1.2321341e-001",
         "5.6482734e-002",
         "-3.7542596e-001",
         "8.9946864e-001",
         "-9.7090521e-001",
         "-9.7551037e-001",
         "-9.8432539e-001",
         "-9.8884915e-001",
         "-9.1774264e-001",
         "-1.0000000e+000",
         "-1.0000000e+000",
         "1.1380614e-001",
         "-5.9042500e-001",
         "5.9114630e-001",
         "-5.9177346e-001",
         "5.9246928e-001",
         "-7.4544878e-001",
         "7.2086167e-001",
         "-7.1237239e-001",
         "7.1130003e-001",
         "-9.9511159e-001",
         "9.9567491e-001",
         "-9.9566759e-001",
         "9.9165268e-001",
         "5.7022164e-001",
         "4.3902735e-001",
         "9.8691312e-001",
         "7.7996345e-002",
         "5.0008031e-003",
         "-6.7830808e-002",
         "-9.9351906e-001",
         "-9.8835999e-001",
         "-9.9357497e-001",
         "-9.9448763e-001",
         "-9.8620664e-001",
         "-9.9281835e-001",
         "-9.8518010e-001",
         "-9.9199423e-001",
         "-9.9311887e-001",
         "9.8983471e-001",
         "9.9195686e-001",
         "9.9051920e-001",
         "-9.9352201e-001",
         "-9.9993487e-001",
         "-9.9982045e-001",
         "-9.9987846e-001",
         "-9.9436404e-001",
         "-9.8602487e-001",
         "-9.8923361e-001",
         "-8.1994925e-001",
         "-7.9304645e-001",
         "-8.8885295e-001",
         "1.0000000e+000",
         "-2.2074703e-001",
         "6.3683075e-001",
         "3.8764356e-001",
         "2.4140146e-001",
         "-5.2252848e-002",
         "2.6417720e-001",
         "3.7343945e-001",
         "3.4177752e-001",
         "-5.6979119e-001",
         "2.6539882e-001",
         "-4.7787489e-001",
         "-3.8530050e-001",
         "3.3643943e-002",
         "-1.2651082e-001",
         "-6.1008489e-003",
         "-3.1364791e-002",
         "1.0772540e-001",
         "-9.8531027e-001",
         "-9.7662344e-001",
         "-9.9220528e-001",
         "-9.8458626e-001",
         "-9.7635262e-001",
         "-9.9236164e-001",
         "-8.6704374e-001",
         "-9.3378602e-001",
         "-7.4756618e-001",
         "8.4730796e-001",
         "9.1489534e-001",
         "8.3084054e-001",
         "-9.6718428e-001",
         "-9.9957831e-001",
         "-9.9935432e-001",
         "-9.9976339e-001",
         "-9.8343808e-001",
         "-9.7861401e-001",
         "-9.9296558e-001",
         "8.2631682e-002",
         "2.0226765e-001",
         "-1.6875669e-001",
         "9.6323236e-002",
         "-2.7498511e-001",
         "4.9864419e-001",
         "-2.2031685e-001",
         "1.0000000e+000",
         "-9.7297139e-001",
         "3.1665451e-001",
         "3.7572641e-001",
         "7.2339919e-001",
         "-7.7111201e-001",
         "6.9021323e-001",
         "-3.3183104e-001",
         "7.0958377e-001",
         "1.3487336e-001",
         "3.0109948e-001",
         "-9.9167400e-002",
         "-5.5517369e-002",
         "-6.1985797e-002",
         "-9.9211067e-001",
         "-9.9251927e-001",
         "-9.9205528e-001",
         "-9.9216475e-001",
         "-9.9494156e-001",
         "-9.9261905e-001",
         "-9.9015585e-001",
         "-9.8674277e-001",
         "-9.9204155e-001",
         "9.9442876e-001",
         "9.9175581e-001",
         "9.8935195e-001",
         "-9.9445335e-001",
         "-9.9993755e-001",
         "-9.9995350e-001",
         "-9.9992294e-001",
         "-9.9229974e-001",
         "-9.9693892e-001",
         "-9.9224298e-001",
         "-5.8985096e-001",
         "-6.8845905e-001",
         "-5.7210686e-001",
         "2.9237634e-001",
         "-3.6199802e-001",
         "4.0554269e-001",
         "-3.9006951e-002",
         "9.8928381e-001",
         "-4.1456048e-001",
         "3.9160251e-001",
         "2.8225087e-001",
         "9.2726984e-001",
         "-5.7237001e-001",
         "6.9161920e-001",
         "4.6828982e-001",
         "-1.3107697e-001",
         "-8.7159695e-002",
         "3.3624748e-001",
         "-9.5943388e-001",
         "-9.5055150e-001",
         "-9.5799295e-001",
         "-9.4630524e-001",
         "-9.9255572e-001",
         "-9.5943388e-001",
         "-9.9849285e-001",
         "-9.5763740e-001",
         "-2.3258164e-001",
         "-1.7317874e-001",
         "-2.2896660e-002",
         "9.4831568e-002",
         "1.9181715e-001",
         "-9.5943388e-001",
         "-9.5055150e-001",
         "-9.5799295e-001",
         "-9.4630524e-001",
         "-9.9255572e-001",
         "-9.5943388e-001",
         "-9.9849285e-001",
         "-9.5763740e-001",
         "-2.3258164e-001",
         "-1.7317874e-001",
         "-2.2896660e-002",
         "9.4831568e-002",
         "1.9181715e-001",
         "-9.9330586e-001",
         "-9.9433641e-001",
         "-9.9450037e-001",
         "-9.9278399e-001",
         "-9.9120847e-001",
         "-9.9330586e-001",
         "-9.9989188e-001",
         "-9.9293370e-001",
         "-8.6341476e-001",
         "2.8308522e-001",
         "-2.3730869e-001",
         "-1.0543219e-001",
         "-3.8212313e-002",
         "-9.6895908e-001",
         "-9.6433518e-001",
         "-9.5724477e-001",
         "-9.7505986e-001",
         "-9.9155366e-001",
         "-9.6895908e-001",
         "-9.9928646e-001",
         "-9.4976582e-001",
         "7.2579035e-002",
         "5.7251142e-001",
         "-7.3860219e-001",
         "2.1257776e-001",
         "4.3340495e-001",
         "-9.9424782e-001",
         "-9.9136761e-001",
         "-9.9314298e-001",
         "-9.8893563e-001",
         "-9.9348603e-001",
         "-9.9424782e-001",
         "-9.9994898e-001",
         "-9.9454718e-001",
         "-6.1976763e-001",
         "2.9284049e-001",
         "-1.7688920e-001",
         "-1.4577921e-001",
         "-1.2407233e-001",
         "-9.9478319e-001",
         "-9.8298410e-001",
         "-9.3926865e-001",
         "-9.9542175e-001",
         "-9.8313297e-001",
         "-9.0616498e-001",
         "-9.9688864e-001",
         "-9.8451927e-001",
         "-9.3208200e-001",
         "-9.9375634e-001",
         "-9.8316285e-001",
         "-8.8505422e-001",
         "-9.9396185e-001",
         "-9.9344611e-001",
         "-9.2342772e-001",
         "-9.7473271e-001",
         "-9.9996838e-001",
         "-9.9968911e-001",
         "-9.9489148e-001",
         "-9.9592602e-001",
         "-9.8970889e-001",
         "-9.8799115e-001",
         "-9.4635692e-001",
         "-9.0474776e-001",
         "-5.9130248e-001",
         "-1.0000000e+000",
         "-1.0000000e+000",
         "-1.0000000e+000",
         "2.5248290e-001",
         "1.3183575e-001",
         "-5.2050251e-002",
         "1.4205056e-001",
         "-1.5068250e-001",
         "-2.2054694e-001",
         "-5.5873853e-001",
         "2.4676868e-001",
         "-7.4155206e-003",
         "-9.9996279e-001",
         "-9.9998650e-001",
         "-9.9997907e-001",
         "-9.9996244e-001",
         "-9.9993222e-001",
         "-9.9972512e-001",
         "-9.9967039e-001",
         "-9.9998582e-001",
         "-9.9996867e-001",
         "-9.9997686e-001",
         "-9.9986966e-001",
         "-9.9977613e-001",
         "-9.9997115e-001",
         "-9.9991925e-001",
         "-9.9965680e-001",
         "-9.9986046e-001",
         "-9.9986695e-001",
         "-9.9986301e-001",
         "-9.9973783e-001",
         "-9.9973220e-001",
         "-9.9949261e-001",
         "-9.9981364e-001",
         "-9.9968182e-001",
         "-9.9983940e-001",
         "-9.9973823e-001",
         "-9.9961197e-001",
         "-9.9968721e-001",
         "-9.9983863e-001",
         "-9.9359234e-001",
         "-9.9947584e-001",
         "-9.9966204e-001",
         "-9.9964230e-001",
         "-9.9929341e-001",
         "-9.9789222e-001",
         "-9.9593249e-001",
         "-9.9514642e-001",
         "-9.9473990e-001",
         "-9.9968826e-001",
         "-9.9892456e-001",
         "-9.9567134e-001",
         "-9.9487731e-001",
         "-9.9945439e-001",
         "-9.9233245e-001",
         "-9.8716991e-001",
         "-9.8969609e-001",
         "-9.9582068e-001",
         "-9.9093631e-001",
         "-9.9705167e-001",
         "-9.9380547e-001",
         "-9.9051869e-001",
         "-9.9699279e-001",
         "-9.9673689e-001",
         "-9.9197516e-001",
         "-9.9324167e-001",
         "-9.9834907e-001",
         "-9.9110842e-001",
         "-9.5988537e-001",
         "-9.9051499e-001",
         "-9.9993475e-001",
         "-9.9982048e-001",
         "-9.9988449e-001",
         "-9.9302626e-001",
         "-9.9137339e-001",
         "-9.9623962e-001",
         "-1.0000000e+000",
         "-1.0000000e+000",
         "-1.0000000e+000",
         "1.0000000e+000",
         "-2.4000000e-001",
         "-1.0000000e+000",
         "8.7038451e-001",
         "2.1069700e-001",
         "2.6370789e-001",
         "-7.0368577e-001",
         "-9.0374251e-001",
         "-5.8257362e-001",
         "-9.3631005e-001",
         "-5.0734474e-001",
         "-8.0553591e-001",
         "-9.9998649e-001",
         "-9.9997960e-001",
         "-9.9997478e-001",
         "-9.9995513e-001",
         "-9.9991861e-001",
         "-9.9964011e-001",
         "-9.9948330e-001",
         "-9.9996087e-001",
         "-9.9998227e-001",
         "-9.9997072e-001",
         "-9.9981098e-001",
         "-9.9948472e-001",
         "-9.9998083e-001",
         "-9.9985189e-001",
         "-9.9993261e-001",
         "-9.9989993e-001",
         "-9.9982444e-001",
         "-9.9985982e-001",
         "-9.9972751e-001",
         "-9.9972876e-001",
         "-9.9956707e-001",
         "-9.9976524e-001",
         "-9.9990021e-001",
         "-9.9981490e-001",
         "-9.9970980e-001",
         "-9.9959608e-001",
         "-9.9985216e-001",
         "-9.9982210e-001",
         "-9.9939988e-001",
         "-9.9976559e-001",
         "-9.9995846e-001",
         "-9.9994951e-001",
         "-9.9983850e-001",
         "-9.9981351e-001",
         "-9.9878054e-001",
         "-9.9857783e-001",
         "-9.9961968e-001",
         "-9.9998359e-001",
         "-9.9982812e-001",
         "-9.9868068e-001",
         "-9.9984416e-001",
         "-9.9992792e-001",
         "-9.8657442e-001",
         "-9.8176153e-001",
         "-9.8951478e-001",
         "-9.8503264e-001",
         "-9.7388607e-001",
         "-9.9403493e-001",
         "-9.8653085e-001",
         "-9.8361636e-001",
         "-9.9235201e-001",
         "-9.8049843e-001",
         "-9.7227092e-001",
         "-9.9494426e-001",
         "-9.9756862e-001",
         "-9.8408510e-001",
         "-9.9433541e-001",
         "-9.8527621e-001",
         "-9.9986371e-001",
         "-9.9966608e-001",
         "-9.9993462e-001",
         "-9.9034389e-001",
         "-9.9483569e-001",
         "-9.9441158e-001",
         "-7.1240225e-001",
         "-6.4484236e-001",
         "-8.3899298e-001",
         "-1.0000000e+000",
         "-1.0000000e+000",
         "-1.0000000e+000",
         "-2.5754888e-001",
         "9.7947109e-002",
         "5.4715105e-001",
         "3.7731121e-001",
         "1.3409154e-001",
         "2.7337197e-001",
         "-9.1261831e-002",
         "-4.8434650e-001",
         "-7.8285070e-001",
         "-9.9986502e-001",
         "-9.9993178e-001",
         "-9.9997295e-001",
         "-9.9997018e-001",
         "-9.9993012e-001",
         "-9.9995862e-001",
         "-9.9992899e-001",
         "-9.9998465e-001",
         "-9.9986326e-001",
         "-9.9996815e-001",
         "-9.9993610e-001",
         "-9.9995363e-001",
         "-9.9986442e-001",
         "-9.9996098e-001",
         "-9.9945373e-001",
         "-9.9997811e-001",
         "-9.9999153e-001",
         "-9.9999010e-001",
         "-9.9996857e-001",
         "-9.9980657e-001",
         "-9.9834600e-001",
         "-9.9896122e-001",
         "-9.9961874e-001",
         "-9.9998934e-001",
         "-9.9993540e-001",
         "-9.9838752e-001",
         "-9.9964264e-001",
         "-9.9997266e-001",
         "-9.9995535e-001",
         "-9.9997630e-001",
         "-9.9990583e-001",
         "-9.9998550e-001",
         "-9.9993717e-001",
         "-9.9975115e-001",
         "-9.9907227e-001",
         "-9.9992754e-001",
         "-9.9995158e-001",
         "-9.9990585e-001",
         "-9.9989269e-001",
         "-9.9944433e-001",
         "-9.9994099e-001",
         "-9.9995861e-001",
         "-9.5215466e-001",
         "-9.5613397e-001",
         "-9.4887014e-001",
         "-9.7432057e-001",
         "-9.2572179e-001",
         "-9.5215466e-001",
         "-9.9828520e-001",
         "-9.7327320e-001",
         "-6.4637645e-001",
         "-7.9310345e-001",
         "-8.8436120e-002",
         "-4.3647104e-001",
         "-7.9684048e-001",
         "-9.9372565e-001",
         "-9.9375495e-001",
         "-9.9197570e-001",
         "-9.9336472e-001",
         "-9.8817543e-001",
         "-9.9372565e-001",
         "-9.9991844e-001",
         "-9.9136366e-001",
         "-1.0000000e+000",
         "-9.3650794e-001",
         "3.4698853e-001",
         "-5.1608015e-001",
         "-8.0276003e-001",
         "-9.8013485e-001",
         "-9.6130944e-001",
         "-9.7365344e-001",
         "-9.5226383e-001",
         "-9.8949813e-001",
         "-9.8013485e-001",
         "-9.9924035e-001",
         "-9.9265553e-001",
         "-7.0129141e-001",
         "-1.0000000e+000",
         "-1.2898890e-001",
         "5.8615643e-001",
         "3.7460462e-001",
         "-9.9199044e-001",
         "-9.9069746e-001",
         "-9.8994084e-001",
         "-9.9244784e-001",
         "-9.9104773e-001",
         "-9.9199044e-001",
         "-9.9993676e-001",
         "-9.9045792e-001",
         "-8.7130580e-001",
         "-1.0000000e+000",
         "-7.4323027e-002",
         "-2.9867637e-001",
         "-7.1030407e-001",
         "-1.1275434e-001",
         "3.0400372e-002",
         "-4.6476139e-001",
         "-1.8445884e-002",
         "-8.4124676e-001",
         "1.7994061e-001",
         "-5.8626924e-002"
        ],
        [
         "1",
         "2.7841883e-001",
         "-1.6410568e-002",
         "-1.2352019e-001",
         "-9.9824528e-001",
         "-9.7530022e-001",
         "-9.6032199e-001",
         "-9.9880719e-001",
         "-9.7491437e-001",
         "-9.5768622e-001",
         "-9.4306751e-001",
         "-5.5785126e-001",
         "-8.1840869e-001",
         "8.4930787e-001",
         "6.8584458e-001",
         "8.2263681e-001",
         "-9.8193011e-001",
         "-9.9999130e-001",
         "-9.9978838e-001",
         "-9.9840537e-001",
         "-9.9915036e-001",
         "-9.7786550e-001",
         "-9.4822478e-001",
         "-7.1489166e-001",
         "-5.0093000e-001",
         "-5.7097906e-001",
         "6.1162716e-001",
         "-3.2954862e-001",
         "2.8421321e-001",
         "2.8459454e-001",
         "1.1570542e-001",
         "-9.0962529e-002",
         "2.9431041e-001",
         "-2.8121057e-001",
         "8.5988430e-002",
         "-2.2152694e-002",
         "-1.6656535e-002",
         "-2.2064350e-001",
         "-1.3428663e-002",
         "-7.2691890e-002",
         "5.7938169e-001",
         "9.6656113e-001",
         "-1.4155127e-001",
         "1.0937881e-001",
         "-9.9741134e-001",
         "-9.8944741e-001",
         "-9.3163868e-001",
         "-9.9788359e-001",
         "-9.8961366e-001",
         "-9.3324040e-001",
         "8.9206031e-001",
         "-1.6134256e-001",
         "1.2258573e-001",
         "9.8452014e-001",
         "-1.1489334e-001",
         "1.0276411e-001",
         "-3.8342955e-001",
         "9.0782890e-001",
         "-9.7058275e-001",
         "-9.7850045e-001",
         "-9.9918838e-001",
         "-9.9002851e-001",
         "-9.4168540e-001",
         "-1.0000000e+000",
         "-1.0000000e+000",
         "-2.1049361e-001",
         "-4.1005552e-001",
         "4.1385634e-001",
         "-4.1756716e-001",
         "4.2132499e-001",
         "-1.9635929e-001",
         "1.2534464e-001",
         "-1.0556772e-001",
         "1.0909013e-001",
         "-8.3388211e-001",
         "8.3427110e-001",
         "-8.3418438e-001",
         "8.3046390e-001",
         "-8.3128389e-001",
         "-8.6571108e-001",
         "9.7438562e-001",
         "7.4006709e-002",
         "5.7711041e-003",
         "2.9376633e-002",
         "-9.9554814e-001",
         "-9.8106363e-001",
         "-9.9184570e-001",
         "-9.9563201e-001",
         "-9.7893801e-001",
         "-9.9127664e-001",
         "-9.9454467e-001",
         "-9.7906823e-001",
         "-9.9225735e-001",
         "9.9257710e-001",
         "9.9180836e-001",
         "9.8853913e-001",
         "-9.9139374e-001",
         "-9.9995974e-001",
         "-9.9963956e-001",
         "-9.9984538e-001",
         "-9.9386273e-001",
         "-9.7943511e-001",
         "-9.9338380e-001",
         "-8.7509640e-001",
         "-6.5536210e-001",
         "-7.6738085e-001",
         "4.8966215e-001",
         "7.0997076e-002",
         "3.6271450e-001",
         "5.2730342e-001",
         "1.4939565e-001",
         "6.2925097e-002",
         "3.7049343e-001",
         "4.1354814e-001",
         "1.2221568e-001",
         "1.8061304e-001",
         "4.7423999e-002",
         "1.6657268e-001",
         "-2.0877218e-001",
         "8.4103799e-002",
         "-2.6855390e-001",
         "-1.6111620e-002",
         "-8.3893777e-002",
         "1.0058429e-001",
         "-9.8311996e-001",
         "-9.8904580e-001",
         "-9.8912123e-001",
         "-9.8689045e-001",
         "-9.8903796e-001",
         "-9.8918458e-001",
         "-8.6490382e-001",
         "-9.5356049e-001",
         "-7.4587000e-001",
         "8.3372106e-001",
         "9.0810964e-001",
         "8.2893499e-001",
         "-9.8061310e-001",
         "-9.9975577e-001",
         "-9.9989731e-001",
         "-9.9982242e-001",
         "-9.9283276e-001",
         "-9.8934472e-001",
         "-9.9024019e-001",
         "7.4693560e-003",
         "-5.3115659e-001",
         "-1.7744455e-001",
         "-3.8768063e-001",
         "1.7913763e-001",
         "2.1078900e-001",
         "-1.4025958e-001",
         "-4.7031809e-002",
         "-6.4949068e-002",
         "1.1768661e-001",
         "8.1691287e-002",
         "4.2364040e-002",
         "-1.4992836e-001",
         "2.9261893e-001",
         "-1.4942935e-001",
         "4.6721243e-002",
         "-2.5692940e-001",
         "1.6939480e-001",
         "-1.1050283e-001",
         "-4.4818731e-002",
         "-5.9242822e-002",
         "-9.8987256e-001",
         "-9.9729260e-001",
         "-9.9385100e-001",
         "-9.8987620e-001",
         "-9.9749168e-001",
         "-9.9377834e-001",
         "-9.9194685e-001",
         "-9.9771714e-001",
         "-9.9492085e-001",
         "9.9048601e-001",
         "9.9712219e-001",
         "9.9450312e-001",
         "-9.9529844e-001",
         "-9.9990775e-001",
         "-9.9998972e-001",
         "-9.9994591e-001",
         "-9.9074179e-001",
         "-9.9730134e-001",
         "-9.9380781e-001",
         "-6.0094453e-001",
         "-7.4824724e-001",
         "-6.0893213e-001",
         "-1.9330757e-001",
         "-6.7406458e-002",
         "1.8561907e-001",
         "4.1521811e-002",
         "7.2352549e-002",
         "-3.5377727e-002",
         "1.7760636e-001",
         "2.7498054e-002",
         "1.8270272e-001",
         "-1.6745740e-001",
         "2.5325103e-001",
         "1.3233386e-001",
         "2.9385535e-001",
         "-1.8075169e-002",
         "-3.4333678e-001",
         "-9.7928915e-001",
         "-9.7605707e-001",
         "-9.7824725e-001",
         "-9.7871147e-001",
         "-9.9533294e-001",
         "-9.7928915e-001",
         "-9.9948803e-001",
         "-9.8124826e-001",
         "-4.4187611e-001",
         "8.1568632e-002",
         "-1.0936606e-001",
         "3.1175771e-001",
         "-4.1167480e-001",
         "-9.7928915e-001",
         "-9.7605707e-001",
         "-9.7824725e-001",
         "-9.7871147e-001",
         "-9.9533294e-001",
         "-9.7928915e-001",
         "-9.9948803e-001",
         "-9.8124826e-001",
         "-4.4187611e-001",
         "8.1568632e-002",
         "-1.0936606e-001",
         "3.1175771e-001",
         "-4.1167480e-001",
         "-9.9125349e-001",
         "-9.9169441e-001",
         "-9.9271603e-001",
         "-9.8866062e-001",
         "-9.9120847e-001",
         "-9.9125349e-001",
         "-9.9984540e-001",
         "-9.9348508e-001",
         "-8.1992830e-001",
         "4.5881205e-001",
         "-2.4494134e-001",
         "5.6139272e-002",
         "-4.5834568e-001",
         "-9.8068314e-001",
         "-9.8375419e-001",
         "-9.8200270e-001",
         "-9.8471460e-001",
         "-9.9155366e-001",
         "-9.8068314e-001",
         "-9.9972466e-001",
         "-9.8285681e-001",
         "-1.9289906e-001",
         "-2.2531738e-001",
         "-1.7059623e-002",
         "1.5577724e-001",
         "8.2575208e-002",
         "-9.9512320e-001",
         "-9.9610164e-001",
         "-9.9583855e-001",
         "-9.9654485e-001",
         "-9.9200604e-001",
         "-9.9512320e-001",
         "-9.9996983e-001",
         "-9.9481921e-001",
         "-7.3072160e-001",
         "2.0933413e-001",
         "-1.7811256e-001",
         "-1.0308433e-001",
         "-4.3823965e-002",
         "-9.9745072e-001",
         "-9.7685173e-001",
         "-9.7352267e-001",
         "-9.9868026e-001",
         "-9.7492981e-001",
         "-9.5543811e-001",
         "-9.9788967e-001",
         "-9.7692389e-001",
         "-9.6837677e-001",
         "-9.9937173e-001",
         "-9.7377026e-001",
         "-9.4877678e-001",
         "-9.9828058e-001",
         "-9.9272090e-001",
         "-9.8951355e-001",
         "-9.8581162e-001",
         "-9.9999084e-001",
         "-9.9944988e-001",
         "-9.9856912e-001",
         "-9.9486488e-001",
         "-9.8078362e-001",
         "-9.8577466e-001",
         "-1.0000000e+000",
         "-9.0474776e-001",
         "-7.5840851e-001",
         "9.6774194e-002",
         "-1.0000000e+000",
         "-1.0000000e+000",
         "2.7130855e-001",
         "4.2863639e-002",
         "-1.4309755e-002",
         "-6.9254090e-001",
         "-9.5404703e-001",
         "-4.9709103e-002",
         "-3.3197386e-001",
         "5.6675367e-002",
         "-2.8900144e-001",
         "-9.9999619e-001",
         "-9.9998175e-001",
         "-9.9994400e-001",
         "-9.9996988e-001",
         "-9.9991885e-001",
         "-9.9986573e-001",
         "-9.9996507e-001",
         "-9.9999945e-001",
         "-9.9999394e-001",
         "-9.9994898e-001",
         "-9.9991401e-001",
         "-9.9997661e-001",
         "-9.9999213e-001",
         "-9.9994590e-001",
         "-9.9941662e-001",
         "-9.9981329e-001",
         "-9.9956858e-001",
         "-9.9987368e-001",
         "-9.9954892e-001",
         "-9.9973714e-001",
         "-9.9956575e-001",
         "-9.9990532e-001",
         "-9.9947352e-001",
         "-9.9955418e-001",
         "-9.9960203e-001",
         "-9.9969530e-001",
         "-9.9944422e-001",
         "-9.9980416e-001",
         "-9.9823460e-001",
         "-9.9976916e-001",
         "-9.9969223e-001",
         "-9.9987487e-001",
         "-9.9966565e-001",
         "-9.9944828e-001",
         "-9.9893018e-001",
         "-9.9875435e-001",
         "-9.9854556e-001",
         "-9.9979176e-001",
         "-9.9963116e-001",
         "-9.9887752e-001",
         "-9.9855336e-001",
         "-9.9982213e-001",
         "-9.9503222e-001",
         "-9.8131147e-001",
         "-9.8973975e-001",
         "-9.9665235e-001",
         "-9.8208394e-001",
         "-9.9262682e-001",
         "-9.9497670e-001",
         "-9.8292946e-001",
         "-9.9164143e-001",
         "-9.9742453e-001",
         "-9.8492321e-001",
         "-9.9318704e-001",
         "-9.9791682e-001",
         "-9.8251860e-001",
         "-9.8683843e-001",
         "-9.8985094e-001",
         "-9.9995965e-001",
         "-9.9963962e-001",
         "-9.9984664e-001",
         "-9.9284336e-001",
         "-9.8522065e-001",
         "-9.9104933e-001",
         "-1.0000000e+000",
         "-1.0000000e+000",
         "-1.0000000e+000",
         "-3.2000000e-001",
         "-1.2000000e-001",
         "-3.2000000e-001",
         "6.0851352e-001",
         "-5.3675613e-002",
         "6.3148268e-002",
         "-6.3030495e-001",
         "-9.1039449e-001",
         "-4.1442354e-001",
         "-8.5058640e-001",
         "-6.5553468e-001",
         "-9.1598691e-001",
         "-9.9999635e-001",
         "-9.9997967e-001",
         "-9.9994892e-001",
         "-9.9996834e-001",
         "-9.9991010e-001",
         "-9.9981369e-001",
         "-9.9992027e-001",
         "-9.9996071e-001",
         "-9.9998672e-001",
         "-9.9995600e-001",
         "-9.9987671e-001",
         "-9.9991409e-001",
         "-9.9997443e-001",
         "-9.9990582e-001",
         "-9.9986103e-001",
         "-9.9982717e-001",
         "-9.9945649e-001",
         "-9.9983029e-001",
         "-9.9960932e-001",
         "-9.9968546e-001",
         "-9.9957615e-001",
         "-9.9993695e-001",
         "-9.9981738e-001",
         "-9.9953247e-001",
         "-9.9959516e-001",
         "-9.9962567e-001",
         "-9.9962988e-001",
         "-9.9975933e-001",
         "-9.9985891e-001",
         "-9.9984650e-001",
         "-9.9979487e-001",
         "-9.9980092e-001",
         "-9.9981932e-001",
         "-9.9976916e-001",
         "-9.9963701e-001",
         "-9.9995450e-001",
         "-9.9985190e-001",
         "-9.9982733e-001",
         "-9.9980005e-001",
         "-9.9965102e-001",
         "-9.9983501e-001",
         "-9.9982668e-001",
         "-9.7738671e-001",
         "-9.9253003e-001",
         "-9.8960578e-001",
         "-9.8490434e-001",
         "-9.8716807e-001",
         "-9.8978468e-001",
         "-9.7936121e-001",
         "-9.9183683e-001",
         "-9.8796514e-001",
         "-9.8735382e-001",
         "-9.8478644e-001",
         "-9.9015077e-001",
         "-9.8689184e-001",
         "-9.9905355e-001",
         "-9.9441373e-001",
         "-9.8686870e-001",
         "-9.9982491e-001",
         "-9.9991146e-001",
         "-9.9989205e-001",
         "-9.8709935e-001",
         "-9.9556375e-001",
         "-9.8725448e-001",
         "-6.1111189e-001",
         "-7.6460301e-001",
         "-7.5107966e-001",
         "-1.0000000e+000",
         "-1.0000000e+000",
         "-1.0000000e+000",
         "-4.8167435e-002",
         "-4.0160791e-001",
         "-6.8178329e-002",
         "-4.5855331e-001",
         "-7.9701355e-001",
         "3.8756889e-001",
         "1.4866483e-001",
         "-1.5690927e-001",
         "-4.5177589e-001",
         "-9.9985087e-001",
         "-9.9979432e-001",
         "-9.9991309e-001",
         "-9.9991816e-001",
         "-9.9989636e-001",
         "-9.9988528e-001",
         "-9.9978419e-001",
         "-9.9978237e-001",
         "-9.9982986e-001",
         "-9.9989878e-001",
         "-9.9988283e-001",
         "-9.9978339e-001",
         "-9.9982832e-001",
         "-9.9990802e-001",
         "-9.9985638e-001",
         "-9.9998846e-001",
         "-9.9999570e-001",
         "-9.9999416e-001",
         "-9.9998608e-001",
         "-9.9998455e-001",
         "-9.9998002e-001",
         "-9.9999002e-001",
         "-9.9989660e-001",
         "-9.9999447e-001",
         "-9.9998604e-001",
         "-9.9998167e-001",
         "-9.9990259e-001",
         "-9.9999165e-001",
         "-9.9990889e-001",
         "-9.9995940e-001",
         "-9.9992807e-001",
         "-9.9996632e-001",
         "-9.9998549e-001",
         "-9.9992637e-001",
         "-9.9996147e-001",
         "-9.9998312e-001",
         "-9.9990171e-001",
         "-9.9991776e-001",
         "-9.9997539e-001",
         "-9.9997110e-001",
         "-9.9989434e-001",
         "-9.9997104e-001",
         "-9.8085662e-001",
         "-9.7586576e-001",
         "-9.7577688e-001",
         "-9.7822635e-001",
         "-9.8691082e-001",
         "-9.8085662e-001",
         "-9.9947194e-001",
         "-9.8447923e-001",
         "-8.1667357e-001",
         "-1.0000000e+000",
         "-4.4149887e-002",
         "-1.2204037e-001",
         "-4.4952188e-001",
         "-9.9033549e-001",
         "-9.9196029e-001",
         "-9.8973198e-001",
         "-9.9448884e-001",
         "-9.8954882e-001",
         "-9.9033549e-001",
         "-9.9986688e-001",
         "-9.9113389e-001",
         "-1.0000000e+000",
         "-8.4126984e-001",
         "5.3206052e-001",
         "-6.2487099e-001",
         "-9.0015998e-001",
         "-9.8829555e-001",
         "-9.8332192e-001",
         "-9.8265928e-001",
         "-9.8632076e-001",
         "-9.9182878e-001",
         "-9.8829555e-001",
         "-9.9981120e-001",
         "-9.9397851e-001",
         "-7.2068300e-001",
         "-9.4871795e-001",
         "-2.7195846e-001",
         "-3.3631041e-001",
         "-7.2001508e-001",
         "-9.9585386e-001",
         "-9.9639947e-001",
         "-9.9544209e-001",
         "-9.9686602e-001",
         "-9.9443965e-001",
         "-9.9585386e-001",
         "-9.9998065e-001",
         "-9.9454373e-001",
         "-1.0000000e+000",
         "-1.0000000e+000",
         "1.5807454e-001",
         "-5.9505094e-001",
         "-8.6149931e-001",
         "5.3476955e-002",
         "-7.4345661e-003",
         "-7.3262621e-001",
         "7.0351059e-001",
         "-8.4478760e-001",
         "1.8028889e-001",
         "-5.4316717e-002"
        ],
        [
         "2",
         "2.7965306e-001",
         "-1.9467156e-002",
         "-1.1346169e-001",
         "-9.9537956e-001",
         "-9.6718701e-001",
         "-9.7894396e-001",
         "-9.9651994e-001",
         "-9.6366837e-001",
         "-9.7746859e-001",
         "-9.3869155e-001",
         "-5.5785126e-001",
         "-8.1840869e-001",
         "8.4360895e-001",
         "6.8240094e-001",
         "8.3934417e-001",
         "-9.8347777e-001",
         "-9.9996908e-001",
         "-9.9965987e-001",
         "-9.9946950e-001",
         "-9.9713008e-001",
         "-9.6480989e-001",
         "-9.7467500e-001",
         "-5.9223514e-001",
         "-4.8582066e-001",
         "-5.7097906e-001",
         "2.7302484e-001",
         "-8.6308698e-002",
         "3.3720151e-001",
         "-1.6473870e-001",
         "1.7150129e-002",
         "-7.4506933e-002",
         "3.4225631e-001",
         "-3.3256448e-001",
         "2.3928053e-001",
         "-1.3620359e-001",
         "1.7386318e-001",
         "-2.9949278e-001",
         "-1.2469839e-001",
         "-1.8110479e-001",
         "6.0890014e-001",
         "9.6687810e-001",
         "-1.4200984e-001",
         "1.0188392e-001",
         "-9.9957395e-001",
         "-9.9286582e-001",
         "-9.9291723e-001",
         "-9.9963529e-001",
         "-9.9260493e-001",
         "-9.9293426e-001",
         "8.9240056e-001",
         "-1.6371122e-001",
         "9.4565843e-002",
         "9.8677010e-001",
         "-1.1489334e-001",
         "1.0276411e-001",
         "-4.0160160e-001",
         "9.0866783e-001",
         "-9.7036812e-001",
         "-9.8167231e-001",
         "-9.9967903e-001",
         "-9.9210440e-001",
         "-9.9261864e-001",
         "-1.0000000e+000",
         "-1.0000000e+000",
         "-9.2677626e-001",
         "2.2341317e-003",
         "2.7480687e-002",
         "-5.6728165e-002",
         "8.5533243e-002",
         "-3.2902304e-001",
         "2.7050025e-001",
         "-2.5449019e-001",
         "2.5759764e-001",
         "-7.0503919e-001",
         "7.1439200e-001",
         "-7.2329885e-001",
         "7.2875542e-001",
         "-1.8108991e-001",
         "3.3793587e-001",
         "6.4341699e-001",
         "7.3635962e-002",
         "3.1040366e-003",
         "-9.0456308e-003",
         "-9.9074281e-001",
         "-9.8095561e-001",
         "-9.8968664e-001",
         "-9.9093291e-001",
         "-9.7930023e-001",
         "-9.8723810e-001",
         "-9.8707696e-001",
         "-9.7906823e-001",
         "-9.9225735e-001",
         "9.8839020e-001",
         "9.9180836e-001",
         "9.8853913e-001",
         "-9.8814767e-001",
         "-9.9989423e-001",
         "-9.9963638e-001",
         "-9.9979500e-001",
         "-9.8784568e-001",
         "-9.8014451e-001",
         "-9.8191081e-001",
         "-7.5362867e-001",
         "-6.7327363e-001",
         "-7.4710675e-001",
         "2.6522482e-001",
         "1.8839474e-001",
         "4.6458346e-001",
         "3.7171788e-001",
         "8.2664878e-002",
         "-4.6216748e-003",
         "3.2747023e-001",
         "4.3762317e-001",
         "2.5789087e-001",
         "7.0029640e-002",
         "1.8697299e-001",
         "2.4679966e-001",
         "-1.2010466e-001",
         "-1.1002563e-001",
         "-3.9952746e-002",
         "-3.1698294e-002",
         "-1.0233542e-001",
         "9.6126876e-002",
         "-9.7629211e-001",
         "-9.9355182e-001",
         "-9.8637871e-001",
         "-9.7492153e-001",
         "-9.9412211e-001",
         "-9.8578618e-001",
         "-8.6490382e-001",
         "-9.5904912e-001",
         "-7.4327710e-001",
         "8.3372106e-001",
         "9.0575280e-001",
         "8.2893499e-001",
         "-9.7628029e-001",
         "-9.9969335e-001",
         "-9.9982831e-001",
         "-9.9982161e-001",
         "-9.7235357e-001",
         "-9.9514432e-001",
         "-9.8683108e-001",
         "-2.6094267e-001",
         "-1.0000000e+000",
         "-2.4837066e-001",
         "-4.3715568e-001",
         "2.3898137e-001",
         "1.4523773e-001",
         "-1.1391720e-001",
         "3.2311558e-002",
         "-1.2787926e-001",
         "1.1492426e-001",
         "1.2539829e-001",
         "1.1209205e-001",
         "-1.6564496e-001",
         "1.3455444e-001",
         "1.8434898e-001",
         "-1.0129565e-002",
         "4.3311584e-002",
         "-3.5064613e-001",
         "-1.0848567e-001",
         "-4.2410306e-002",
         "-5.5828829e-002",
         "-9.8846185e-001",
         "-9.9563214e-001",
         "-9.9153184e-001",
         "-9.8786802e-001",
         "-9.9572502e-001",
         "-9.9159633e-001",
         "-9.9335904e-001",
         "-9.9380022e-001",
         "-9.8896309e-001",
         "9.8929047e-001",
         "9.9712219e-001",
         "9.9414261e-001",
         "-9.9341491e-001",
         "-9.9988715e-001",
         "-9.9997984e-001",
         "-9.9991584e-001",
         "-9.8713045e-001",
         "-9.9542776e-001",
         "-9.9277552e-001",
         "-5.4363477e-001",
         "-6.7295733e-001",
         "-5.8841044e-001",
         "-2.4115098e-001",
         "-1.1377283e-002",
         "1.1613363e-001",
         "8.9629879e-002",
         "9.5986027e-002",
         "9.6042154e-003",
         "9.5126141e-002",
         "2.5288704e-001",
         "1.8164885e-001",
         "-1.6930838e-001",
         "1.3200906e-001",
         "8.1973166e-003",
         "1.9332856e-001",
         "7.3717859e-002",
         "-3.1485776e-001",
         "-9.8370313e-001",
         "-9.8801962e-001",
         "-9.8832678e-001",
         "-9.8649613e-001",
         "-9.9533294e-001",
         "-9.8370313e-001",
         "-9.9968210e-001",
         "-9.8576690e-001",
         "-5.9993932e-001",
         "3.8049101e-002",
         "-7.4212271e-002",
         "2.5407599e-001",
         "-2.9612966e-001",
         "-9.8370313e-001",
         "-9.8801962e-001",
         "-9.8832678e-001",
         "-9.8649613e-001",
         "-9.9533294e-001",
         "-9.8370313e-001",
         "-9.9968210e-001",
         "-9.8576690e-001",
         "-5.9993932e-001",
         "3.8049101e-002",
         "-7.4212271e-002",
         "2.5407599e-001",
         "-2.9612966e-001",
         "-9.8853127e-001",
         "-9.9039690e-001",
         "-9.9065049e-001",
         "-9.8866062e-001",
         "-9.9301198e-001",
         "-9.8853127e-001",
         "-9.9978994e-001",
         "-9.8998375e-001",
         "-7.9488418e-001",
         "6.4970380e-001",
         "-2.6008800e-001",
         "-1.2841598e-001",
         "-5.2054112e-001",
         "-9.7631707e-001",
         "-9.8605146e-001",
         "-9.8445778e-001",
         "-9.8471460e-001",
         "-9.6619294e-001",
         "-9.7631707e-001",
         "-9.9964058e-001",
         "-9.8345446e-001",
         "-2.2282926e-001",
         "-2.2683093e-001",
         "5.9680819e-002",
         "6.1476177e-002",
         "4.1702126e-002",
         "-9.9340322e-001",
         "-9.9509104e-001",
         "-9.9485947e-001",
         "-9.9535951e-001",
         "-9.9765184e-001",
         "-9.9340322e-001",
         "-9.9995494e-001",
         "-9.9398834e-001",
         "-6.6291363e-001",
         "3.2803146e-001",
         "-1.5456001e-001",
         "-2.2058712e-001",
         "-1.0751416e-001",
         "-9.9359409e-001",
         "-9.7251146e-001",
         "-9.8330396e-001",
         "-9.9631281e-001",
         "-9.6550593e-001",
         "-9.7704932e-001",
         "-9.9409744e-001",
         "-9.7168670e-001",
         "-9.8216914e-001",
         "-9.9815849e-001",
         "-9.6307185e-001",
         "-9.6859592e-001",
         "-9.9709373e-001",
         "-9.8992357e-001",
         "-9.9088566e-001",
         "-9.8582131e-001",
         "-9.9996929e-001",
         "-9.9913741e-001",
         "-9.9943355e-001",
         "-9.8856924e-001",
         "-9.7724244e-001",
         "-9.8130186e-001",
         "-1.0000000e+000",
         "-8.1578627e-001",
         "-8.1351333e-001",
         "-9.3548387e-001",
         "-1.0000000e+000",
         "-1.0000000e+000",
         "1.2453124e-001",
         "-6.4610562e-002",
         "8.2676921e-002",
         "-7.2722732e-001",
         "-9.6541915e-001",
         "1.6306289e-001",
         "-9.2152785e-002",
         "-4.4936768e-002",
         "-2.8836590e-001",
         "-9.9998945e-001",
         "-9.9996162e-001",
         "-9.9981536e-001",
         "-9.9984728e-001",
         "-9.9993910e-001",
         "-9.9992169e-001",
         "-9.9992317e-001",
         "-9.9999664e-001",
         "-9.9998263e-001",
         "-9.9980201e-001",
         "-9.9994764e-001",
         "-9.9994781e-001",
         "-9.9997249e-001",
         "-9.9987456e-001",
         "-9.9900598e-001",
         "-9.9971528e-001",
         "-9.9965771e-001",
         "-9.9981741e-001",
         "-9.9963593e-001",
         "-9.9967885e-001",
         "-9.9961574e-001",
         "-9.9987958e-001",
         "-9.9910845e-001",
         "-9.9962404e-001",
         "-9.9964327e-001",
         "-9.9971496e-001",
         "-9.9912631e-001",
         "-9.9977535e-001",
         "-9.9938816e-001",
         "-9.9972490e-001",
         "-9.9971845e-001",
         "-9.9979818e-001",
         "-9.9975276e-001",
         "-9.9962919e-001",
         "-9.9968623e-001",
         "-9.9991188e-001",
         "-9.9945346e-001",
         "-9.9978070e-001",
         "-9.9974885e-001",
         "-9.9976038e-001",
         "-9.9943429e-001",
         "-9.9980088e-001",
         "-9.9099370e-001",
         "-9.8164225e-001",
         "-9.8756628e-001",
         "-9.9124880e-001",
         "-9.8141476e-001",
         "-9.9041590e-001",
         "-9.8775101e-001",
         "-9.8109125e-001",
         "-9.8772322e-001",
         "-9.9516317e-001",
         "-9.8535077e-001",
         "-9.9391162e-001",
         "-9.9748233e-001",
         "-9.9857122e-001",
         "-9.9755395e-001",
         "-9.8723722e-001",
         "-9.9989404e-001",
         "-9.9963656e-001",
         "-9.9979508e-001",
         "-9.8181688e-001",
         "-9.8476483e-001",
         "-9.8236421e-001",
         "-1.0000000e+000",
         "-1.0000000e+000",
         "-1.0000000e+000",
         "-1.6000000e-001",
         "-4.8000000e-001",
         "-2.8000000e-001",
         "1.1543400e-001",
         "-1.9343634e-001",
         "3.8254326e-002",
         "-5.9475883e-001",
         "-9.2354104e-001",
         "-5.2893421e-001",
         "-9.1298509e-001",
         "-8.0340654e-001",
         "-9.8013321e-001",
         "-9.9999355e-001",
         "-9.9994426e-001",
         "-9.9982744e-001",
         "-9.9984140e-001",
         "-9.9992218e-001",
         "-9.9990585e-001",
         "-9.9987361e-001",
         "-9.9999652e-001",
         "-9.9996277e-001",
         "-9.9980377e-001",
         "-9.9992275e-001",
         "-9.9987516e-001",
         "-9.9990853e-001",
         "-9.9984305e-001",
         "-9.9982028e-001",
         "-9.9974394e-001",
         "-9.9955907e-001",
         "-9.9983859e-001",
         "-9.9966728e-001",
         "-9.9962746e-001",
         "-9.9970366e-001",
         "-9.9999345e-001",
         "-9.9973230e-001",
         "-9.9961124e-001",
         "-9.9961754e-001",
         "-9.9974422e-001",
         "-9.9961317e-001",
         "-9.9977317e-001",
         "-9.9987087e-001",
         "-9.9978388e-001",
         "-9.9973966e-001",
         "-9.9978660e-001",
         "-9.9977218e-001",
         "-9.9962604e-001",
         "-9.9948743e-001",
         "-9.9999573e-001",
         "-9.9980255e-001",
         "-9.9979211e-001",
         "-9.9972075e-001",
         "-9.9951381e-001",
         "-9.9977530e-001",
         "-9.9978683e-001",
         "-9.7543322e-001",
         "-9.9371467e-001",
         "-9.8675570e-001",
         "-9.7664224e-001",
         "-9.9339895e-001",
         "-9.8732821e-001",
         "-9.7560910e-001",
         "-9.9370710e-001",
         "-9.8503032e-001",
         "-9.7290121e-001",
         "-9.9498597e-001",
         "-9.9128300e-001",
         "-9.8831166e-001",
         "-9.9723271e-001",
         "-9.9363603e-001",
         "-9.8600871e-001",
         "-9.9967333e-001",
         "-9.9996237e-001",
         "-9.9984625e-001",
         "-9.8553645e-001",
         "-9.9539209e-001",
         "-9.9255065e-001",
         "-5.9098655e-001",
         "-8.0828724e-001",
         "-7.5107966e-001",
         "-1.0000000e+000",
         "-8.7096774e-001",
         "-1.0000000e+000",
         "-2.1668507e-001",
         "-1.7264171e-002",
         "-1.1072029e-001",
         "9.0519474e-002",
         "-2.4469109e-001",
         "-4.2927236e-001",
         "-8.1263905e-001",
         "-3.9199128e-001",
         "-7.6748240e-001",
         "-9.9968048e-001",
         "-9.9982823e-001",
         "-9.9991514e-001",
         "-9.9993245e-001",
         "-9.9984780e-001",
         "-9.9984155e-001",
         "-9.9986354e-001",
         "-9.9986215e-001",
         "-9.9967443e-001",
         "-9.9990627e-001",
         "-9.9983136e-001",
         "-9.9986294e-001",
         "-9.9967567e-001",
         "-9.9990349e-001",
         "-9.9995441e-001",
         "-9.9998760e-001",
         "-9.9999008e-001",
         "-9.9999433e-001",
         "-9.9997302e-001",
         "-9.9994284e-001",
         "-9.9998656e-001",
         "-9.9999326e-001",
         "-9.9996204e-001",
         "-9.9998927e-001",
         "-9.9996696e-001",
         "-9.9998766e-001",
         "-9.9996064e-001",
         "-9.9998580e-001",
         "-9.9987009e-001",
         "-9.9993456e-001",
         "-9.9993470e-001",
         "-9.9995698e-001",
         "-9.9995225e-001",
         "-9.9990933e-001",
         "-9.9988904e-001",
         "-9.9998851e-001",
         "-9.9985648e-001",
         "-9.9991957e-001",
         "-9.9994640e-001",
         "-9.9993250e-001",
         "-9.9985022e-001",
         "-9.9995560e-001",
         "-9.8779477e-001",
         "-9.8901548e-001",
         "-9.8559356e-001",
         "-9.9306187e-001",
         "-9.8983636e-001",
         "-9.8779477e-001",
         "-9.9980673e-001",
         "-9.8923709e-001",
         "-9.0701426e-001",
         "-8.6206897e-001",
         "2.5789914e-001",
         "-6.1872514e-001",
         "-8.7968464e-001",
         "-9.8928007e-001",
         "-9.9086668e-001",
         "-9.8727429e-001",
         "-9.9317883e-001",
         "-9.9988977e-001",
         "-9.8928007e-001",
         "-9.9984549e-001",
         "-9.8665762e-001",
         "-1.0000000e+000",
         "-9.0476190e-001",
         "6.6079504e-001",
         "-7.2469672e-001",
         "-9.2853938e-001",
         "-9.8925477e-001",
         "-9.8602772e-001",
         "-9.8427365e-001",
         "-9.9097943e-001",
         "-9.9570296e-001",
         "-9.8925477e-001",
         "-9.9985386e-001",
         "-9.9323834e-001",
         "-7.3652148e-001",
         "-7.9487179e-001",
         "-2.1272790e-001",
         "-5.3535208e-001",
         "-8.7191414e-001",
         "-9.9503050e-001",
         "-9.9512739e-001",
         "-9.9463957e-001",
         "-9.9605960e-001",
         "-9.9586627e-001",
         "-9.9503050e-001",
         "-9.9997314e-001",
         "-9.9375529e-001",
         "-1.0000000e+000",
         "-5.5555556e-001",
         "4.1450281e-001",
         "-3.9074815e-001",
         "-7.6010372e-001",
         "-1.1855926e-001",
         "1.7789948e-001",
         "1.0069921e-001",
         "8.0852908e-001",
         "-8.4893347e-001",
         "1.8063731e-001",
         "-4.9117815e-002"
        ],
        [
         "3",
         "2.7917394e-001",
         "-2.6200646e-002",
         "-1.2328257e-001",
         "-9.9609149e-001",
         "-9.8340270e-001",
         "-9.9067510e-001",
         "-9.9709947e-001",
         "-9.8274984e-001",
         "-9.8930250e-001",
         "-9.3869155e-001",
         "-5.7615889e-001",
         "-8.2971145e-001",
         "8.4360895e-001",
         "6.8240094e-001",
         "8.3786929e-001",
         "-9.8609328e-001",
         "-9.9997554e-001",
         "-9.9973600e-001",
         "-9.9950371e-001",
         "-9.9718043e-001",
         "-9.8379912e-001",
         "-9.8600679e-001",
         "-6.2744626e-001",
         "-8.5093004e-001",
         "-9.1187157e-001",
         "6.1435711e-002",
         "7.4839555e-002",
         "1.9820403e-001",
         "-2.6430733e-001",
         "7.2545240e-002",
         "-1.5531983e-001",
         "3.2315395e-001",
         "-1.7081296e-001",
         "2.9493839e-001",
         "-3.0608099e-001",
         "4.8214783e-001",
         "-4.7012871e-001",
         "-3.0569299e-001",
         "-3.6265405e-001",
         "5.0745887e-001",
         "9.6761519e-001",
         "-1.4397645e-001",
         "9.9850143e-002",
         "-9.9664558e-001",
         "-9.8139281e-001",
         "-9.7847643e-001",
         "-9.9645688e-001",
         "-9.8096181e-001",
         "-9.7845576e-001",
         "8.9381715e-001",
         "-1.6371122e-001",
         "9.3424674e-002",
         "9.8682105e-001",
         "-1.2133575e-001",
         "9.5752648e-002",
         "-4.0027809e-001",
         "9.1062071e-001",
         "-9.6939971e-001",
         "-9.8241965e-001",
         "-9.9597641e-001",
         "-9.8066338e-001",
         "-9.7977867e-001",
         "-1.0000000e+000",
         "-1.0000000e+000",
         "-5.9610084e-001",
         "-6.4934877e-002",
         "7.5427203e-002",
         "-8.5822962e-002",
         "9.6207707e-002",
         "-2.9503597e-001",
         "2.2830973e-001",
         "-2.0628122e-001",
         "2.0480094e-001",
         "-3.8541023e-001",
         "3.8637272e-001",
         "-3.8711988e-001",
         "3.8526306e-001",
         "-9.9130869e-001",
         "-9.6882139e-001",
         "9.8425552e-001",
         "7.7320614e-002",
         "2.0057642e-002",
         "-9.8647722e-003",
         "-9.9269737e-001",
         "-9.8755275e-001",
         "-9.9349757e-001",
         "-9.9426599e-001",
         "-9.8571704e-001",
         "-9.9148318e-001",
         "-9.8707696e-001",
         "-9.9178619e-001",
         "-9.8976886e-001",
         "9.8839020e-001",
         "9.9254378e-001",
         "9.9321756e-001",
         "-9.9286835e-001",
         "-9.9992364e-001",
         "-9.9980288e-001",
         "-9.9988290e-001",
         "-9.9467795e-001",
         "-9.8703301e-001",
         "-9.8889631e-001",
         "-8.2080419e-001",
         "-7.5496819e-001",
         "-8.2527857e-001",
         "1.2289300e-001",
         "2.7641881e-001",
         "4.5744504e-001",
         "1.9341434e-001",
         "1.0240466e-001",
         "-9.9103220e-002",
         "1.9467885e-001",
         "4.8424363e-001",
         "3.5765714e-001",
         "-1.8703248e-001",
         "2.9806872e-001",
         "4.5186955e-001",
         "-1.2749515e-001",
         "-8.3278359e-002",
         "4.5705983e-001",
         "-4.3409983e-002",
         "-9.1386182e-002",
         "8.5537699e-002",
         "-9.9138480e-001",
         "-9.9240732e-001",
         "-9.8755418e-001",
         "-9.9158889e-001",
         "-9.9314207e-001",
         "-9.8958491e-001",
         "-8.8532038e-001",
         "-9.5665634e-001",
         "-7.4327710e-001",
         "8.3416396e-001",
         "9.0575280e-001",
         "8.2663382e-001",
         "-9.8229567e-001",
         "-9.9979294e-001",
         "-9.9990228e-001",
         "-9.9987729e-001",
         "-9.9103127e-001",
         "-9.9416532e-001",
         "-9.9458205e-001",
         "-9.3055114e-001",
         "-8.2661803e-001",
         "-5.4342169e-001",
         "-1.6588549e-001",
         "-1.2880542e-002",
         "3.2005501e-001",
         "-1.6511393e-001",
         "4.4553234e-002",
         "-1.2519331e-001",
         "7.8321232e-002",
         "1.7702758e-001",
         "1.9340165e-001",
         "-2.0718879e-001",
         "1.1245747e-001",
         "2.0209193e-001",
         "2.1019413e-001",
         "1.4110084e-001",
         "-7.2530106e-001",
         "-9.1169889e-002",
         "-3.6332620e-002",
         "-6.0464660e-002",
         "-9.9111940e-001",
         "-9.9664096e-001",
         "-9.9332889e-001",
         "-9.9124052e-001",
         "-9.9695785e-001",
         "-9.9401945e-001",
         "-9.9367632e-001",
         "-9.9380022e-001",
         "-9.8896309e-001",
         "9.8929047e-001",
         "9.9813033e-001",
         "9.9414261e-001",
         "-9.9549606e-001",
         "-9.9992506e-001",
         "-9.9998616e-001",
         "-9.9993955e-001",
         "-9.9090865e-001",
         "-9.9707848e-001",
         "-9.9540459e-001",
         "-5.6203107e-001",
         "-7.3133214e-001",
         "-6.6143445e-001",
         "9.8949848e-003",
         "-1.3757147e-001",
         "1.2596517e-001",
         "3.1611970e-001",
         "9.4332952e-002",
         "2.6171325e-002",
         "6.9660990e-002",
         "2.4665320e-001",
         "2.5735535e-001",
         "-1.3680875e-001",
         "8.7315569e-002",
         "1.4909558e-001",
         "1.9665725e-001",
         "1.4045188e-001",
         "-3.0589766e-001",
         "-9.8654176e-001",
         "-9.8642135e-001",
         "-9.8643053e-001",
         "-9.8649613e-001",
         "-9.9704479e-001",
         "-9.8654176e-001",
         "-9.9973743e-001",
         "-9.8350880e-001",
         "-5.8900633e-001",
         "-9.2855878e-002",
         "4.6396167e-002",
         "-4.6644726e-004",
         "3.7142509e-002",
         "-9.8654176e-001",
         "-9.8642135e-001",
         "-9.8643053e-001",
         "-9.8649613e-001",
         "-9.9704479e-001",
         "-9.8654176e-001",
         "-9.9973743e-001",
         "-9.8350880e-001",
         "-5.8900633e-001",
         "-9.2855878e-002",
         "4.6396167e-002",
         "-4.6644726e-004",
         "3.7142509e-002",
         "-9.9307804e-001",
         "-9.9338080e-001",
         "-9.9319452e-001",
         "-9.9340172e-001",
         "-9.9301198e-001",
         "-9.9307804e-001",
         "-9.9988361e-001",
         "-9.9173608e-001",
         "-7.9232145e-001",
         "6.6160340e-001",
         "-2.4745115e-001",
         "-2.3031491e-001",
         "-4.3645940e-001",
         "-9.8205988e-001",
         "-9.8735112e-001",
         "-9.8563162e-001",
         "-9.9002906e-001",
         "-9.8168559e-001",
         "-9.8205988e-001",
         "-9.9976785e-001",
         "-9.8396601e-001",
         "-2.4071922e-001",
         "-2.0198501e-001",
         "5.4711916e-002",
         "1.1007156e-001",
         "-7.9422593e-002",
         "-9.9550216e-001",
         "-9.9526660e-001",
         "-9.9530481e-001",
         "-9.9535951e-001",
         "-9.9765184e-001",
         "-9.9550216e-001",
         "-9.9997021e-001",
         "-9.9500114e-001",
         "-6.8301625e-001",
         "5.9537127e-001",
         "-2.6456877e-001",
         "-3.1572300e-001",
         "-1.6382553e-001",
         "-9.9549062e-001",
         "-9.8356972e-001",
         "-9.9107978e-001",
         "-9.9631211e-001",
         "-9.8324437e-001",
         "-9.9022911e-001",
         "-9.9454681e-001",
         "-9.8282406e-001",
         "-9.8900729e-001",
         "-9.9740352e-001",
         "-9.8727492e-001",
         "-9.8775434e-001",
         "-9.9443193e-001",
         "-9.9025892e-001",
         "-9.9657785e-001",
         "-9.9281202e-001",
         "-9.9997541e-001",
         "-9.9969689e-001",
         "-9.9980294e-001",
         "-9.9044250e-001",
         "-9.9190191e-001",
         "-9.8806054e-001",
         "-1.0000000e+000",
         "-8.7039785e-001",
         "-9.4419022e-001",
         "-1.0000000e+000",
         "-1.0000000e+000",
         "-1.0000000e+000",
         "2.9044377e-002",
         "8.0302267e-002",
         "1.8569468e-001",
         "-5.9911799e-001",
         "-9.0844928e-001",
         "-4.6091454e-001",
         "-8.1305675e-001",
         "-5.6683479e-001",
         "-7.7124606e-001",
         "-9.9998860e-001",
         "-9.9997667e-001",
         "-9.9983433e-001",
         "-9.9987093e-001",
         "-9.9999238e-001",
         "-9.9994916e-001",
         "-9.9996448e-001",
         "-9.9999581e-001",
         "-9.9998639e-001",
         "-9.9982535e-001",
         "-9.9999125e-001",
         "-9.9997500e-001",
         "-9.9997733e-001",
         "-9.9991242e-001",
         "-9.9971914e-001",
         "-9.9974980e-001",
         "-9.9994419e-001",
         "-9.9993972e-001",
         "-9.9955347e-001",
         "-9.9989866e-001",
         "-9.9951217e-001",
         "-9.9986563e-001",
         "-9.9967266e-001",
         "-9.9993621e-001",
         "-9.9966733e-001",
         "-9.9964585e-001",
         "-9.9969246e-001",
         "-9.9987333e-001",
         "-9.9980706e-001",
         "-9.9977484e-001",
         "-9.9981023e-001",
         "-9.9992929e-001",
         "-9.9985819e-001",
         "-9.9966553e-001",
         "-9.9968129e-001",
         "-9.9998360e-001",
         "-9.9980443e-001",
         "-9.9988673e-001",
         "-9.9984379e-001",
         "-9.9977838e-001",
         "-9.9979180e-001",
         "-9.9992168e-001",
         "-9.9444663e-001",
         "-9.8872722e-001",
         "-9.9135422e-001",
         "-9.9137827e-001",
         "-9.8692685e-001",
         "-9.9439076e-001",
         "-9.8943086e-001",
         "-9.8714504e-001",
         "-9.9379043e-001",
         "-9.9340187e-001",
         "-9.8787422e-001",
         "-9.9420121e-001",
         "-9.9790302e-001",
         "-9.9976709e-001",
         "-9.6538079e-001",
         "-9.9265727e-001",
         "-9.9992350e-001",
         "-9.9980312e-001",
         "-9.9988296e-001",
         "-9.9177613e-001",
         "-9.9068489e-001",
         "-9.9328839e-001",
         "-1.0000000e+000",
         "-1.0000000e+000",
         "-1.0000000e+000",
         "-1.2000000e-001",
         "-5.6000000e-001",
         "-2.8000000e-001",
         "3.5798053e-002",
         "-9.3035847e-002",
         "1.6809523e-001",
         "-2.6385140e-001",
         "-7.5722852e-001",
         "-3.9603926e-001",
         "-8.2963474e-001",
         "-5.7703837e-001",
         "-8.9337480e-001",
         "-9.9999780e-001",
         "-9.9996513e-001",
         "-9.9984325e-001",
         "-9.9986543e-001",
         "-9.9999594e-001",
         "-9.9993038e-001",
         "-9.9994169e-001",
         "-9.9999917e-001",
         "-9.9997806e-001",
         "-9.9982688e-001",
         "-9.9998239e-001",
         "-9.9994258e-001",
         "-9.9992682e-001",
         "-9.9990086e-001",
         "-9.9989501e-001",
         "-9.9979651e-001",
         "-9.9988815e-001",
         "-9.9990608e-001",
         "-9.9968118e-001",
         "-9.9984630e-001",
         "-9.9969318e-001",
         "-9.9999991e-001",
         "-9.9979758e-001",
         "-9.9988320e-001",
         "-9.9972231e-001",
         "-9.9973588e-001",
         "-9.9980556e-001",
         "-9.9985596e-001",
         "-9.9988479e-001",
         "-9.9972372e-001",
         "-9.9984138e-001",
         "-9.9994253e-001",
         "-9.9986944e-001",
         "-9.9973529e-001",
         "-9.9920396e-001",
         "-9.9966198e-001",
         "-9.9975602e-001",
         "-9.9992033e-001",
         "-9.9982814e-001",
         "-9.9920661e-001",
         "-9.9982438e-001",
         "-9.9992369e-001",
         "-9.8710958e-001",
         "-9.9360151e-001",
         "-9.8719126e-001",
         "-9.9281036e-001",
         "-9.9164605e-001",
         "-9.8867764e-001",
         "-9.8967126e-001",
         "-9.9346070e-001",
         "-9.8652638e-001",
         "-9.9451839e-001",
         "-9.9180141e-001",
         "-9.9228069e-001",
         "-9.8970064e-001",
         "-9.9434379e-001",
         "-9.9314360e-001",
         "-9.9034428e-001",
         "-9.9994617e-001",
         "-9.9995136e-001",
         "-9.9986679e-001",
         "-9.9287780e-001",
         "-9.9628880e-001",
         "-9.9022360e-001",
         "-7.2366552e-001",
         "-8.0375407e-001",
         "-8.1728590e-001",
         "-1.0000000e+000",
         "-1.0000000e+000",
         "-7.9310345e-001",
         "2.1686246e-001",
         "-1.3524536e-001",
         "-4.9727978e-002",
         "-5.7208760e-001",
         "-8.7361791e-001",
         "-1.3511848e-001",
         "-5.4223840e-001",
         "-3.7935270e-001",
         "-7.5654833e-001",
         "-9.9996373e-001",
         "-9.9989067e-001",
         "-9.9994647e-001",
         "-9.9997326e-001",
         "-9.9987725e-001",
         "-9.9990314e-001",
         "-9.9983338e-001",
         "-9.9989291e-001",
         "-9.9995017e-001",
         "-9.9994811e-001",
         "-9.9987685e-001",
         "-9.9985973e-001",
         "-9.9994839e-001",
         "-9.9994609e-001",
         "-9.9993054e-001",
         "-9.9998924e-001",
         "-9.9999236e-001",
         "-9.9999253e-001",
         "-9.9998586e-001",
         "-9.9995409e-001",
         "-9.9998984e-001",
         "-9.9998832e-001",
         "-9.9994704e-001",
         "-9.9999085e-001",
         "-9.9997960e-001",
         "-9.9998783e-001",
         "-9.9994780e-001",
         "-9.9998839e-001",
         "-9.9987728e-001",
         "-9.9996854e-001",
         "-9.9995663e-001",
         "-9.9995560e-001",
         "-9.9994929e-001",
         "-9.9988047e-001",
         "-9.9987932e-001",
         "-9.9994953e-001",
         "-9.9987471e-001",
         "-9.9993982e-001",
         "-9.9993645e-001",
         "-9.9991006e-001",
         "-9.9987130e-001",
         "-9.9995156e-001",
         "-9.8751866e-001",
         "-9.8674196e-001",
         "-9.8352367e-001",
         "-9.9022991e-001",
         "-9.9818503e-001",
         "-9.8751866e-001",
         "-9.9977021e-001",
         "-9.8321531e-001",
         "-9.0701426e-001",
         "-1.0000000e+000",
         "7.3581496e-002",
         "-4.6842226e-001",
         "-7.5649363e-001",
         "-9.9276892e-001",
         "-9.9169983e-001",
         "-9.8905489e-001",
         "-9.9445455e-001",
         "-9.9556241e-001",
         "-9.9276892e-001",
         "-9.9989476e-001",
         "-9.8805524e-001",
         "-1.0000000e+000",
         "1.0000000e+000",
         "6.7892134e-001",
         "-7.0113068e-001",
         "-9.0963908e-001",
         "-9.8941280e-001",
         "-9.8783575e-001",
         "-9.8684991e-001",
         "-9.8674877e-001",
         "-9.9619936e-001",
         "-9.8941280e-001",
         "-9.9987564e-001",
         "-9.8913554e-001",
         "-7.2089079e-001",
         "-1.0000000e+000",
         "-3.5684195e-002",
         "-2.3009090e-001",
         "-5.1121695e-001",
         "-9.9522071e-001",
         "-9.9523693e-001",
         "-9.9572220e-001",
         "-9.9527312e-001",
         "-9.9573175e-001",
         "-9.9522071e-001",
         "-9.9997442e-001",
         "-9.9522600e-001",
         "-9.5569589e-001",
         "-9.3650794e-001",
         "4.0457253e-001",
         "-1.1729020e-001",
         "-4.8284451e-001",
         "-3.6787973e-002",
         "-1.2892494e-002",
         "6.4001104e-001",
         "-4.8536645e-001",
         "-8.4864938e-001",
         "1.8193476e-001",
         "-4.7663183e-002"
        ],
        [
         "4",
         "2.7662877e-001",
         "-1.6569655e-002",
         "-1.1536185e-001",
         "-9.9813862e-001",
         "-9.8081727e-001",
         "-9.9048163e-001",
         "-9.9832113e-001",
         "-9.7967187e-001",
         "-9.9044113e-001",
         "-9.4246912e-001",
         "-5.6917385e-001",
         "-8.2470529e-001",
         "8.4909512e-001",
         "6.8324978e-001",
         "8.3786929e-001",
         "-9.9265311e-001",
         "-9.9999061e-001",
         "-9.9985588e-001",
         "-9.9975659e-001",
         "-9.9800428e-001",
         "-9.8123186e-001",
         "-9.9132465e-001",
         "-7.8655253e-001",
         "-5.5947687e-001",
         "-7.6143384e-001",
         "3.1327553e-001",
         "-1.3120773e-001",
         "1.9116085e-001",
         "8.6903625e-002",
         "2.5761535e-001",
         "-2.7250466e-001",
         "4.3472776e-001",
         "-3.1537507e-001",
         "4.3974437e-001",
         "-2.6906895e-001",
         "1.7941419e-001",
         "-8.8951954e-002",
         "-1.5580432e-001",
         "-1.8976271e-001",
         "5.9921296e-001",
         "9.6822440e-001",
         "-1.4875022e-001",
         "9.4485896e-002",
         "-9.9842928e-001",
         "-9.8809824e-001",
         "-9.7874493e-001",
         "-9.9841120e-001",
         "-9.8865390e-001",
         "-9.7893551e-001",
         "8.9381715e-001",
         "-1.6678620e-001",
         "9.1682389e-002",
         "9.8743352e-001",
         "-1.2183357e-001",
         "9.4059354e-002",
         "-4.0047652e-001",
         "9.1223466e-001",
         "-9.6705115e-001",
         "-9.8436258e-001",
         "-9.9831819e-001",
         "-9.9061132e-001",
         "-9.8041247e-001",
         "-1.0000000e+000",
         "-1.0000000e+000",
         "-6.1657820e-001",
         "-2.5726681e-001",
         "2.6891819e-001",
         "-2.8066510e-001",
         "2.9261602e-001",
         "-1.6669311e-001",
         "8.9942719e-002",
         "-6.6326701e-002",
         "6.7131104e-002",
         "-2.3747445e-001",
         "2.3926797e-001",
         "-2.4101211e-001",
         "2.4056851e-001",
         "-4.0833042e-001",
         "-1.8484007e-001",
         "9.6479651e-001",
         "7.3444363e-002",
         "1.9121574e-002",
         "1.6779979e-002",
         "-9.9642017e-001",
         "-9.8835871e-001",
         "-9.9245490e-001",
         "-9.9659735e-001",
         "-9.8653699e-001",
         "-9.9068638e-001",
         "-9.9699333e-001",
         "-9.9181776e-001",
         "-9.8976886e-001",
         "9.9430322e-001",
         "9.9254378e-001",
         "9.8560910e-001",
         "-9.9383198e-001",
         "-9.9996916e-001",
         "-9.9982033e-001",
         "-9.9985994e-001",
         "-9.9588783e-001",
         "-9.8652421e-001",
         "-9.9057175e-001",
         "-8.5074390e-001",
         "-7.4625778e-001",
         "-7.9695964e-001",
         "2.4090421e-001",
         "1.3491152e-001",
         "2.9690292e-001",
         "2.8718470e-001",
         "3.1897047e-001",
         "-1.4336412e-001",
         "4.7745449e-001",
         "4.1796623e-001",
         "3.8953712e-001",
         "-3.0309087e-002",
         "1.6326125e-001",
         "1.8018886e-001",
         "-2.7288360e-001",
         "1.0306475e-001",
         "6.4729309e-002",
         "-3.3960416e-002",
         "-7.4708034e-002",
         "7.7392035e-002",
         "-9.8518357e-001",
         "-9.9237812e-001",
         "-9.8740185e-001",
         "-9.8694370e-001",
         "-9.9254250e-001",
         "-9.8816283e-001",
         "-8.7015408e-001",
         "-9.5335965e-001",
         "-7.4977993e-001",
         "8.3909061e-001",
         "9.1118450e-001",
         "8.2137436e-001",
         "-9.8526201e-001",
         "-9.9984949e-001",
         "-9.9995192e-001",
         "-9.9984431e-001",
         "-9.8981320e-001",
         "-9.9333669e-001",
         "-9.9115460e-001",
         "-6.2886099e-001",
         "-4.6780756e-001",
         "-6.5085206e-001",
         "-2.1269027e-001",
         "2.1111801e-003",
         "3.8809860e-001",
         "-2.3327097e-001",
         "-1.6322090e-001",
         "1.8645965e-001",
         "-4.3491617e-001",
         "6.5013677e-001",
         "2.3995007e-001",
         "-3.3952923e-001",
         "1.3253708e-001",
         "4.7325138e-001",
         "-1.4200070e-001",
         "4.8441885e-001",
         "-7.2455753e-001",
         "-9.0770099e-002",
         "-3.7632533e-002",
         "-5.8289319e-002",
         "-9.9135446e-001",
         "-9.9647298e-001",
         "-9.9451099e-001",
         "-9.9288226e-001",
         "-9.9654057e-001",
         "-9.9438301e-001",
         "-9.7984554e-001",
         "-9.9750935e-001",
         "-9.9341985e-001",
         "9.9368479e-001",
         "9.9745314e-001",
         "9.9652793e-001",
         "-9.9587781e-001",
         "-9.9992801e-001",
         "-9.9998519e-001",
         "-9.9995354e-001",
         "-9.9451316e-001",
         "-9.9671765e-001",
         "-9.9396885e-001",
         "-6.1773780e-001",
         "-6.8309318e-001",
         "-6.3292721e-001",
         "-2.5678521e-002",
         "-1.8813916e-001",
         "2.3094957e-001",
         "2.0025838e-001",
         "-1.4940028e-001",
         "2.7197709e-001",
         "-2.7151547e-001",
         "-9.9374657e-003",
         "2.3512848e-001",
         "-3.4096705e-001",
         "-8.5712880e-002",
         "1.6395680e-001",
         "1.2059038e-001",
         "1.0748923e-001",
         "-2.8258933e-001",
         "-9.9282715e-001",
         "-9.9127536e-001",
         "-9.9117030e-001",
         "-9.9096187e-001",
         "-9.9704479e-001",
         "-9.9282715e-001",
         "-9.9988074e-001",
         "-9.8960814e-001",
         "-7.0459880e-001",
         "1.8044105e-001",
         "-2.7765672e-001",
         "5.1556243e-001",
         "-3.5585076e-001",
         "-9.9282715e-001",
         "-9.9127536e-001",
         "-9.9117030e-001",
         "-9.9096187e-001",
         "-9.9704479e-001",
         "-9.9282715e-001",
         "-9.9988074e-001",
         "-9.8960814e-001",
         "-7.0459880e-001",
         "1.8044105e-001",
         "-2.7765672e-001",
         "5.1556243e-001",
         "-3.5585076e-001",
         "-9.9348000e-001",
         "-9.9585371e-001",
         "-9.9610746e-001",
         "-9.9328290e-001",
         "-9.8132454e-001",
         "-9.9348000e-001",
         "-9.9990160e-001",
         "-9.9684631e-001",
         "-8.5002565e-001",
         "3.1160390e-001",
         "-1.7012088e-001",
         "1.3437035e-001",
         "-4.5829909e-001",
         "-9.8520373e-001",
         "-9.8906257e-001",
         "-9.8961337e-001",
         "-9.8702854e-001",
         "-9.8168559e-001",
         "-9.8520373e-001",
         "-9.9982937e-001",
         "-9.9233802e-001",
         "-3.3869914e-001",
         "-2.3699257e-001",
         "9.3820007e-002",
         "2.3332720e-002",
         "3.9038976e-002",
         "-9.9580756e-001",
         "-9.9525804e-001",
         "-9.9630727e-001",
         "-9.9238935e-001",
         "-9.9219267e-001",
         "-9.9580756e-001",
         "-9.9997208e-001",
         "-9.9648366e-001",
         "-7.2017068e-001",
         "3.3185844e-001",
         "-2.6056203e-001",
         "-1.4566464e-001",
         "-7.3679914e-003",
         "-9.9728592e-001",
         "-9.8230099e-001",
         "-9.8836944e-001",
         "-9.9860647e-001",
         "-9.8012947e-001",
         "-9.9191496e-001",
         "-9.9772495e-001",
         "-9.8235278e-001",
         "-9.9091458e-001",
         "-9.9927743e-001",
         "-9.8084820e-001",
         "-9.8911650e-001",
         "-9.9496791e-001",
         "-9.9178840e-001",
         "-9.7449380e-001",
         "-9.9242325e-001",
         "-9.9999018e-001",
         "-9.9962514e-001",
         "-9.9979787e-001",
         "-9.9376040e-001",
         "-9.8817969e-001",
         "-9.8635885e-001",
         "-1.0000000e+000",
         "-8.7039785e-001",
         "-9.4419022e-001",
         "9.6774194e-002",
         "-1.0000000e+000",
         "-1.0000000e+000",
         "1.8108977e-001",
         "5.7987891e-002",
         "5.5978632e-001",
         "-6.7699650e-001",
         "-9.5137074e-001",
         "-1.8038282e-001",
         "-5.3372625e-001",
         "-5.8551700e-001",
         "-7.9043255e-001",
         "-9.9999401e-001",
         "-9.9998598e-001",
         "-9.9993593e-001",
         "-9.9994545e-001",
         "-9.9996940e-001",
         "-9.9993489e-001",
         "-9.9996974e-001",
         "-9.9998622e-001",
         "-9.9999345e-001",
         "-9.9993477e-001",
         "-9.9997153e-001",
         "-9.9997528e-001",
         "-9.9999110e-001",
         "-9.9995613e-001",
         "-9.9956396e-001",
         "-9.9985973e-001",
         "-9.9986270e-001",
         "-9.9989757e-001",
         "-9.9965050e-001",
         "-9.9971185e-001",
         "-9.9951637e-001",
         "-9.9991077e-001",
         "-9.9961031e-001",
         "-9.9984529e-001",
         "-9.9966658e-001",
         "-9.9966746e-001",
         "-9.9962111e-001",
         "-9.9984191e-001",
         "-9.9980566e-001",
         "-9.9983437e-001",
         "-9.9982510e-001",
         "-9.9978642e-001",
         "-9.9974535e-001",
         "-9.9965574e-001",
         "-9.9902580e-001",
         "-9.9943593e-001",
         "-9.9982251e-001",
         "-9.9984446e-001",
         "-9.9974975e-001",
         "-9.9914964e-001",
         "-9.9981232e-001",
         "-9.9979272e-001",
         "-9.9629204e-001",
         "-9.8879002e-001",
         "-9.9062442e-001",
         "-9.9690254e-001",
         "-9.8860666e-001",
         "-9.9290652e-001",
         "-9.9609140e-001",
         "-9.8886723e-001",
         "-9.9167299e-001",
         "-9.9700949e-001",
         "-9.9037281e-001",
         "-9.9514209e-001",
         "-9.9579648e-001",
         "-9.9611276e-001",
         "-9.9597877e-001",
         "-9.9325877e-001",
         "-9.9996912e-001",
         "-9.9982051e-001",
         "-9.9986037e-001",
         "-9.9614147e-001",
         "-9.9240766e-001",
         "-9.8617880e-001",
         "-1.0000000e+000",
         "-1.0000000e+000",
         "-1.0000000e+000",
         "-3.2000000e-001",
         "-8.0000000e-002",
         "4.0000000e-002",
         "2.7335020e-001",
         "7.9135382e-002",
         "2.9238418e-001",
         "-5.2215711e-001",
         "-8.1298725e-001",
         "-4.9655996e-001",
         "-9.0390837e-001",
         "-7.6436937e-001",
         "-9.6620393e-001",
         "-9.9999527e-001",
         "-9.9998294e-001",
         "-9.9994662e-001",
         "-9.9993883e-001",
         "-9.9996161e-001",
         "-9.9992890e-001",
         "-9.9995813e-001",
         "-9.9999487e-001",
         "-9.9998834e-001",
         "-9.9994120e-001",
         "-9.9995872e-001",
         "-9.9995790e-001",
         "-9.9997483e-001",
         "-9.9993914e-001",
         "-9.9992538e-001",
         "-9.9987750e-001",
         "-9.9981036e-001",
         "-9.9993208e-001",
         "-9.9972845e-001",
         "-9.9976935e-001",
         "-9.9950268e-001",
         "-9.9999212e-001",
         "-9.9987817e-001",
         "-9.9983869e-001",
         "-9.9972790e-001",
         "-9.9956843e-001",
         "-9.9982993e-001",
         "-9.9987443e-001",
         "-9.9984514e-001",
         "-9.9985296e-001",
         "-9.9988988e-001",
         "-9.9981765e-001",
         "-9.9975950e-001",
         "-9.9968778e-001",
         "-9.9916948e-001",
         "-9.9998229e-001",
         "-9.9985253e-001",
         "-9.9988407e-001",
         "-9.9972971e-001",
         "-9.9921057e-001",
         "-9.9990040e-001",
         "-9.9980921e-001",
         "-9.8244648e-001",
         "-9.9298380e-001",
         "-9.8866644e-001",
         "-9.8598182e-001",
         "-9.9195582e-001",
         "-9.8794433e-001",
         "-9.8258095e-001",
         "-9.9334263e-001",
         "-9.8646125e-001",
         "-9.8795019e-001",
         "-9.9322827e-001",
         "-9.9144358e-001",
         "-9.9373810e-001",
         "-9.9372533e-001",
         "-9.9483517e-001",
         "-9.8870621e-001",
         "-9.9986159e-001",
         "-9.9995105e-001",
         "-9.9986421e-001",
         "-9.9046444e-001",
         "-9.9612282e-001",
         "-9.9742634e-001",
         "-6.5261680e-001",
         "-8.2721239e-001",
         "-7.3745777e-001",
         "-1.0000000e+000",
         "-8.0645161e-001",
         "-1.0000000e+000",
         "-1.5334258e-001",
         "-8.8402726e-002",
         "-1.6223039e-001",
         "-3.3959682e-001",
         "-7.2262793e-001",
         "-2.6547067e-001",
         "-6.8998825e-001",
         "-2.6799560e-001",
         "-6.5920781e-001",
         "-9.9987005e-001",
         "-9.9991168e-001",
         "-9.9992583e-001",
         "-9.9994090e-001",
         "-9.9993559e-001",
         "-9.9988737e-001",
         "-9.9989990e-001",
         "-9.9991748e-001",
         "-9.9986506e-001",
         "-9.9991831e-001",
         "-9.9991088e-001",
         "-9.9990769e-001",
         "-9.9986361e-001",
         "-9.9993255e-001",
         "-9.9992595e-001",
         "-9.9999271e-001",
         "-9.9999637e-001",
         "-9.9998842e-001",
         "-9.9996657e-001",
         "-9.9997372e-001",
         "-9.9997400e-001",
         "-9.9997201e-001",
         "-9.9994621e-001",
         "-9.9999336e-001",
         "-9.9996811e-001",
         "-9.9996962e-001",
         "-9.9994896e-001",
         "-9.9998164e-001",
         "-9.9987113e-001",
         "-9.9995541e-001",
         "-9.9999624e-001",
         "-9.9998640e-001",
         "-9.9993974e-001",
         "-9.9990684e-001",
         "-9.9992113e-001",
         "-9.9998119e-001",
         "-9.9986445e-001",
         "-9.9999250e-001",
         "-9.9993655e-001",
         "-9.9994745e-001",
         "-9.9986642e-001",
         "-9.9997284e-001",
         "-9.9359085e-001",
         "-9.9006346e-001",
         "-9.9232413e-001",
         "-9.9050589e-001",
         "-9.8780516e-001",
         "-9.9359085e-001",
         "-9.9987310e-001",
         "-9.9734330e-001",
         "-9.0701426e-001",
         "-1.0000000e+000",
         "3.9431033e-001",
         "-1.1266294e-001",
         "-4.8180520e-001",
         "-9.9552281e-001",
         "-9.9438901e-001",
         "-9.9330548e-001",
         "-9.9548469e-001",
         "-9.8217718e-001",
         "-9.9552281e-001",
         "-9.9994087e-001",
         "-9.9416946e-001",
         "-1.0000000e+000",
         "-1.0000000e+000",
         "5.5905766e-001",
         "-5.2890134e-001",
         "-8.5893252e-001",
         "-9.9143303e-001",
         "-9.8905935e-001",
         "-9.8774359e-001",
         "-9.9146166e-001",
         "-9.9835318e-001",
         "-9.9143303e-001",
         "-9.9990182e-001",
         "-9.8932105e-001",
         "-7.6337215e-001",
         "-8.9743590e-001",
         "-2.7358201e-001",
         "-5.1028185e-001",
         "-8.3070177e-001",
         "-9.9509278e-001",
         "-9.9546483e-001",
         "-9.9527866e-001",
         "-9.9560929e-001",
         "-9.9741797e-001",
         "-9.9509278e-001",
         "-9.9997448e-001",
         "-9.9548682e-001",
         "-1.0000000e+000",
         "-9.3650794e-001",
         "8.7753013e-002",
         "-3.5147093e-001",
         "-6.9920515e-001",
         "1.2332005e-001",
         "1.2254196e-001",
         "6.9357829e-001",
         "-6.1597061e-001",
         "-8.4786525e-001",
         "1.8515116e-001",
         "-4.3892254e-002"
        ]
       ],
       "shape": {
        "columns": 561,
        "rows": 5
       }
      },
      "text/html": [
       "<div>\n",
       "<style scoped>\n",
       "    .dataframe tbody tr th:only-of-type {\n",
       "        vertical-align: middle;\n",
       "    }\n",
       "\n",
       "    .dataframe tbody tr th {\n",
       "        vertical-align: top;\n",
       "    }\n",
       "\n",
       "    .dataframe thead th {\n",
       "        text-align: right;\n",
       "    }\n",
       "</style>\n",
       "<table border=\"1\" class=\"dataframe\">\n",
       "  <thead>\n",
       "    <tr style=\"text-align: right;\">\n",
       "      <th></th>\n",
       "      <th>tBodyAcc-mean()-X</th>\n",
       "      <th>tBodyAcc-mean()-Y</th>\n",
       "      <th>tBodyAcc-mean()-Z</th>\n",
       "      <th>tBodyAcc-std()-X</th>\n",
       "      <th>tBodyAcc-std()-Y</th>\n",
       "      <th>tBodyAcc-std()-Z</th>\n",
       "      <th>tBodyAcc-mad()-X</th>\n",
       "      <th>tBodyAcc-mad()-Y</th>\n",
       "      <th>tBodyAcc-mad()-Z</th>\n",
       "      <th>tBodyAcc-max()-X</th>\n",
       "      <th>...</th>\n",
       "      <th>fBodyBodyGyroJerkMag-meanFreq()</th>\n",
       "      <th>fBodyBodyGyroJerkMag-skewness()</th>\n",
       "      <th>fBodyBodyGyroJerkMag-kurtosis()</th>\n",
       "      <th>angle(tBodyAccMean,gravity)</th>\n",
       "      <th>angle(tBodyAccJerkMean),gravityMean)</th>\n",
       "      <th>angle(tBodyGyroMean,gravityMean)</th>\n",
       "      <th>angle(tBodyGyroJerkMean,gravityMean)</th>\n",
       "      <th>angle(X,gravityMean)</th>\n",
       "      <th>angle(Y,gravityMean)</th>\n",
       "      <th>angle(Z,gravityMean)</th>\n",
       "    </tr>\n",
       "  </thead>\n",
       "  <tbody>\n",
       "    <tr>\n",
       "      <th>0</th>\n",
       "      <td>2.8858451e-001</td>\n",
       "      <td>-2.0294171e-002</td>\n",
       "      <td>-1.3290514e-001</td>\n",
       "      <td>-9.9527860e-001</td>\n",
       "      <td>-9.8311061e-001</td>\n",
       "      <td>-9.1352645e-001</td>\n",
       "      <td>-9.9511208e-001</td>\n",
       "      <td>-9.8318457e-001</td>\n",
       "      <td>-9.2352702e-001</td>\n",
       "      <td>-9.3472378e-001</td>\n",
       "      <td>...</td>\n",
       "      <td>-7.4323027e-002</td>\n",
       "      <td>-2.9867637e-001</td>\n",
       "      <td>-7.1030407e-001</td>\n",
       "      <td>-1.1275434e-001</td>\n",
       "      <td>3.0400372e-002</td>\n",
       "      <td>-4.6476139e-001</td>\n",
       "      <td>-1.8445884e-002</td>\n",
       "      <td>-8.4124676e-001</td>\n",
       "      <td>1.7994061e-001</td>\n",
       "      <td>-5.8626924e-002</td>\n",
       "    </tr>\n",
       "    <tr>\n",
       "      <th>1</th>\n",
       "      <td>2.7841883e-001</td>\n",
       "      <td>-1.6410568e-002</td>\n",
       "      <td>-1.2352019e-001</td>\n",
       "      <td>-9.9824528e-001</td>\n",
       "      <td>-9.7530022e-001</td>\n",
       "      <td>-9.6032199e-001</td>\n",
       "      <td>-9.9880719e-001</td>\n",
       "      <td>-9.7491437e-001</td>\n",
       "      <td>-9.5768622e-001</td>\n",
       "      <td>-9.4306751e-001</td>\n",
       "      <td>...</td>\n",
       "      <td>1.5807454e-001</td>\n",
       "      <td>-5.9505094e-001</td>\n",
       "      <td>-8.6149931e-001</td>\n",
       "      <td>5.3476955e-002</td>\n",
       "      <td>-7.4345661e-003</td>\n",
       "      <td>-7.3262621e-001</td>\n",
       "      <td>7.0351059e-001</td>\n",
       "      <td>-8.4478760e-001</td>\n",
       "      <td>1.8028889e-001</td>\n",
       "      <td>-5.4316717e-002</td>\n",
       "    </tr>\n",
       "    <tr>\n",
       "      <th>2</th>\n",
       "      <td>2.7965306e-001</td>\n",
       "      <td>-1.9467156e-002</td>\n",
       "      <td>-1.1346169e-001</td>\n",
       "      <td>-9.9537956e-001</td>\n",
       "      <td>-9.6718701e-001</td>\n",
       "      <td>-9.7894396e-001</td>\n",
       "      <td>-9.9651994e-001</td>\n",
       "      <td>-9.6366837e-001</td>\n",
       "      <td>-9.7746859e-001</td>\n",
       "      <td>-9.3869155e-001</td>\n",
       "      <td>...</td>\n",
       "      <td>4.1450281e-001</td>\n",
       "      <td>-3.9074815e-001</td>\n",
       "      <td>-7.6010372e-001</td>\n",
       "      <td>-1.1855926e-001</td>\n",
       "      <td>1.7789948e-001</td>\n",
       "      <td>1.0069921e-001</td>\n",
       "      <td>8.0852908e-001</td>\n",
       "      <td>-8.4893347e-001</td>\n",
       "      <td>1.8063731e-001</td>\n",
       "      <td>-4.9117815e-002</td>\n",
       "    </tr>\n",
       "    <tr>\n",
       "      <th>3</th>\n",
       "      <td>2.7917394e-001</td>\n",
       "      <td>-2.6200646e-002</td>\n",
       "      <td>-1.2328257e-001</td>\n",
       "      <td>-9.9609149e-001</td>\n",
       "      <td>-9.8340270e-001</td>\n",
       "      <td>-9.9067510e-001</td>\n",
       "      <td>-9.9709947e-001</td>\n",
       "      <td>-9.8274984e-001</td>\n",
       "      <td>-9.8930250e-001</td>\n",
       "      <td>-9.3869155e-001</td>\n",
       "      <td>...</td>\n",
       "      <td>4.0457253e-001</td>\n",
       "      <td>-1.1729020e-001</td>\n",
       "      <td>-4.8284451e-001</td>\n",
       "      <td>-3.6787973e-002</td>\n",
       "      <td>-1.2892494e-002</td>\n",
       "      <td>6.4001104e-001</td>\n",
       "      <td>-4.8536645e-001</td>\n",
       "      <td>-8.4864938e-001</td>\n",
       "      <td>1.8193476e-001</td>\n",
       "      <td>-4.7663183e-002</td>\n",
       "    </tr>\n",
       "    <tr>\n",
       "      <th>4</th>\n",
       "      <td>2.7662877e-001</td>\n",
       "      <td>-1.6569655e-002</td>\n",
       "      <td>-1.1536185e-001</td>\n",
       "      <td>-9.9813862e-001</td>\n",
       "      <td>-9.8081727e-001</td>\n",
       "      <td>-9.9048163e-001</td>\n",
       "      <td>-9.9832113e-001</td>\n",
       "      <td>-9.7967187e-001</td>\n",
       "      <td>-9.9044113e-001</td>\n",
       "      <td>-9.4246912e-001</td>\n",
       "      <td>...</td>\n",
       "      <td>8.7753013e-002</td>\n",
       "      <td>-3.5147093e-001</td>\n",
       "      <td>-6.9920515e-001</td>\n",
       "      <td>1.2332005e-001</td>\n",
       "      <td>1.2254196e-001</td>\n",
       "      <td>6.9357829e-001</td>\n",
       "      <td>-6.1597061e-001</td>\n",
       "      <td>-8.4786525e-001</td>\n",
       "      <td>1.8515116e-001</td>\n",
       "      <td>-4.3892254e-002</td>\n",
       "    </tr>\n",
       "  </tbody>\n",
       "</table>\n",
       "<p>5 rows × 561 columns</p>\n",
       "</div>"
      ],
      "text/plain": [
       "  tBodyAcc-mean()-X tBodyAcc-mean()-Y tBodyAcc-mean()-Z tBodyAcc-std()-X  \\\n",
       "0    2.8858451e-001   -2.0294171e-002   -1.3290514e-001  -9.9527860e-001   \n",
       "1    2.7841883e-001   -1.6410568e-002   -1.2352019e-001  -9.9824528e-001   \n",
       "2    2.7965306e-001   -1.9467156e-002   -1.1346169e-001  -9.9537956e-001   \n",
       "3    2.7917394e-001   -2.6200646e-002   -1.2328257e-001  -9.9609149e-001   \n",
       "4    2.7662877e-001   -1.6569655e-002   -1.1536185e-001  -9.9813862e-001   \n",
       "\n",
       "  tBodyAcc-std()-Y tBodyAcc-std()-Z tBodyAcc-mad()-X tBodyAcc-mad()-Y  \\\n",
       "0  -9.8311061e-001  -9.1352645e-001  -9.9511208e-001  -9.8318457e-001   \n",
       "1  -9.7530022e-001  -9.6032199e-001  -9.9880719e-001  -9.7491437e-001   \n",
       "2  -9.6718701e-001  -9.7894396e-001  -9.9651994e-001  -9.6366837e-001   \n",
       "3  -9.8340270e-001  -9.9067510e-001  -9.9709947e-001  -9.8274984e-001   \n",
       "4  -9.8081727e-001  -9.9048163e-001  -9.9832113e-001  -9.7967187e-001   \n",
       "\n",
       "  tBodyAcc-mad()-Z tBodyAcc-max()-X  ... fBodyBodyGyroJerkMag-meanFreq()  \\\n",
       "0  -9.2352702e-001  -9.3472378e-001  ...                 -7.4323027e-002   \n",
       "1  -9.5768622e-001  -9.4306751e-001  ...                  1.5807454e-001   \n",
       "2  -9.7746859e-001  -9.3869155e-001  ...                  4.1450281e-001   \n",
       "3  -9.8930250e-001  -9.3869155e-001  ...                  4.0457253e-001   \n",
       "4  -9.9044113e-001  -9.4246912e-001  ...                  8.7753013e-002   \n",
       "\n",
       "  fBodyBodyGyroJerkMag-skewness() fBodyBodyGyroJerkMag-kurtosis()  \\\n",
       "0                 -2.9867637e-001                 -7.1030407e-001   \n",
       "1                 -5.9505094e-001                 -8.6149931e-001   \n",
       "2                 -3.9074815e-001                 -7.6010372e-001   \n",
       "3                 -1.1729020e-001                 -4.8284451e-001   \n",
       "4                 -3.5147093e-001                 -6.9920515e-001   \n",
       "\n",
       "  angle(tBodyAccMean,gravity) angle(tBodyAccJerkMean),gravityMean)  \\\n",
       "0             -1.1275434e-001                       3.0400372e-002   \n",
       "1              5.3476955e-002                      -7.4345661e-003   \n",
       "2             -1.1855926e-001                       1.7789948e-001   \n",
       "3             -3.6787973e-002                      -1.2892494e-002   \n",
       "4              1.2332005e-001                       1.2254196e-001   \n",
       "\n",
       "  angle(tBodyGyroMean,gravityMean) angle(tBodyGyroJerkMean,gravityMean)  \\\n",
       "0                  -4.6476139e-001                      -1.8445884e-002   \n",
       "1                  -7.3262621e-001                       7.0351059e-001   \n",
       "2                   1.0069921e-001                       8.0852908e-001   \n",
       "3                   6.4001104e-001                      -4.8536645e-001   \n",
       "4                   6.9357829e-001                      -6.1597061e-001   \n",
       "\n",
       "  angle(X,gravityMean) angle(Y,gravityMean) angle(Z,gravityMean)  \n",
       "0      -8.4124676e-001       1.7994061e-001      -5.8626924e-002  \n",
       "1      -8.4478760e-001       1.8028889e-001      -5.4316717e-002  \n",
       "2      -8.4893347e-001       1.8063731e-001      -4.9117815e-002  \n",
       "3      -8.4864938e-001       1.8193476e-001      -4.7663183e-002  \n",
       "4      -8.4786525e-001       1.8515116e-001      -4.3892254e-002  \n",
       "\n",
       "[5 rows x 561 columns]"
      ]
     },
     "execution_count": 34,
     "metadata": {},
     "output_type": "execute_result"
    }
   ],
   "source": [
    "dataframe_x = pd.DataFrame(dados_train_x, columns=labels)\n",
    "dataframe_x.head()"
   ]
  },
  {
   "cell_type": "code",
   "execution_count": 35,
   "id": "ac414a05",
   "metadata": {},
   "outputs": [
    {
     "data": {
      "application/vnd.microsoft.datawrangler.viewer.v0+json": {
       "columns": [
        {
         "name": "index",
         "rawType": "int64",
         "type": "integer"
        },
        {
         "name": "Resultado",
         "rawType": "object",
         "type": "string"
        }
       ],
       "ref": "68fc79cd-037e-4128-8ff2-d3d291b20f95",
       "rows": [
        [
         "0",
         "5"
        ],
        [
         "1",
         "5"
        ],
        [
         "2",
         "5"
        ],
        [
         "3",
         "5"
        ],
        [
         "4",
         "5"
        ]
       ],
       "shape": {
        "columns": 1,
        "rows": 5
       }
      },
      "text/html": [
       "<div>\n",
       "<style scoped>\n",
       "    .dataframe tbody tr th:only-of-type {\n",
       "        vertical-align: middle;\n",
       "    }\n",
       "\n",
       "    .dataframe tbody tr th {\n",
       "        vertical-align: top;\n",
       "    }\n",
       "\n",
       "    .dataframe thead th {\n",
       "        text-align: right;\n",
       "    }\n",
       "</style>\n",
       "<table border=\"1\" class=\"dataframe\">\n",
       "  <thead>\n",
       "    <tr style=\"text-align: right;\">\n",
       "      <th></th>\n",
       "      <th>Resultado</th>\n",
       "    </tr>\n",
       "  </thead>\n",
       "  <tbody>\n",
       "    <tr>\n",
       "      <th>0</th>\n",
       "      <td>5</td>\n",
       "    </tr>\n",
       "    <tr>\n",
       "      <th>1</th>\n",
       "      <td>5</td>\n",
       "    </tr>\n",
       "    <tr>\n",
       "      <th>2</th>\n",
       "      <td>5</td>\n",
       "    </tr>\n",
       "    <tr>\n",
       "      <th>3</th>\n",
       "      <td>5</td>\n",
       "    </tr>\n",
       "    <tr>\n",
       "      <th>4</th>\n",
       "      <td>5</td>\n",
       "    </tr>\n",
       "  </tbody>\n",
       "</table>\n",
       "</div>"
      ],
      "text/plain": [
       "  Resultado\n",
       "0         5\n",
       "1         5\n",
       "2         5\n",
       "3         5\n",
       "4         5"
      ]
     },
     "execution_count": 35,
     "metadata": {},
     "output_type": "execute_result"
    }
   ],
   "source": [
    "dataframe_y = pd.DataFrame(dados_train_y, columns=['Resultado'])\n",
    "dataframe_y.head()"
   ]
  },
  {
   "cell_type": "markdown",
   "id": "8e160c0f",
   "metadata": {},
   "source": [
    "# Scaler"
   ]
  },
  {
   "cell_type": "code",
   "execution_count": 36,
   "id": "bffdb182",
   "metadata": {},
   "outputs": [
    {
     "data": {
      "text/plain": [
       "array([ 0.20064157, -0.0636826 , -0.41962845, -0.86881389, -0.93944133])"
      ]
     },
     "execution_count": 36,
     "metadata": {},
     "output_type": "execute_result"
    }
   ],
   "source": [
    "scaler = StandardScaler()\n",
    "X_scaled = scaler.fit_transform(dataframe_x)\n",
    "X_scaled[0][:5]"
   ]
  },
  {
   "cell_type": "markdown",
   "id": "0a5cc39c",
   "metadata": {},
   "source": [
    "# PCA"
   ]
  },
  {
   "cell_type": "code",
   "execution_count": 37,
   "id": "b38b9c62",
   "metadata": {},
   "outputs": [
    {
     "name": "stdout",
     "output_type": "stream",
     "text": [
      "Variância explicada por cada componente: [0.50781172 0.0658068 ]\n",
      "Variância total explicada: 0.5736185255809917\n"
     ]
    }
   ],
   "source": [
    "pca = PCA(n_components=2)\n",
    "X_pca = pca.fit_transform(X_scaled)\n",
    "var_explicada = pca.explained_variance_ratio_\n",
    "\n",
    "print(\"Variância explicada por cada componente:\", var_explicada)\n",
    "print(\"Variância total explicada:\", var_explicada.sum())"
   ]
  },
  {
   "cell_type": "code",
   "execution_count": 38,
   "id": "870de3fd",
   "metadata": {},
   "outputs": [
    {
     "data": {
      "image/png": "[encoded data removed]",
      "text/plain": [
       "<Figure size 500x400 with 1 Axes>"
      ]
     },
     "metadata": {},
     "output_type": "display_data"
    }
   ],
   "source": [
    "plt.figure(figsize=(5,4))\n",
    "\n",
    "scatter = plt.scatter(\n",
    "    X_pca[:, 0],\n",
    "    X_pca[:, 1],\n",
    "    c=dataframe_y['Resultado'].astype(int),\n",
    ")\n",
    "\n",
    "plt.xlabel(f\"PC1 ({var_explicada[0]*100:.2f}% da variância)\")\n",
    "plt.ylabel(f\"PC2 ({var_explicada[1]*100:.2f}% da variância)\")\n",
    "plt.title(\"Projeção dos dados em 2D usando PCA\")\n",
    "plt.show()\n"
   ]
  },
  {
   "cell_type": "code",
   "execution_count": 39,
   "id": "37174916",
   "metadata": {},
   "outputs": [
    {
     "name": "stdout",
     "output_type": "stream",
     "text": [
      "Número de componentes necessários para 90% da variância: 63\n",
      "Variância explicada com 63 componentes: 0.9005\n"
     ]
    }
   ],
   "source": [
    "pca_full = PCA()\n",
    "pca_full.fit(X_scaled)\n",
    "\n",
    "variancia_acumulada = pca_full.explained_variance_ratio_.cumsum()\n",
    "for i, variancia in enumerate(variancia_acumulada):\n",
    "  if variancia >= 0.90:\n",
    "    componentes_90 = i + 1\n",
    "    break\n",
    "\n",
    "print(f\"Número de componentes necessários para 90% da variância: {componentes_90}\")\n",
    "print(f\"Variância explicada com {componentes_90} componentes: {variancia_acumulada[componentes_90-1]:.4f}\")"
   ]
  },
  {
   "cell_type": "markdown",
   "id": "7b77cebe",
   "metadata": {},
   "source": [
    "# RFE"
   ]
  },
  {
   "cell_type": "code",
   "execution_count": null,
   "id": "af7b832a",
   "metadata": {},
   "outputs": [],
   "source": [
    "if os.path.exists('rfe_model.pkl'):\n",
    "    with open('rfe_model.pkl', 'rb') as f:\n",
    "        rfe = pickle.load(f)\n",
    "else:\n",
    "    rfe = None"
   ]
  },
  {
   "cell_type": "code",
   "execution_count": null,
   "id": "9ce9f622",
   "metadata": {},
   "outputs": [
    {
     "name": "stdout",
     "output_type": "stream",
     "text": [
      "Features: 561, Acurácia média: 0.9350\n",
      "Features: 560, Acurácia média: 0.9358\n",
      "Features: 559, Acurácia média: 0.9346\n",
      "Features: 558, Acurácia média: 0.9351\n",
      "Features: 557, Acurácia média: 0.9351\n",
      "Features: 556, Acurácia média: 0.9347\n",
      "Features: 555, Acurácia média: 0.9347\n",
      "Features: 554, Acurácia média: 0.9344\n",
      "Features: 553, Acurácia média: 0.9354\n",
      "Features: 552, Acurácia média: 0.9357\n",
      "Features: 551, Acurácia média: 0.9357\n",
      "Features: 550, Acurácia média: 0.9354\n",
      "Features: 549, Acurácia média: 0.9351\n",
      "Features: 548, Acurácia média: 0.9346\n",
      "Features: 547, Acurácia média: 0.9346\n"
     ]
    }
   ],
   "source": [
    "model = LogisticRegression(max_iter=1000)\n",
    "n_features = X_scaled.shape[1]\n",
    "scores = []\n",
    "\n",
    "if rfe is not None:\n",
    "  for k in range(n_features, 1, -1):\n",
    "      rfe = RFE(estimator=model, n_features_to_select=k)\n",
    "      X_rfe = rfe.fit_transform(X_scaled, dataframe_y.values.ravel())\n",
    "\n",
    "      acc = cross_val_score(model, X_rfe, dataframe_y.values.ravel(), cv=5, scoring='accuracy').mean()\n",
    "      scores.append((k, acc))\n",
    "      print(f\"Features: {k}, Acurácia média: {acc:.4f}\")\n",
    "\n",
    "  with open('rfe_model.pkl', 'wb') as f:\n",
    "      pickle.dump(rfe, f)\n",
    "\n",
    "print(\"Support\", rfe.support_)\n",
    "print(\"Ranking:\", rfe.ranking_)\n"
   ]
  },
  {
   "cell_type": "code",
   "execution_count": 59,
   "id": "ad9f9886",
   "metadata": {},
   "outputs": [
    {
     "data": {
      "application/vnd.microsoft.datawrangler.viewer.v0+json": {
       "columns": [
        {
         "name": "index",
         "rawType": "int64",
         "type": "integer"
        },
        {
         "name": "Feature",
         "rawType": "object",
         "type": "string"
        },
        {
         "name": "Ranking",
         "rawType": "int64",
         "type": "integer"
        }
       ],
       "ref": "a048a439-50a6-43f5-ab04-ef5b759b8ffa",
       "rows": [
        [
         "52",
         "tGravityAcc-min()-X",
         "1"
        ],
        [
         "366",
         "fBodyAccJerk-entropy()-X",
         "1"
        ],
        [
         "57",
         "tGravityAcc-energy()-Y",
         "2"
        ],
        [
         "102",
         "tBodyAccJerk-entropy()-X",
         "3"
        ],
        [
         "104",
         "tBodyAccJerk-entropy()-Z",
         "4"
        ],
        [
         "508",
         "fBodyAccMag-energy()",
         "5"
        ],
        [
         "41",
         "tGravityAcc-mean()-Y",
         "6"
        ],
        [
         "140",
         "tBodyGyro-iqr()-Y",
         "7"
        ],
        [
         "445",
         "fBodyGyro-entropy()-X",
         "8"
        ],
        [
         "558",
         "angle(X,gravityMean)",
         "9"
        ]
       ],
       "shape": {
        "columns": 2,
        "rows": 10
       }
      },
      "text/html": [
       "<div>\n",
       "<style scoped>\n",
       "    .dataframe tbody tr th:only-of-type {\n",
       "        vertical-align: middle;\n",
       "    }\n",
       "\n",
       "    .dataframe tbody tr th {\n",
       "        vertical-align: top;\n",
       "    }\n",
       "\n",
       "    .dataframe thead th {\n",
       "        text-align: right;\n",
       "    }\n",
       "</style>\n",
       "<table border=\"1\" class=\"dataframe\">\n",
       "  <thead>\n",
       "    <tr style=\"text-align: right;\">\n",
       "      <th></th>\n",
       "      <th>Feature</th>\n",
       "      <th>Ranking</th>\n",
       "    </tr>\n",
       "  </thead>\n",
       "  <tbody>\n",
       "    <tr>\n",
       "      <th>52</th>\n",
       "      <td>tGravityAcc-min()-X</td>\n",
       "      <td>1</td>\n",
       "    </tr>\n",
       "    <tr>\n",
       "      <th>366</th>\n",
       "      <td>fBodyAccJerk-entropy()-X</td>\n",
       "      <td>1</td>\n",
       "    </tr>\n",
       "    <tr>\n",
       "      <th>57</th>\n",
       "      <td>tGravityAcc-energy()-Y</td>\n",
       "      <td>2</td>\n",
       "    </tr>\n",
       "    <tr>\n",
       "      <th>102</th>\n",
       "      <td>tBodyAccJerk-entropy()-X</td>\n",
       "      <td>3</td>\n",
       "    </tr>\n",
       "    <tr>\n",
       "      <th>104</th>\n",
       "      <td>tBodyAccJerk-entropy()-Z</td>\n",
       "      <td>4</td>\n",
       "    </tr>\n",
       "    <tr>\n",
       "      <th>508</th>\n",
       "      <td>fBodyAccMag-energy()</td>\n",
       "      <td>5</td>\n",
       "    </tr>\n",
       "    <tr>\n",
       "      <th>41</th>\n",
       "      <td>tGravityAcc-mean()-Y</td>\n",
       "      <td>6</td>\n",
       "    </tr>\n",
       "    <tr>\n",
       "      <th>140</th>\n",
       "      <td>tBodyGyro-iqr()-Y</td>\n",
       "      <td>7</td>\n",
       "    </tr>\n",
       "    <tr>\n",
       "      <th>445</th>\n",
       "      <td>fBodyGyro-entropy()-X</td>\n",
       "      <td>8</td>\n",
       "    </tr>\n",
       "    <tr>\n",
       "      <th>558</th>\n",
       "      <td>angle(X,gravityMean)</td>\n",
       "      <td>9</td>\n",
       "    </tr>\n",
       "  </tbody>\n",
       "</table>\n",
       "</div>"
      ],
      "text/plain": [
       "                      Feature  Ranking\n",
       "52        tGravityAcc-min()-X        1\n",
       "366  fBodyAccJerk-entropy()-X        1\n",
       "57     tGravityAcc-energy()-Y        2\n",
       "102  tBodyAccJerk-entropy()-X        3\n",
       "104  tBodyAccJerk-entropy()-Z        4\n",
       "508      fBodyAccMag-energy()        5\n",
       "41       tGravityAcc-mean()-Y        6\n",
       "140         tBodyGyro-iqr()-Y        7\n",
       "445     fBodyGyro-entropy()-X        8\n",
       "558      angle(X,gravityMean)        9"
      ]
     },
     "execution_count": 59,
     "metadata": {},
     "output_type": "execute_result"
    }
   ],
   "source": [
    "tabela_ranking = pd.DataFrame({\n",
    "    'Feature': dataframe_x.columns,\n",
    "    'Ranking': rfe.ranking_\n",
    "})\n",
    "tabela_ranking = tabela_ranking.sort_values(by='Ranking')\n",
    "tabela_ranking.head(10)"
   ]
  },
  {
   "cell_type": "code",
   "execution_count": null,
   "id": "83af9b74",
   "metadata": {},
   "outputs": [],
   "source": []
  }
 ],
 "metadata": {
  "kernelspec": {
   "display_name": ".venv (3.13.5)",
   "language": "python",
   "name": "python3"
  },
  "language_info": {
   "codemirror_mode": {
    "name": "ipython",
    "version": 3
   },
   "file_extension": ".py",
   "mimetype": "text/x-python",
   "name": "python",
   "nbconvert_exporter": "python",
   "pygments_lexer": "ipython3",
   "version": "3.13.5"
  }
 },
 "nbformat": 4,
 "nbformat_minor": 5
}
