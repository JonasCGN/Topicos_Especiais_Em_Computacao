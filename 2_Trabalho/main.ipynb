{
 "cells": [
  {
   "cell_type": "code",
   "execution_count": 199,
   "id": "a6b7580b",
   "metadata": {},
   "outputs": [
    {
     "name": "stdout",
     "output_type": "stream",
     "text": [
      "Note: you may need to restart the kernel to use updated packages.\n"
     ]
    },
    {
     "name": "stderr",
     "output_type": "stream",
     "text": [
      "\n",
      "[notice] A new release of pip is available: 25.1.1 -> 25.2\n",
      "[notice] To update, run: python.exe -m pip install --upgrade pip\n"
     ]
    }
   ],
   "source": [
    "%pip install -r requirements.txt -q"
   ]
  },
  {
   "cell_type": "code",
   "execution_count": 200,
   "id": "775873c6",
   "metadata": {},
   "outputs": [],
   "source": [
    "import zipfile\n",
    "import os\n",
    "import pandas as pd\n",
    "import pickle\n",
    "from sklearn.preprocessing import StandardScaler\n",
    "from sklearn.linear_model import LogisticRegression\n",
    "from sklearn.feature_selection import RFE\n",
    "from sklearn.linear_model import Lasso\n",
    "from sklearn.preprocessing import MinMaxScaler\n",
    "from sklearn.decomposition import PCA\n",
    "import matplotlib.pyplot as plt"
   ]
  },
  {
   "cell_type": "code",
   "execution_count": 201,
   "id": "15fd0cd5",
   "metadata": {},
   "outputs": [],
   "source": [
    "os.makedirs('database', exist_ok=True)\n",
    "\n",
    "if not os.path.exists('database/data.rar'):\n",
    "    !curl https://archive.ics.uci.edu/static/public/240/human+activity+recognition+using+smartphones.zip -o database/data.rar\n",
    "\n",
    "if not os.path.exists('database/UCI HAR Dataset.zip'):\n",
    "    with zipfile.ZipFile('database/data.rar', 'r') as zip_ref:\n",
    "        zip_ref.extractall('database/')\n",
    "\n",
    "if not os.path.exists('database/UCI HAR Dataset'):\n",
    "    with zipfile.ZipFile('database/UCI HAR Dataset.zip', 'r') as zip_ref:\n",
    "        zip_ref.extractall('database/')\n"
   ]
  },
  {
   "cell_type": "code",
   "execution_count": 202,
   "id": "bc785ed1",
   "metadata": {},
   "outputs": [],
   "source": [
    "path_labels = './database/UCI HAR Dataset/features.txt'\n",
    "path_x_train = './database/UCI HAR Dataset/train/X_train.txt'\n",
    "path_y_train = './database/UCI HAR Dataset/train/y_train.txt'\n",
    "path_x_test = './database/UCI HAR Dataset/test/X_test.txt'\n",
    "path_y_test = './database/UCI HAR Dataset/test/y_test.txt'"
   ]
  },
  {
   "cell_type": "markdown",
   "id": "6ea70c86",
   "metadata": {},
   "source": [
    "# Treinamento e Test"
   ]
  },
  {
   "cell_type": "code",
   "execution_count": 203,
   "id": "406b6246",
   "metadata": {},
   "outputs": [
    {
     "data": {
      "text/plain": [
       "(561, 7352, 7352, 2947, 2947)"
      ]
     },
     "execution_count": 203,
     "metadata": {},
     "output_type": "execute_result"
    }
   ],
   "source": [
    "labels = []\n",
    "dados_train_x = []\n",
    "dados_train_y = []\n",
    "\n",
    "with open(path_x_train, 'r') as f:\n",
    "    dados_train_x = [line.strip().split() for line in f.readlines()]\n",
    "    \n",
    "with open(path_y_train, 'r') as f:\n",
    "    dados_train_y = [line.strip() for line in f.readlines()]\n",
    "    \n",
    "with open(path_x_test, 'r') as f:\n",
    "    dados_test_x = [line.strip().split() for line in f.readlines()]\n",
    "\n",
    "with open(path_y_test, 'r') as f:\n",
    "    dados_test_y = [line.strip() for line in f.readlines()]\n",
    "\n",
    "with open(path_labels, 'r') as f:\n",
    "    labels = [line.strip().split()[1] for line in f.readlines()]\n",
    "\n",
    "labels.__len__(), dados_train_x.__len__(), dados_train_y.__len__(), dados_test_x.__len__(), dados_test_y.__len__()"
   ]
  },
  {
   "cell_type": "code",
   "execution_count": 204,
   "id": "04e64d97",
   "metadata": {},
   "outputs": [
    {
     "data": {
      "text/plain": [
       "((7352, 561), (2947, 561))"
      ]
     },
     "execution_count": 204,
     "metadata": {},
     "output_type": "execute_result"
    }
   ],
   "source": [
    "dataframe_x_train = pd.DataFrame(dados_train_x, columns=labels)\n",
    "dataframe_x_test = pd.DataFrame(dados_test_x, columns=labels)\n",
    "dataframe_x_train.shape, dataframe_x_test.shape"
   ]
  },
  {
   "cell_type": "code",
   "execution_count": 205,
   "id": "ac414a05",
   "metadata": {},
   "outputs": [
    {
     "data": {
      "text/plain": [
       "((7352, 1), (2947, 1))"
      ]
     },
     "execution_count": 205,
     "metadata": {},
     "output_type": "execute_result"
    }
   ],
   "source": [
    "dataframe_y_train = pd.DataFrame(dados_train_y, columns=['Resultado'])\n",
    "dataframe_y_test = pd.DataFrame(dados_test_y, columns=['Resultado'])\n",
    "dataframe_y_train.shape, dataframe_y_test.shape"
   ]
  },
  {
   "cell_type": "markdown",
   "id": "8e160c0f",
   "metadata": {},
   "source": [
    "# Scaler"
   ]
  },
  {
   "cell_type": "code",
   "execution_count": 206,
   "id": "bffdb182",
   "metadata": {},
   "outputs": [
    {
     "data": {
      "text/plain": [
       "array([ 0.20064157, -0.0636826 , -0.41962845, -0.86881389, -0.93944133])"
      ]
     },
     "execution_count": 206,
     "metadata": {},
     "output_type": "execute_result"
    }
   ],
   "source": [
    "scaler = StandardScaler()\n",
    "X_scaled_train = scaler.fit_transform(dataframe_x_train)\n",
    "X_scaled_test = scaler.transform(dataframe_x_test)\n",
    "X_scaled_train[0][:5]"
   ]
  },
  {
   "cell_type": "markdown",
   "id": "0a5cc39c",
   "metadata": {},
   "source": [
    "# PCA"
   ]
  },
  {
   "cell_type": "code",
   "execution_count": 207,
   "id": "b38b9c62",
   "metadata": {},
   "outputs": [
    {
     "name": "stdout",
     "output_type": "stream",
     "text": [
      "Variância explicada por cada componente: [0.50781172 0.0658068 ]\n",
      "Variância total explicada: 0.5736185255809917\n"
     ]
    }
   ],
   "source": [
    "pca = PCA(n_components=2)\n",
    "X_pca = pca.fit_transform(X_scaled_train)\n",
    "var_explicada = pca.explained_variance_ratio_\n",
    "\n",
    "print(\"Variância explicada por cada componente:\", var_explicada)\n",
    "print(\"Variância total explicada:\", var_explicada.sum())"
   ]
  },
  {
   "cell_type": "code",
   "execution_count": 208,
   "id": "870de3fd",
   "metadata": {},
   "outputs": [
    {
     "data": {
      "image/png": "[encoded data removed]",
      "text/plain": [
       "<Figure size 500x400 with 1 Axes>"
      ]
     },
     "metadata": {},
     "output_type": "display_data"
    }
   ],
   "source": [
    "plt.figure(figsize=(5,4))\n",
    "\n",
    "scatter = plt.scatter(\n",
    "    X_pca[:, 0],\n",
    "    X_pca[:, 1],\n",
    "    c=dataframe_y_train['Resultado'].astype(int),\n",
    ")\n",
    "\n",
    "plt.xlabel(f\"PC1 ({var_explicada[0]*100:.2f}% da variância)\")\n",
    "plt.ylabel(f\"PC2 ({var_explicada[1]*100:.2f}% da variância)\")\n",
    "plt.title(\"Projeção dos dados em 2D usando PCA\")\n",
    "plt.show()\n"
   ]
  },
  {
   "cell_type": "code",
   "execution_count": 209,
   "id": "37174916",
   "metadata": {},
   "outputs": [
    {
     "name": "stdout",
     "output_type": "stream",
     "text": [
      "Número de componentes necessários para 90% da variância: 63\n",
      "Variância explicada com 63 componentes: 0.9005\n"
     ]
    }
   ],
   "source": [
    "pca_full = PCA()\n",
    "pca_full.fit(X_scaled_train)\n",
    "\n",
    "variancia_acumulada = pca_full.explained_variance_ratio_.cumsum()\n",
    "for i, variancia in enumerate(variancia_acumulada):\n",
    "  if variancia >= 0.90:\n",
    "    componentes_90 = i + 1\n",
    "    break\n",
    "\n",
    "print(f\"Número de componentes necessários para 90% da variância: {componentes_90}\")\n",
    "print(f\"Variância explicada com {componentes_90} componentes: {variancia_acumulada[componentes_90-1]:.4f}\")"
   ]
  },
  {
   "cell_type": "code",
   "execution_count": 210,
   "id": "f386db7f",
   "metadata": {},
   "outputs": [
    {
     "data": {
      "application/vnd.microsoft.datawrangler.viewer.v0+json": {
       "columns": [
        {
         "name": "index",
         "rawType": "int64",
         "type": "integer"
        },
        {
         "name": "Variância Explicada",
         "rawType": "float64",
         "type": "float"
        }
       ],
       "ref": "34a0a21f-21e6-4ff3-b8a8-c0ea6ae95dcd",
       "rows": [
        [
         "0",
         "0.5078117229128634"
        ],
        [
         "1",
         "0.06580680266812829"
        ],
        [
         "2",
         "0.02806436774740566"
        ],
        [
         "3",
         "0.02503952745474856"
        ],
        [
         "4",
         "0.01888285014742613"
        ]
       ],
       "shape": {
        "columns": 1,
        "rows": 5
       }
      },
      "text/html": [
       "<div>\n",
       "<style scoped>\n",
       "    .dataframe tbody tr th:only-of-type {\n",
       "        vertical-align: middle;\n",
       "    }\n",
       "\n",
       "    .dataframe tbody tr th {\n",
       "        vertical-align: top;\n",
       "    }\n",
       "\n",
       "    .dataframe thead th {\n",
       "        text-align: right;\n",
       "    }\n",
       "</style>\n",
       "<table border=\"1\" class=\"dataframe\">\n",
       "  <thead>\n",
       "    <tr style=\"text-align: right;\">\n",
       "      <th></th>\n",
       "      <th>Variância Explicada</th>\n",
       "    </tr>\n",
       "  </thead>\n",
       "  <tbody>\n",
       "    <tr>\n",
       "      <th>0</th>\n",
       "      <td>0.507812</td>\n",
       "    </tr>\n",
       "    <tr>\n",
       "      <th>1</th>\n",
       "      <td>0.065807</td>\n",
       "    </tr>\n",
       "    <tr>\n",
       "      <th>2</th>\n",
       "      <td>0.028064</td>\n",
       "    </tr>\n",
       "    <tr>\n",
       "      <th>3</th>\n",
       "      <td>0.025040</td>\n",
       "    </tr>\n",
       "    <tr>\n",
       "      <th>4</th>\n",
       "      <td>0.018883</td>\n",
       "    </tr>\n",
       "  </tbody>\n",
       "</table>\n",
       "</div>"
      ],
      "text/plain": [
       "   Variância Explicada\n",
       "0             0.507812\n",
       "1             0.065807\n",
       "2             0.028064\n",
       "3             0.025040\n",
       "4             0.018883"
      ]
     },
     "execution_count": 210,
     "metadata": {},
     "output_type": "execute_result"
    }
   ],
   "source": [
    "dframe_features = pd.DataFrame({\n",
    "    'Variância Explicada': pca_full.explained_variance_ratio_,\n",
    "})\n",
    "dframe_features[:5]"
   ]
  },
  {
   "cell_type": "code",
   "execution_count": 211,
   "id": "8da05ece",
   "metadata": {},
   "outputs": [
    {
     "data": {
      "text/plain": [
       "<matplotlib.lines.Line2D at 0x22334669810>"
      ]
     },
     "execution_count": 211,
     "metadata": {},
     "output_type": "execute_result"
    },
    {
     "data": {
      "image/png": "[encoded data removed]",
      "text/plain": [
       "<Figure size 500x400 with 1 Axes>"
      ]
     },
     "metadata": {},
     "output_type": "display_data"
    }
   ],
   "source": [
    "plt.figure(figsize=(5,4))\n",
    "plt.plot(range(1, len(variancia_acumulada) + 1), variancia_acumulada, marker='o')\n",
    "plt.axhline(y=0.90, color='r', linestyle='--', label='90% Variância')\n",
    "plt.axvline(x=componentes_90, color='g', linestyle='--', label=f'{componentes_90} Componentes')"
   ]
  },
  {
   "cell_type": "markdown",
   "id": "7b77cebe",
   "metadata": {},
   "source": [
    "# RFE"
   ]
  },
  {
   "cell_type": "code",
   "execution_count": 212,
   "id": "807daad7",
   "metadata": {},
   "outputs": [],
   "source": [
    "x_train = X_scaled_train\n",
    "y_train = dataframe_y_train.values.ravel()\n",
    "\n",
    "x_test = X_scaled_test\n",
    "y_test = dataframe_y_test.values.ravel()"
   ]
  },
  {
   "cell_type": "code",
   "execution_count": 213,
   "id": "9ce9f622",
   "metadata": {},
   "outputs": [],
   "source": [
    "model = LogisticRegression(max_iter=1000)\n",
    "\n",
    "if not os.path.exists('rfe_model.pkl'):\n",
    "  rfe = RFE(estimator=model, n_features_to_select=1, step=1, verbose=0)\n",
    "  rfe.fit(x_train, y_train);\n",
    "  \n",
    "  with open('rfe_model.pkl', 'wb') as f:\n",
    "      pickle.dump(rfe, f)\n",
    "else:\n",
    "  with open('rfe_model.pkl', 'rb') as f:\n",
    "      rfe = pickle.load(f)"
   ]
  },
  {
   "cell_type": "code",
   "execution_count": 214,
   "id": "3a0a2d5e",
   "metadata": {},
   "outputs": [
    {
     "data": {
      "application/vnd.microsoft.datawrangler.viewer.v0+json": {
       "columns": [
        {
         "name": "label",
         "rawType": "object",
         "type": "string"
        },
        {
         "name": "RFE_Ranking",
         "rawType": "int64",
         "type": "integer"
        }
       ],
       "ref": "98571267-8fdb-4a5f-bc51-13a813fe106e",
       "rows": [
        [
         "tGravityAcc-min()-X",
         "1"
        ],
        [
         "fBodyAccJerk-entropy()-X",
         "2"
        ],
        [
         "tGravityAcc-energy()-Y",
         "3"
        ],
        [
         "tBodyAccJerk-entropy()-X",
         "4"
        ],
        [
         "tBodyAccJerk-entropy()-Z",
         "5"
        ],
        [
         "fBodyAccMag-energy()",
         "6"
        ],
        [
         "tGravityAcc-mean()-Y",
         "7"
        ],
        [
         "tBodyGyro-iqr()-Y",
         "8"
        ],
        [
         "fBodyGyro-entropy()-X",
         "9"
        ],
        [
         "angle(X,gravityMean)",
         "10"
        ],
        [
         "tBodyAcc-correlation()-X,Y",
         "11"
        ],
        [
         "tGravityAcc-arCoeff()-Y,1",
         "12"
        ],
        [
         "fBodyGyro-entropy()-Z",
         "13"
        ],
        [
         "tBodyGyroJerk-entropy()-X",
         "14"
        ],
        [
         "tGravityAcc-max()-Y",
         "15"
        ],
        [
         "tBodyGyro-iqr()-Z",
         "16"
        ],
        [
         "tBodyAcc-max()-X",
         "17"
        ],
        [
         "fBodyGyro-max()-Y",
         "18"
        ],
        [
         "tGravityAcc-arCoeff()-X,1",
         "19"
        ],
        [
         "tBodyGyroJerk-iqr()-X",
         "20"
        ],
        [
         "tGravityAccMag-std()",
         "21"
        ],
        [
         "tGravityAcc-mean()-X",
         "22"
        ],
        [
         "fBodyAccJerk-iqr()-Z",
         "23"
        ],
        [
         "tGravityAcc-energy()-X",
         "24"
        ],
        [
         "fBodyBodyAccJerkMag-entropy()",
         "25"
        ],
        [
         "tBodyGyro-correlation()-Y,Z",
         "26"
        ],
        [
         "tBodyAccJerk-min()-X",
         "27"
        ],
        [
         "fBodyAcc-entropy()-Z",
         "28"
        ],
        [
         "tGravityAcc-arCoeff()-Y,2",
         "29"
        ],
        [
         "fBodyAcc-bandsEnergy()-1,8",
         "30"
        ],
        [
         "tBodyAcc-correlation()-Y,Z",
         "31"
        ],
        [
         "tBodyAccJerk-max()-X",
         "32"
        ],
        [
         "tBodyGyro-mean()-X",
         "33"
        ],
        [
         "tGravityAcc-max()-X",
         "34"
        ],
        [
         "fBodyGyro-kurtosis()-Z",
         "35"
        ],
        [
         "angle(Y,gravityMean)",
         "36"
        ],
        [
         "tBodyGyroMag-min()",
         "37"
        ],
        [
         "tGravityAcc-mad()-Z",
         "38"
        ],
        [
         "fBodyAccMag-mad()",
         "39"
        ],
        [
         "tBodyAcc-min()-Z",
         "40"
        ],
        [
         "tBodyAccJerk-max()-Y",
         "41"
        ],
        [
         "tGravityAcc-sma()",
         "42"
        ],
        [
         "fBodyAccJerk-bandsEnergy()-17,24",
         "43"
        ],
        [
         "tBodyGyroJerk-entropy()-Y",
         "44"
        ],
        [
         "fBodyAccMag-max()",
         "45"
        ],
        [
         "tBodyGyroJerk-correlation()-X,Z",
         "46"
        ],
        [
         "tBodyAcc-min()-Y",
         "47"
        ],
        [
         "tBodyGyroJerk-mad()-X",
         "48"
        ],
        [
         "tBodyGyroJerk-iqr()-Z",
         "49"
        ],
        [
         "fBodyGyro-bandsEnergy()-17,24",
         "50"
        ]
       ],
       "shape": {
        "columns": 1,
        "rows": 561
       }
      },
      "text/html": [
       "<div>\n",
       "<style scoped>\n",
       "    .dataframe tbody tr th:only-of-type {\n",
       "        vertical-align: middle;\n",
       "    }\n",
       "\n",
       "    .dataframe tbody tr th {\n",
       "        vertical-align: top;\n",
       "    }\n",
       "\n",
       "    .dataframe thead th {\n",
       "        text-align: right;\n",
       "    }\n",
       "</style>\n",
       "<table border=\"1\" class=\"dataframe\">\n",
       "  <thead>\n",
       "    <tr style=\"text-align: right;\">\n",
       "      <th></th>\n",
       "      <th>RFE_Ranking</th>\n",
       "    </tr>\n",
       "    <tr>\n",
       "      <th>label</th>\n",
       "      <th></th>\n",
       "    </tr>\n",
       "  </thead>\n",
       "  <tbody>\n",
       "    <tr>\n",
       "      <th>tGravityAcc-min()-X</th>\n",
       "      <td>1</td>\n",
       "    </tr>\n",
       "    <tr>\n",
       "      <th>fBodyAccJerk-entropy()-X</th>\n",
       "      <td>2</td>\n",
       "    </tr>\n",
       "    <tr>\n",
       "      <th>tGravityAcc-energy()-Y</th>\n",
       "      <td>3</td>\n",
       "    </tr>\n",
       "    <tr>\n",
       "      <th>tBodyAccJerk-entropy()-X</th>\n",
       "      <td>4</td>\n",
       "    </tr>\n",
       "    <tr>\n",
       "      <th>tBodyAccJerk-entropy()-Z</th>\n",
       "      <td>5</td>\n",
       "    </tr>\n",
       "    <tr>\n",
       "      <th>...</th>\n",
       "      <td>...</td>\n",
       "    </tr>\n",
       "    <tr>\n",
       "      <th>fBodyAcc-bandsEnergy()-1,24</th>\n",
       "      <td>557</td>\n",
       "    </tr>\n",
       "    <tr>\n",
       "      <th>fBodyGyro-bandsEnergy()-49,64</th>\n",
       "      <td>558</td>\n",
       "    </tr>\n",
       "    <tr>\n",
       "      <th>fBodyBodyGyroJerkMag-energy()</th>\n",
       "      <td>559</td>\n",
       "    </tr>\n",
       "    <tr>\n",
       "      <th>fBodyAcc-energy()-Z</th>\n",
       "      <td>560</td>\n",
       "    </tr>\n",
       "    <tr>\n",
       "      <th>fBodyGyro-bandsEnergy()-49,56</th>\n",
       "      <td>561</td>\n",
       "    </tr>\n",
       "  </tbody>\n",
       "</table>\n",
       "<p>561 rows × 1 columns</p>\n",
       "</div>"
      ],
      "text/plain": [
       "                               RFE_Ranking\n",
       "label                                     \n",
       "tGravityAcc-min()-X                      1\n",
       "fBodyAccJerk-entropy()-X                 2\n",
       "tGravityAcc-energy()-Y                   3\n",
       "tBodyAccJerk-entropy()-X                 4\n",
       "tBodyAccJerk-entropy()-Z                 5\n",
       "...                                    ...\n",
       "fBodyAcc-bandsEnergy()-1,24            557\n",
       "fBodyGyro-bandsEnergy()-49,64          558\n",
       "fBodyBodyGyroJerkMag-energy()          559\n",
       "fBodyAcc-energy()-Z                    560\n",
       "fBodyGyro-bandsEnergy()-49,56          561\n",
       "\n",
       "[561 rows x 1 columns]"
      ]
     },
     "execution_count": 214,
     "metadata": {},
     "output_type": "execute_result"
    }
   ],
   "source": [
    "df_rfe_ranking = pd.DataFrame({\n",
    "    \"label\": dataframe_x_train.columns,\n",
    "    \"RFE_Ranking\": rfe.ranking_\n",
    "}).sort_values(by=\"RFE_Ranking\").set_index(\"label\")\n",
    "df_rfe_ranking"
   ]
  },
  {
   "cell_type": "markdown",
   "id": "3806de26",
   "metadata": {},
   "source": [
    "## Performance por numero de atributos"
   ]
  },
  {
   "cell_type": "code",
   "execution_count": 215,
   "id": "7169e53b",
   "metadata": {},
   "outputs": [],
   "source": [
    "n_features = X_scaled_test.shape[1]\n",
    "scores = []\n",
    "\n",
    "for k in range(1, componentes_90 + 1):\n",
    "    x_test_selected = x_test[:, rfe.ranking_ <= k]\n",
    "    y_test_selected = y_test\n",
    "    \n",
    "    x_train_selected = x_train[:, rfe.ranking_ <= k]\n",
    "    y_train_selected = y_train\n",
    "\n",
    "    model_test = LogisticRegression(max_iter=1000)\n",
    "    model_test.fit(x_train_selected, y_train_selected)\n",
    "    \n",
    "    acc = model_test.score(x_test_selected, y_test_selected)\n",
    "    scores.append((k, acc))"
   ]
  },
  {
   "cell_type": "code",
   "execution_count": 216,
   "id": "ee20e616",
   "metadata": {},
   "outputs": [
    {
     "data": {
      "image/png": "[encoded data removed]",
      "text/plain": [
       "<Figure size 640x480 with 1 Axes>"
      ]
     },
     "metadata": {},
     "output_type": "display_data"
    }
   ],
   "source": [
    "df_test = pd.DataFrame(scores, columns=['Num_Features', 'Accuracy'])\n",
    "df_test.plot(x='Num_Features', y='Accuracy', marker='o');"
   ]
  },
  {
   "cell_type": "markdown",
   "id": "c82b32ff",
   "metadata": {},
   "source": [
    "# Lasso"
   ]
  },
  {
   "cell_type": "code",
   "execution_count": 217,
   "id": "6f0295a8",
   "metadata": {},
   "outputs": [],
   "source": [
    "lasso = Lasso(alpha=0.1)\n",
    "lasso.fit(x_train, y_train);"
   ]
  },
  {
   "cell_type": "code",
   "execution_count": 218,
   "id": "b811f7e7",
   "metadata": {},
   "outputs": [
    {
     "data": {
      "application/vnd.microsoft.datawrangler.viewer.v0+json": {
       "columns": [
        {
         "name": "label",
         "rawType": "object",
         "type": "string"
        },
        {
         "name": "Lasso_Coefficients",
         "rawType": "float64",
         "type": "float"
        }
       ],
       "ref": "1071db8c-8175-4142-9365-35711f46f322",
       "rows": [
        [
         "fBodyAccMag-energy()",
         "0.13494409466841475"
        ],
        [
         "fBodyBodyGyroJerkMag-mad()",
         "-0.0"
        ],
        [
         "tBodyAcc-mean()-X",
         "-0.0"
        ],
        [
         "tBodyAcc-mean()-Y",
         "0.0"
        ],
        [
         "tBodyAcc-mean()-Z",
         "0.0"
        ],
        [
         "tBodyAcc-std()-X",
         "-0.0"
        ],
        [
         "tBodyAcc-std()-Y",
         "-0.0"
        ],
        [
         "tBodyAcc-std()-Z",
         "-0.0"
        ],
        [
         "tBodyAcc-mad()-X",
         "-0.0"
        ],
        [
         "tBodyAcc-mad()-Y",
         "-0.0"
        ]
       ],
       "shape": {
        "columns": 1,
        "rows": 10
       }
      },
      "text/html": [
       "<div>\n",
       "<style scoped>\n",
       "    .dataframe tbody tr th:only-of-type {\n",
       "        vertical-align: middle;\n",
       "    }\n",
       "\n",
       "    .dataframe tbody tr th {\n",
       "        vertical-align: top;\n",
       "    }\n",
       "\n",
       "    .dataframe thead th {\n",
       "        text-align: right;\n",
       "    }\n",
       "</style>\n",
       "<table border=\"1\" class=\"dataframe\">\n",
       "  <thead>\n",
       "    <tr style=\"text-align: right;\">\n",
       "      <th></th>\n",
       "      <th>Lasso_Coefficients</th>\n",
       "    </tr>\n",
       "    <tr>\n",
       "      <th>label</th>\n",
       "      <th></th>\n",
       "    </tr>\n",
       "  </thead>\n",
       "  <tbody>\n",
       "    <tr>\n",
       "      <th>fBodyAccMag-energy()</th>\n",
       "      <td>0.134944</td>\n",
       "    </tr>\n",
       "    <tr>\n",
       "      <th>fBodyBodyGyroJerkMag-mad()</th>\n",
       "      <td>-0.000000</td>\n",
       "    </tr>\n",
       "    <tr>\n",
       "      <th>tBodyAcc-mean()-X</th>\n",
       "      <td>-0.000000</td>\n",
       "    </tr>\n",
       "    <tr>\n",
       "      <th>tBodyAcc-mean()-Y</th>\n",
       "      <td>0.000000</td>\n",
       "    </tr>\n",
       "    <tr>\n",
       "      <th>tBodyAcc-mean()-Z</th>\n",
       "      <td>0.000000</td>\n",
       "    </tr>\n",
       "    <tr>\n",
       "      <th>tBodyAcc-std()-X</th>\n",
       "      <td>-0.000000</td>\n",
       "    </tr>\n",
       "    <tr>\n",
       "      <th>tBodyAcc-std()-Y</th>\n",
       "      <td>-0.000000</td>\n",
       "    </tr>\n",
       "    <tr>\n",
       "      <th>tBodyAcc-std()-Z</th>\n",
       "      <td>-0.000000</td>\n",
       "    </tr>\n",
       "    <tr>\n",
       "      <th>tBodyAcc-mad()-X</th>\n",
       "      <td>-0.000000</td>\n",
       "    </tr>\n",
       "    <tr>\n",
       "      <th>tBodyAcc-mad()-Y</th>\n",
       "      <td>-0.000000</td>\n",
       "    </tr>\n",
       "  </tbody>\n",
       "</table>\n",
       "</div>"
      ],
      "text/plain": [
       "                            Lasso_Coefficients\n",
       "label                                         \n",
       "fBodyAccMag-energy()                  0.134944\n",
       "fBodyBodyGyroJerkMag-mad()           -0.000000\n",
       "tBodyAcc-mean()-X                    -0.000000\n",
       "tBodyAcc-mean()-Y                     0.000000\n",
       "tBodyAcc-mean()-Z                     0.000000\n",
       "tBodyAcc-std()-X                     -0.000000\n",
       "tBodyAcc-std()-Y                     -0.000000\n",
       "tBodyAcc-std()-Z                     -0.000000\n",
       "tBodyAcc-mad()-X                     -0.000000\n",
       "tBodyAcc-mad()-Y                     -0.000000"
      ]
     },
     "execution_count": 218,
     "metadata": {},
     "output_type": "execute_result"
    }
   ],
   "source": [
    "df_lasso_coefficients = pd.DataFrame({\n",
    "    \"label\": dataframe_x_train.columns,\n",
    "    \"Lasso_Coefficients\": lasso.coef_\n",
    "}).set_index(\"label\").sort_values(by=\"Lasso_Coefficients\", ascending=False)\n",
    "df_lasso_coefficients.head(10)"
   ]
  },
  {
   "cell_type": "markdown",
   "id": "347bb3bc",
   "metadata": {},
   "source": [
    "## Comparação das variáveis selecionadas"
   ]
  },
  {
   "cell_type": "code",
   "execution_count": 231,
   "id": "0f2c187e",
   "metadata": {},
   "outputs": [
    {
     "data": {
      "application/vnd.microsoft.datawrangler.viewer.v0+json": {
       "columns": [
        {
         "name": "label",
         "rawType": "object",
         "type": "string"
        },
        {
         "name": "RFE_Ranking",
         "rawType": "int64",
         "type": "integer"
        },
        {
         "name": "Lasso_Coefficients",
         "rawType": "float64",
         "type": "float"
        }
       ],
       "ref": "550b8f86-ff24-43e1-ac1e-091d6bc387b0",
       "rows": [
        [
         "tGravityAcc-min()-X",
         "1",
         "-0.5380510189666587"
        ],
        [
         "fBodyAccJerk-entropy()-X",
         "2",
         "-0.0"
        ],
        [
         "tGravityAcc-energy()-Y",
         "3",
         "0.0"
        ],
        [
         "tBodyAccJerk-entropy()-X",
         "4",
         "-0.6503539553686754"
        ],
        [
         "tBodyAccJerk-entropy()-Z",
         "5",
         "-0.3842101028513852"
        ],
        [
         "fBodyAccMag-energy()",
         "6",
         "0.13494409466841475"
        ],
        [
         "tGravityAcc-mean()-Y",
         "7",
         "0.0"
        ],
        [
         "tBodyGyro-iqr()-Y",
         "8",
         "-0.0"
        ],
        [
         "fBodyGyro-entropy()-X",
         "9",
         "-0.0"
        ],
        [
         "angle(X,gravityMean)",
         "10",
         "0.0"
        ]
       ],
       "shape": {
        "columns": 2,
        "rows": 10
       }
      },
      "text/html": [
       "<div>\n",
       "<style scoped>\n",
       "    .dataframe tbody tr th:only-of-type {\n",
       "        vertical-align: middle;\n",
       "    }\n",
       "\n",
       "    .dataframe tbody tr th {\n",
       "        vertical-align: top;\n",
       "    }\n",
       "\n",
       "    .dataframe thead th {\n",
       "        text-align: right;\n",
       "    }\n",
       "</style>\n",
       "<table border=\"1\" class=\"dataframe\">\n",
       "  <thead>\n",
       "    <tr style=\"text-align: right;\">\n",
       "      <th></th>\n",
       "      <th>RFE_Ranking</th>\n",
       "      <th>Lasso_Coefficients</th>\n",
       "    </tr>\n",
       "    <tr>\n",
       "      <th>label</th>\n",
       "      <th></th>\n",
       "      <th></th>\n",
       "    </tr>\n",
       "  </thead>\n",
       "  <tbody>\n",
       "    <tr>\n",
       "      <th>tGravityAcc-min()-X</th>\n",
       "      <td>1</td>\n",
       "      <td>-0.538051</td>\n",
       "    </tr>\n",
       "    <tr>\n",
       "      <th>fBodyAccJerk-entropy()-X</th>\n",
       "      <td>2</td>\n",
       "      <td>-0.000000</td>\n",
       "    </tr>\n",
       "    <tr>\n",
       "      <th>tGravityAcc-energy()-Y</th>\n",
       "      <td>3</td>\n",
       "      <td>0.000000</td>\n",
       "    </tr>\n",
       "    <tr>\n",
       "      <th>tBodyAccJerk-entropy()-X</th>\n",
       "      <td>4</td>\n",
       "      <td>-0.650354</td>\n",
       "    </tr>\n",
       "    <tr>\n",
       "      <th>tBodyAccJerk-entropy()-Z</th>\n",
       "      <td>5</td>\n",
       "      <td>-0.384210</td>\n",
       "    </tr>\n",
       "    <tr>\n",
       "      <th>fBodyAccMag-energy()</th>\n",
       "      <td>6</td>\n",
       "      <td>0.134944</td>\n",
       "    </tr>\n",
       "    <tr>\n",
       "      <th>tGravityAcc-mean()-Y</th>\n",
       "      <td>7</td>\n",
       "      <td>0.000000</td>\n",
       "    </tr>\n",
       "    <tr>\n",
       "      <th>tBodyGyro-iqr()-Y</th>\n",
       "      <td>8</td>\n",
       "      <td>-0.000000</td>\n",
       "    </tr>\n",
       "    <tr>\n",
       "      <th>fBodyGyro-entropy()-X</th>\n",
       "      <td>9</td>\n",
       "      <td>-0.000000</td>\n",
       "    </tr>\n",
       "    <tr>\n",
       "      <th>angle(X,gravityMean)</th>\n",
       "      <td>10</td>\n",
       "      <td>0.000000</td>\n",
       "    </tr>\n",
       "  </tbody>\n",
       "</table>\n",
       "</div>"
      ],
      "text/plain": [
       "                          RFE_Ranking  Lasso_Coefficients\n",
       "label                                                    \n",
       "tGravityAcc-min()-X                 1           -0.538051\n",
       "fBodyAccJerk-entropy()-X            2           -0.000000\n",
       "tGravityAcc-energy()-Y              3            0.000000\n",
       "tBodyAccJerk-entropy()-X            4           -0.650354\n",
       "tBodyAccJerk-entropy()-Z            5           -0.384210\n",
       "fBodyAccMag-energy()                6            0.134944\n",
       "tGravityAcc-mean()-Y                7            0.000000\n",
       "tBodyGyro-iqr()-Y                   8           -0.000000\n",
       "fBodyGyro-entropy()-X               9           -0.000000\n",
       "angle(X,gravityMean)               10            0.000000"
      ]
     },
     "execution_count": 231,
     "metadata": {},
     "output_type": "execute_result"
    }
   ],
   "source": [
    "df_comparison = df_rfe_ranking.join(df_lasso_coefficients, how=\"inner\")\n",
    "df_comparison.head(10)"
   ]
  },
  {
   "cell_type": "code",
   "execution_count": 236,
   "id": "8c7b4c08",
   "metadata": {},
   "outputs": [
    {
     "data": {
      "application/vnd.microsoft.datawrangler.viewer.v0+json": {
       "columns": [
        {
         "name": "index",
         "rawType": "int64",
         "type": "integer"
        },
        {
         "name": "Variavel_Top_RFE",
         "rawType": "object",
         "type": "string"
        },
        {
         "name": "Variavel_Top_Lasso",
         "rawType": "object",
         "type": "string"
        }
       ],
       "ref": "8fa4c000-782f-42e7-ab00-e387bead983a",
       "rows": [
        [
         "0",
         "tGravityAcc-min()-X",
         "fBodyAccMag-energy()"
        ],
        [
         "1",
         "fBodyAccJerk-entropy()-X",
         "fBodyGyro-bandsEnergy()-49,56"
        ],
        [
         "2",
         "tGravityAcc-energy()-Y",
         "fBodyAcc-energy()-Z"
        ],
        [
         "3",
         "tBodyAccJerk-entropy()-X",
         "tGravityAcc-mean()-Y"
        ],
        [
         "4",
         "tBodyAccJerk-entropy()-Z",
         "tBodyGyro-iqr()-Y"
        ],
        [
         "5",
         "fBodyAccMag-energy()",
         "fBodyGyro-entropy()-X"
        ],
        [
         "6",
         "tGravityAcc-mean()-Y",
         "fBodyAccJerk-bandsEnergy()-57,64"
        ],
        [
         "7",
         "tBodyGyro-iqr()-Y",
         "fBodyAccJerk-bandsEnergy()-57,64"
        ],
        [
         "8",
         "fBodyGyro-entropy()-X",
         "fBodyAccJerk-bandsEnergy()-57,64"
        ],
        [
         "9",
         "angle(X,gravityMean)",
         "fBodyAcc-bandsEnergy()-25,48"
        ]
       ],
       "shape": {
        "columns": 2,
        "rows": 10
       }
      },
      "text/html": [
       "<div>\n",
       "<style scoped>\n",
       "    .dataframe tbody tr th:only-of-type {\n",
       "        vertical-align: middle;\n",
       "    }\n",
       "\n",
       "    .dataframe tbody tr th {\n",
       "        vertical-align: top;\n",
       "    }\n",
       "\n",
       "    .dataframe thead th {\n",
       "        text-align: right;\n",
       "    }\n",
       "</style>\n",
       "<table border=\"1\" class=\"dataframe\">\n",
       "  <thead>\n",
       "    <tr style=\"text-align: right;\">\n",
       "      <th></th>\n",
       "      <th>Variavel_Top_RFE</th>\n",
       "      <th>Variavel_Top_Lasso</th>\n",
       "    </tr>\n",
       "  </thead>\n",
       "  <tbody>\n",
       "    <tr>\n",
       "      <th>0</th>\n",
       "      <td>tGravityAcc-min()-X</td>\n",
       "      <td>fBodyAccMag-energy()</td>\n",
       "    </tr>\n",
       "    <tr>\n",
       "      <th>1</th>\n",
       "      <td>fBodyAccJerk-entropy()-X</td>\n",
       "      <td>fBodyGyro-bandsEnergy()-49,56</td>\n",
       "    </tr>\n",
       "    <tr>\n",
       "      <th>2</th>\n",
       "      <td>tGravityAcc-energy()-Y</td>\n",
       "      <td>fBodyAcc-energy()-Z</td>\n",
       "    </tr>\n",
       "    <tr>\n",
       "      <th>3</th>\n",
       "      <td>tBodyAccJerk-entropy()-X</td>\n",
       "      <td>tGravityAcc-mean()-Y</td>\n",
       "    </tr>\n",
       "    <tr>\n",
       "      <th>4</th>\n",
       "      <td>tBodyAccJerk-entropy()-Z</td>\n",
       "      <td>tBodyGyro-iqr()-Y</td>\n",
       "    </tr>\n",
       "    <tr>\n",
       "      <th>5</th>\n",
       "      <td>fBodyAccMag-energy()</td>\n",
       "      <td>fBodyGyro-entropy()-X</td>\n",
       "    </tr>\n",
       "    <tr>\n",
       "      <th>6</th>\n",
       "      <td>tGravityAcc-mean()-Y</td>\n",
       "      <td>fBodyAccJerk-bandsEnergy()-57,64</td>\n",
       "    </tr>\n",
       "    <tr>\n",
       "      <th>7</th>\n",
       "      <td>tBodyGyro-iqr()-Y</td>\n",
       "      <td>fBodyAccJerk-bandsEnergy()-57,64</td>\n",
       "    </tr>\n",
       "    <tr>\n",
       "      <th>8</th>\n",
       "      <td>fBodyGyro-entropy()-X</td>\n",
       "      <td>fBodyAccJerk-bandsEnergy()-57,64</td>\n",
       "    </tr>\n",
       "    <tr>\n",
       "      <th>9</th>\n",
       "      <td>angle(X,gravityMean)</td>\n",
       "      <td>fBodyAcc-bandsEnergy()-25,48</td>\n",
       "    </tr>\n",
       "  </tbody>\n",
       "</table>\n",
       "</div>"
      ],
      "text/plain": [
       "           Variavel_Top_RFE                Variavel_Top_Lasso\n",
       "0       tGravityAcc-min()-X              fBodyAccMag-energy()\n",
       "1  fBodyAccJerk-entropy()-X     fBodyGyro-bandsEnergy()-49,56\n",
       "2    tGravityAcc-energy()-Y               fBodyAcc-energy()-Z\n",
       "3  tBodyAccJerk-entropy()-X              tGravityAcc-mean()-Y\n",
       "4  tBodyAccJerk-entropy()-Z                 tBodyGyro-iqr()-Y\n",
       "5      fBodyAccMag-energy()             fBodyGyro-entropy()-X\n",
       "6      tGravityAcc-mean()-Y  fBodyAccJerk-bandsEnergy()-57,64\n",
       "7         tBodyGyro-iqr()-Y  fBodyAccJerk-bandsEnergy()-57,64\n",
       "8     fBodyGyro-entropy()-X  fBodyAccJerk-bandsEnergy()-57,64\n",
       "9      angle(X,gravityMean)      fBodyAcc-bandsEnergy()-25,48"
      ]
     },
     "execution_count": 236,
     "metadata": {},
     "output_type": "execute_result"
    }
   ],
   "source": [
    "top_rfe_labels = df_comparison.sort_values(by=\"RFE_Ranking\", ascending=True).index\n",
    "top_lasso_labels = df_comparison.sort_values(by=\"Lasso_Coefficients\", ascending=False).index\n",
    "df_ranking = pd.DataFrame({\n",
    "    'Variavel_Top_RFE': top_rfe_labels,\n",
    "    'Variavel_Top_Lasso': top_lasso_labels\n",
    "})\n",
    "df_ranking[:10]"
   ]
  },
  {
   "cell_type": "code",
   "execution_count": 241,
   "id": "793dd9be",
   "metadata": {},
   "outputs": [
    {
     "data": {
      "application/vnd.microsoft.datawrangler.viewer.v0+json": {
       "columns": [
        {
         "name": "label",
         "rawType": "object",
         "type": "string"
        },
        {
         "name": "RFE_Ranking",
         "rawType": "float64",
         "type": "float"
        },
        {
         "name": "Lasso_Coefficients",
         "rawType": "float64",
         "type": "float"
        }
       ],
       "ref": "ace95cee-a1c4-4618-a89e-d674f78edec1",
       "rows": [
        [
         "tGravityAcc-min()-X",
         "1.0",
         "0.8273202838624178"
        ],
        [
         "fBodyAccJerk-entropy()-X",
         "0.9982142857142857",
         "0.0"
        ],
        [
         "tGravityAcc-energy()-Y",
         "0.9964285714285714",
         "0.0"
        ],
        [
         "tBodyAccJerk-entropy()-X",
         "0.9946428571428572",
         "1.0"
        ],
        [
         "tBodyAccJerk-entropy()-Z",
         "0.9928571428571429",
         "0.5907707636429805"
        ]
       ],
       "shape": {
        "columns": 2,
        "rows": 5
       }
      },
      "text/html": [
       "<div>\n",
       "<style scoped>\n",
       "    .dataframe tbody tr th:only-of-type {\n",
       "        vertical-align: middle;\n",
       "    }\n",
       "\n",
       "    .dataframe tbody tr th {\n",
       "        vertical-align: top;\n",
       "    }\n",
       "\n",
       "    .dataframe thead th {\n",
       "        text-align: right;\n",
       "    }\n",
       "</style>\n",
       "<table border=\"1\" class=\"dataframe\">\n",
       "  <thead>\n",
       "    <tr style=\"text-align: right;\">\n",
       "      <th></th>\n",
       "      <th>RFE_Ranking</th>\n",
       "      <th>Lasso_Coefficients</th>\n",
       "    </tr>\n",
       "    <tr>\n",
       "      <th>label</th>\n",
       "      <th></th>\n",
       "      <th></th>\n",
       "    </tr>\n",
       "  </thead>\n",
       "  <tbody>\n",
       "    <tr>\n",
       "      <th>tGravityAcc-min()-X</th>\n",
       "      <td>1.000000</td>\n",
       "      <td>0.827320</td>\n",
       "    </tr>\n",
       "    <tr>\n",
       "      <th>fBodyAccJerk-entropy()-X</th>\n",
       "      <td>0.998214</td>\n",
       "      <td>0.000000</td>\n",
       "    </tr>\n",
       "    <tr>\n",
       "      <th>tGravityAcc-energy()-Y</th>\n",
       "      <td>0.996429</td>\n",
       "      <td>0.000000</td>\n",
       "    </tr>\n",
       "    <tr>\n",
       "      <th>tBodyAccJerk-entropy()-X</th>\n",
       "      <td>0.994643</td>\n",
       "      <td>1.000000</td>\n",
       "    </tr>\n",
       "    <tr>\n",
       "      <th>tBodyAccJerk-entropy()-Z</th>\n",
       "      <td>0.992857</td>\n",
       "      <td>0.590771</td>\n",
       "    </tr>\n",
       "  </tbody>\n",
       "</table>\n",
       "</div>"
      ],
      "text/plain": [
       "                          RFE_Ranking  Lasso_Coefficients\n",
       "label                                                    \n",
       "tGravityAcc-min()-X          1.000000            0.827320\n",
       "fBodyAccJerk-entropy()-X     0.998214            0.000000\n",
       "tGravityAcc-energy()-Y       0.996429            0.000000\n",
       "tBodyAccJerk-entropy()-X     0.994643            1.000000\n",
       "tBodyAccJerk-entropy()-Z     0.992857            0.590771"
      ]
     },
     "execution_count": 241,
     "metadata": {},
     "output_type": "execute_result"
    }
   ],
   "source": [
    "df_comparison_norm = df_comparison.copy()\n",
    "df_comparison_norm[\"Lasso_Coefficients\"] = df_comparison_norm[\"Lasso_Coefficients\"].abs()\n",
    "df_comparison_norm[\"Lasso_Coefficients\"] = (df_comparison_norm[\"Lasso_Coefficients\"] - df_comparison_norm[\"Lasso_Coefficients\"].min()) / (df_comparison_norm[\"Lasso_Coefficients\"].max() - df_comparison_norm[\"Lasso_Coefficients\"].min())\n",
    "df_comparison_norm[\"RFE_Ranking\"] = (df_comparison_norm[\"RFE_Ranking\"] - df_comparison_norm[\"RFE_Ranking\"].min()) / (df_comparison_norm[\"RFE_Ranking\"].max() - df_comparison_norm[\"RFE_Ranking\"].min())\n",
    "df_comparison_norm[\"RFE_Ranking\"] = 1 - df_comparison_norm[\"RFE_Ranking\"]\n",
    "df_comparison_norm[:5]"
   ]
  },
  {
   "cell_type": "code",
   "execution_count": 242,
   "id": "b99cd1f2",
   "metadata": {},
   "outputs": [
    {
     "data": {
      "image/png": "[encoded data removed]",
      "text/plain": [
       "<Figure size 640x480 with 1 Axes>"
      ]
     },
     "metadata": {},
     "output_type": "display_data"
    }
   ],
   "source": [
    "plt.scatter(df_comparison_norm[\"Lasso_Coefficients\"], df_comparison_norm[\"RFE_Ranking\"])\n",
    "plt.xlabel(\"Importância Normalizada (Lasso)\")\n",
    "plt.ylabel(\"Importância Normalizada (RFE)\")\n",
    "plt.title(\"Comparação Lasso vs RFE\")\n",
    "plt.show()"
   ]
  },
  {
   "cell_type": "code",
   "execution_count": 244,
   "id": "c53ac0ba",
   "metadata": {},
   "outputs": [
    {
     "data": {
      "image/png": "[encoded data removed]",
      "text/plain": [
       "<Figure size 500x400 with 1 Axes>"
      ]
     },
     "metadata": {},
     "output_type": "display_data"
    }
   ],
   "source": [
    "coef_nonzero = df_lasso_coefficients[df_lasso_coefficients['Lasso_Coefficients'] != 0]\n",
    "plt.figure(figsize=(5, 4))\n",
    "plt.barh(coef_nonzero.index, coef_nonzero['Lasso_Coefficients'], color='skyblue')\n",
    "plt.title(\"Atributos mantidos pelo Lasso\")\n",
    "plt.xlabel(\"Coeficiente\")\n",
    "plt.ylabel(\"Variável\")\n",
    "plt.show()\n"
   ]
  }
 ],
 "metadata": {
  "kernelspec": {
   "display_name": ".venv (3.13.5)",
   "language": "python",
   "name": "python3"
  },
  "language_info": {
   "codemirror_mode": {
    "name": "ipython",
    "version": 3
   },
   "file_extension": ".py",
   "mimetype": "text/x-python",
   "name": "python",
   "nbconvert_exporter": "python",
   "pygments_lexer": "ipython3",
   "version": "3.13.5"
  }
 },
 "nbformat": 4,
 "nbformat_minor": 5
}
