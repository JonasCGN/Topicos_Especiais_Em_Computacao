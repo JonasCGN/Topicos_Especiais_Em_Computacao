{
 "cells": [
  {
   "cell_type": "code",
   "execution_count": 2,
   "id": "775873c6",
   "metadata": {},
   "outputs": [],
   "source": [
    "import zipfile"
   ]
  },
  {
   "cell_type": "code",
   "execution_count": 7,
   "id": "15fd0cd5",
   "metadata": {},
   "outputs": [
    {
     "name": "stderr",
     "output_type": "stream",
     "text": [
      "<>:2: SyntaxWarning: invalid escape sequence '\\h'\n",
      "<>:3: SyntaxWarning: invalid escape sequence '\\d'\n",
      "<>:2: SyntaxWarning: invalid escape sequence '\\h'\n",
      "<>:3: SyntaxWarning: invalid escape sequence '\\d'\n",
      "C:\\Users\\jonas\\AppData\\Local\\Temp\\ipykernel_17992\\542450039.py:2: SyntaxWarning: invalid escape sequence '\\h'\n",
      "  with zipfile.ZipFile('database\\human+activity+recognition+using+smartphones.zip', 'r') as zip_ref:\n",
      "C:\\Users\\jonas\\AppData\\Local\\Temp\\ipykernel_17992\\542450039.py:3: SyntaxWarning: invalid escape sequence '\\d'\n",
      "  zip_ref.extractall('database\\dataset_UCI_HAR')\n"
     ]
    }
   ],
   "source": [
    "# Extract a zip file\n",
    "with zipfile.ZipFile('database\\human+activity+recognition+using+smartphones.zip', 'r') as zip_ref:\n",
    "    zip_ref.extractall('database\\dataset_UCI_HAR')"
   ]
  },
  {
   "cell_type": "code",
   "execution_count": 8,
   "id": "4fce8411",
   "metadata": {},
   "outputs": [],
   "source": [
    "# Extract a zip file\n",
    "with zipfile.ZipFile(r'database\\dataset_UCI_HAR\\UCI HAR Dataset.zip', 'r') as zip_ref:\n",
    "    zip_ref.extractall(r'database\\dataset_UCI_HAR')"
   ]
  },
  {
   "cell_type": "code",
   "execution_count": null,
   "id": "3c7c40b4",
   "metadata": {},
   "outputs": [],
   "source": [
    "dataset_path = r'database\\dataset_UCI_HAR\\UCI HAR Dataset'"
   ]
  }
 ],
 "metadata": {
  "kernelspec": {
   "display_name": "base",
   "language": "python",
   "name": "python3"
  },
  "language_info": {
   "codemirror_mode": {
    "name": "ipython",
    "version": 3
   },
   "file_extension": ".py",
   "mimetype": "text/x-python",
   "name": "python",
   "nbconvert_exporter": "python",
   "pygments_lexer": "ipython3",
   "version": "3.12.7"
  }
 },
 "nbformat": 4,
 "nbformat_minor": 5
}
